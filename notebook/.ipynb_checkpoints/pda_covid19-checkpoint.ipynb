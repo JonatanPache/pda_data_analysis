{
 "cells": [
  {
   "cell_type": "code",
   "execution_count": 3,
   "id": "cfa38028-f15e-464d-8437-6043c1359b22",
   "metadata": {},
   "outputs": [],
   "source": [
    "import pandas as pd\n",
    "import numpy as np\n",
    "import matplotlib.pyplot as plt\n",
    "import seaborn as sns\n",
    "import os"
   ]
  },
  {
   "cell_type": "code",
   "execution_count": 4,
   "id": "d0eca18f-060d-4058-ac95-e703a0ce51e3",
   "metadata": {},
   "outputs": [
    {
     "data": {
      "text/plain": [
       "['worldometer_data.csv',\n",
       " 'country_wise_latest.csv',\n",
       " 'day_wise.csv',\n",
       " 'full_grouped.csv',\n",
       " 'covid_19_clean_complete.csv',\n",
       " 'usa_country_wise.csv']"
      ]
     },
     "execution_count": 4,
     "metadata": {},
     "output_type": "execute_result"
    }
   ],
   "source": [
    "files = os.listdir('/home/yeat/Documents/cursos/Udemy - Data Analysis Real world use-cases- Hands on Python 2024-1/7 - Project 5 Covid19 Data Analysis/Project 5.. Covid-19 Data Analysis/Covid-19/')\n",
    "files"
   ]
  },
  {
   "cell_type": "code",
   "execution_count": 5,
   "id": "d963efe5-8a6a-404d-857f-7cf7fcad61fb",
   "metadata": {},
   "outputs": [],
   "source": [
    "def read_data(path, filename):\n",
    "    return pd.read_csv(path+'/'+filename)"
   ]
  },
  {
   "cell_type": "code",
   "execution_count": 6,
   "id": "a8912a67-9524-4344-96cd-5a511f179615",
   "metadata": {},
   "outputs": [],
   "source": [
    "path = '/home/yeat/Documents/cursos/Udemy - Data Analysis Real world use-cases- Hands on Python 2024-1/7 - Project 5 Covid19 Data Analysis/Project 5.. Covid-19 Data Analysis/Covid-19/'\n",
    "worldometer_data = read_data(path,files[0])\n",
    "country_wise_latest = read_data(path,files[1])\n",
    "day_wise = read_data(path,files[2])\n",
    "full_grouped = read_data(path,files[3])\n",
    "covid_19_clean_complete = read_data(path,files[4])\n",
    "usa_country_wise = read_data(path,files[5])"
   ]
  },
  {
   "cell_type": "markdown",
   "id": "32a389c2-4ad3-4d60-84f2-557c30ef0276",
   "metadata": {},
   "source": [
    "## 46 - Analysing Total cases Deaths Recovered active cases\n",
    "### 1. Which country has maximum total cases, death, recovered and active cases?\n",
    "### 2. What is the trend of confirmed deaths, recovered, active, cases?"
   ]
  },
  {
   "cell_type": "code",
   "execution_count": 7,
   "id": "88ede2fe-0810-4a90-b2b7-be34361d86d0",
   "metadata": {},
   "outputs": [
    {
     "data": {
      "text/plain": [
       "Index(['Country/Region', 'Continent', 'Population', 'TotalCases', 'NewCases',\n",
       "       'TotalDeaths', 'NewDeaths', 'TotalRecovered', 'NewRecovered',\n",
       "       'ActiveCases', 'Serious,Critical', 'Tot Cases/1M pop', 'Deaths/1M pop',\n",
       "       'TotalTests', 'Tests/1M pop', 'WHO Region'],\n",
       "      dtype='object')"
      ]
     },
     "execution_count": 7,
     "metadata": {},
     "output_type": "execute_result"
    }
   ],
   "source": [
    "worldometer_data.columns"
   ]
  },
  {
   "cell_type": "code",
   "execution_count": null,
   "id": "bbf5a5b5-0fab-49e7-a0f9-4907cbbd56bd",
   "metadata": {},
   "outputs": [],
   "source": [
    "\n",
    "import plotly.express as px"
   ]
  },
  {
   "cell_type": "code",
   "execution_count": null,
   "id": "8adc5414-dbe9-4e5f-a39c-282c7576fd15",
   "metadata": {},
   "outputs": [],
   "source": [
    "columns=['TotalCases','TotalDeaths','TotalRecovered','ActiveCases']\n"
   ]
  },
  {
   "cell_type": "code",
   "execution_count": null,
   "id": "816f3726-8266-4ce9-b1e3-ab59b4bbd110",
   "metadata": {},
   "outputs": [],
   "source": []
  },
  {
   "cell_type": "code",
   "execution_count": null,
   "id": "59a8d4f4-60a8-44f7-8a8e-3b4d7fe248fc",
   "metadata": {},
   "outputs": [],
   "source": []
  }
 ],
 "metadata": {
  "kernelspec": {
   "display_name": "Python 3 (ipykernel)",
   "language": "python",
   "name": "python3"
  },
  "language_info": {
   "codemirror_mode": {
    "name": "ipython",
    "version": 3
   },
   "file_extension": ".py",
   "mimetype": "text/x-python",
   "name": "python",
   "nbconvert_exporter": "python",
   "pygments_lexer": "ipython3",
   "version": "3.13.2"
  }
 },
 "nbformat": 4,
 "nbformat_minor": 5
}
