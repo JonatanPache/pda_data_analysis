{
 "cells": [
  {
   "cell_type": "code",
   "execution_count": 1,
   "id": "8559a4c2-77a1-4ae9-90a4-85707fd22931",
   "metadata": {},
   "outputs": [],
   "source": [
    "import pandas as pd\n",
    "import numpy as np\n",
    "import matplotlib.pyplot as plt\n",
    "import seaborn as sns\n",
    "import chart_studio.plotly as py\n",
    "import plotly.graph_objs as go\n",
    "import plotly.express as px\n",
    "from plotly.offline import download_plotlyjs, init_notebook_mode, plot, iplot"
   ]
  },
  {
   "cell_type": "code",
   "execution_count": 3,
   "id": "c37bb4a3-179e-4534-bffa-4c0737431194",
   "metadata": {},
   "outputs": [
    {
     "data": {
      "application/vnd.microsoft.datawrangler.viewer.v0+json": {
       "columns": [
        {
         "name": "index",
         "rawType": "int64",
         "type": "integer"
        },
        {
         "name": "Date",
         "rawType": "object",
         "type": "string"
        },
        {
         "name": "Open",
         "rawType": "float64",
         "type": "float"
        },
        {
         "name": "High",
         "rawType": "float64",
         "type": "float"
        },
        {
         "name": "Low",
         "rawType": "float64",
         "type": "float"
        },
        {
         "name": "Close",
         "rawType": "float64",
         "type": "float"
        },
        {
         "name": "Volume",
         "rawType": "object",
         "type": "string"
        },
        {
         "name": "Market Cap",
         "rawType": "object",
         "type": "string"
        }
       ],
       "conversionMethod": "pd.DataFrame",
       "ref": "55634703-0d73-468c-ad60-dae9ffd5c94b",
       "rows": [
        [
         "0",
         "Jul 31, 2017",
         "2763.24",
         "2889.62",
         "2720.61",
         "2875.34",
         "860,575,000",
         "45,535,800,000"
        ],
        [
         "1",
         "Jul 30, 2017",
         "2724.39",
         "2758.53",
         "2644.85",
         "2757.18",
         "705,943,000",
         "44,890,700,000"
        ],
        [
         "2",
         "Jul 29, 2017",
         "2807.02",
         "2808.76",
         "2692.8",
         "2726.45",
         "803,746,000",
         "46,246,700,000"
        ]
       ],
       "shape": {
        "columns": 7,
        "rows": 3
       }
      },
      "text/html": [
       "<div>\n",
       "<style scoped>\n",
       "    .dataframe tbody tr th:only-of-type {\n",
       "        vertical-align: middle;\n",
       "    }\n",
       "\n",
       "    .dataframe tbody tr th {\n",
       "        vertical-align: top;\n",
       "    }\n",
       "\n",
       "    .dataframe thead th {\n",
       "        text-align: right;\n",
       "    }\n",
       "</style>\n",
       "<table border=\"1\" class=\"dataframe\">\n",
       "  <thead>\n",
       "    <tr style=\"text-align: right;\">\n",
       "      <th></th>\n",
       "      <th>Date</th>\n",
       "      <th>Open</th>\n",
       "      <th>High</th>\n",
       "      <th>Low</th>\n",
       "      <th>Close</th>\n",
       "      <th>Volume</th>\n",
       "      <th>Market Cap</th>\n",
       "    </tr>\n",
       "  </thead>\n",
       "  <tbody>\n",
       "    <tr>\n",
       "      <th>0</th>\n",
       "      <td>Jul 31, 2017</td>\n",
       "      <td>2763.24</td>\n",
       "      <td>2889.62</td>\n",
       "      <td>2720.61</td>\n",
       "      <td>2875.34</td>\n",
       "      <td>860,575,000</td>\n",
       "      <td>45,535,800,000</td>\n",
       "    </tr>\n",
       "    <tr>\n",
       "      <th>1</th>\n",
       "      <td>Jul 30, 2017</td>\n",
       "      <td>2724.39</td>\n",
       "      <td>2758.53</td>\n",
       "      <td>2644.85</td>\n",
       "      <td>2757.18</td>\n",
       "      <td>705,943,000</td>\n",
       "      <td>44,890,700,000</td>\n",
       "    </tr>\n",
       "    <tr>\n",
       "      <th>2</th>\n",
       "      <td>Jul 29, 2017</td>\n",
       "      <td>2807.02</td>\n",
       "      <td>2808.76</td>\n",
       "      <td>2692.80</td>\n",
       "      <td>2726.45</td>\n",
       "      <td>803,746,000</td>\n",
       "      <td>46,246,700,000</td>\n",
       "    </tr>\n",
       "  </tbody>\n",
       "</table>\n",
       "</div>"
      ],
      "text/plain": [
       "           Date     Open     High      Low    Close       Volume  \\\n",
       "0  Jul 31, 2017  2763.24  2889.62  2720.61  2875.34  860,575,000   \n",
       "1  Jul 30, 2017  2724.39  2758.53  2644.85  2757.18  705,943,000   \n",
       "2  Jul 29, 2017  2807.02  2808.76  2692.80  2726.45  803,746,000   \n",
       "\n",
       "       Market Cap  \n",
       "0  45,535,800,000  \n",
       "1  44,890,700,000  \n",
       "2  46,246,700,000  "
      ]
     },
     "execution_count": 3,
     "metadata": {},
     "output_type": "execute_result"
    }
   ],
   "source": [
    "df = pd.read_csv(r'../data/bitcoin_price_Training - Training.csv')\n",
    "df.head(3)"
   ]
  },
  {
   "cell_type": "code",
   "execution_count": 4,
   "id": "906e8e17-930e-4314-b3a7-a0e38fe44f7b",
   "metadata": {},
   "outputs": [
    {
     "data": {
      "text/plain": [
       "Date           object\n",
       "Open          float64\n",
       "High          float64\n",
       "Low           float64\n",
       "Close         float64\n",
       "Volume         object\n",
       "Market Cap     object\n",
       "dtype: object"
      ]
     },
     "execution_count": 4,
     "metadata": {},
     "output_type": "execute_result"
    }
   ],
   "source": [
    "df.dtypes"
   ]
  },
  {
   "cell_type": "code",
   "execution_count": 5,
   "id": "dad84dcf-d905-43a0-94c9-59dbc65a3a3a",
   "metadata": {},
   "outputs": [
    {
     "data": {
      "application/vnd.microsoft.datawrangler.viewer.v0+json": {
       "columns": [
        {
         "name": "index",
         "rawType": "int64",
         "type": "integer"
        },
        {
         "name": "Date",
         "rawType": "object",
         "type": "string"
        },
        {
         "name": "size",
         "rawType": "int64",
         "type": "integer"
        }
       ],
       "conversionMethod": "pd.DataFrame",
       "ref": "241deb9a-3f52-4460-a457-3efe171819be",
       "rows": [
        [
         "0",
         "Apr 01, 2014",
         "1"
        ],
        [
         "1",
         "Apr 01, 2015",
         "1"
        ],
        [
         "2",
         "Apr 01, 2016",
         "1"
        ],
        [
         "3",
         "Apr 01, 2017",
         "1"
        ],
        [
         "4",
         "Apr 02, 2014",
         "1"
        ],
        [
         "5",
         "Apr 02, 2015",
         "1"
        ],
        [
         "6",
         "Apr 02, 2016",
         "1"
        ],
        [
         "7",
         "Apr 02, 2017",
         "1"
        ],
        [
         "8",
         "Apr 03, 2014",
         "1"
        ],
        [
         "9",
         "Apr 03, 2015",
         "1"
        ],
        [
         "10",
         "Apr 03, 2016",
         "1"
        ],
        [
         "11",
         "Apr 03, 2017",
         "1"
        ],
        [
         "12",
         "Apr 04, 2014",
         "1"
        ],
        [
         "13",
         "Apr 04, 2015",
         "1"
        ],
        [
         "14",
         "Apr 04, 2016",
         "1"
        ],
        [
         "15",
         "Apr 04, 2017",
         "1"
        ],
        [
         "16",
         "Apr 05, 2014",
         "1"
        ],
        [
         "17",
         "Apr 05, 2015",
         "1"
        ],
        [
         "18",
         "Apr 05, 2016",
         "1"
        ],
        [
         "19",
         "Apr 05, 2017",
         "1"
        ],
        [
         "20",
         "Apr 06, 2014",
         "1"
        ],
        [
         "21",
         "Apr 06, 2015",
         "1"
        ],
        [
         "22",
         "Apr 06, 2016",
         "1"
        ],
        [
         "23",
         "Apr 06, 2017",
         "1"
        ],
        [
         "24",
         "Apr 07, 2014",
         "1"
        ],
        [
         "25",
         "Apr 07, 2015",
         "1"
        ],
        [
         "26",
         "Apr 07, 2016",
         "1"
        ],
        [
         "27",
         "Apr 07, 2017",
         "1"
        ],
        [
         "28",
         "Apr 08, 2014",
         "1"
        ],
        [
         "29",
         "Apr 08, 2015",
         "1"
        ],
        [
         "30",
         "Apr 08, 2016",
         "1"
        ],
        [
         "31",
         "Apr 08, 2017",
         "1"
        ],
        [
         "32",
         "Apr 09, 2014",
         "1"
        ],
        [
         "33",
         "Apr 09, 2015",
         "1"
        ],
        [
         "34",
         "Apr 09, 2016",
         "1"
        ],
        [
         "35",
         "Apr 09, 2017",
         "1"
        ],
        [
         "36",
         "Apr 10, 2014",
         "1"
        ],
        [
         "37",
         "Apr 10, 2015",
         "1"
        ],
        [
         "38",
         "Apr 10, 2016",
         "1"
        ],
        [
         "39",
         "Apr 10, 2017",
         "1"
        ],
        [
         "40",
         "Apr 11, 2014",
         "1"
        ],
        [
         "41",
         "Apr 11, 2015",
         "1"
        ],
        [
         "42",
         "Apr 11, 2016",
         "1"
        ],
        [
         "43",
         "Apr 11, 2017",
         "1"
        ],
        [
         "44",
         "Apr 12, 2014",
         "1"
        ],
        [
         "45",
         "Apr 12, 2015",
         "1"
        ],
        [
         "46",
         "Apr 12, 2016",
         "1"
        ],
        [
         "47",
         "Apr 12, 2017",
         "1"
        ],
        [
         "48",
         "Apr 13, 2014",
         "1"
        ],
        [
         "49",
         "Apr 13, 2015",
         "1"
        ]
       ],
       "shape": {
        "columns": 2,
        "rows": 1556
       }
      },
      "text/html": [
       "<div>\n",
       "<style scoped>\n",
       "    .dataframe tbody tr th:only-of-type {\n",
       "        vertical-align: middle;\n",
       "    }\n",
       "\n",
       "    .dataframe tbody tr th {\n",
       "        vertical-align: top;\n",
       "    }\n",
       "\n",
       "    .dataframe thead th {\n",
       "        text-align: right;\n",
       "    }\n",
       "</style>\n",
       "<table border=\"1\" class=\"dataframe\">\n",
       "  <thead>\n",
       "    <tr style=\"text-align: right;\">\n",
       "      <th></th>\n",
       "      <th>Date</th>\n",
       "      <th>size</th>\n",
       "    </tr>\n",
       "  </thead>\n",
       "  <tbody>\n",
       "    <tr>\n",
       "      <th>0</th>\n",
       "      <td>Apr 01, 2014</td>\n",
       "      <td>1</td>\n",
       "    </tr>\n",
       "    <tr>\n",
       "      <th>1</th>\n",
       "      <td>Apr 01, 2015</td>\n",
       "      <td>1</td>\n",
       "    </tr>\n",
       "    <tr>\n",
       "      <th>2</th>\n",
       "      <td>Apr 01, 2016</td>\n",
       "      <td>1</td>\n",
       "    </tr>\n",
       "    <tr>\n",
       "      <th>3</th>\n",
       "      <td>Apr 01, 2017</td>\n",
       "      <td>1</td>\n",
       "    </tr>\n",
       "    <tr>\n",
       "      <th>4</th>\n",
       "      <td>Apr 02, 2014</td>\n",
       "      <td>1</td>\n",
       "    </tr>\n",
       "    <tr>\n",
       "      <th>...</th>\n",
       "      <td>...</td>\n",
       "      <td>...</td>\n",
       "    </tr>\n",
       "    <tr>\n",
       "      <th>1551</th>\n",
       "      <td>Sep 29, 2016</td>\n",
       "      <td>1</td>\n",
       "    </tr>\n",
       "    <tr>\n",
       "      <th>1552</th>\n",
       "      <td>Sep 30, 2013</td>\n",
       "      <td>1</td>\n",
       "    </tr>\n",
       "    <tr>\n",
       "      <th>1553</th>\n",
       "      <td>Sep 30, 2014</td>\n",
       "      <td>1</td>\n",
       "    </tr>\n",
       "    <tr>\n",
       "      <th>1554</th>\n",
       "      <td>Sep 30, 2015</td>\n",
       "      <td>1</td>\n",
       "    </tr>\n",
       "    <tr>\n",
       "      <th>1555</th>\n",
       "      <td>Sep 30, 2016</td>\n",
       "      <td>1</td>\n",
       "    </tr>\n",
       "  </tbody>\n",
       "</table>\n",
       "<p>1556 rows × 2 columns</p>\n",
       "</div>"
      ],
      "text/plain": [
       "              Date  size\n",
       "0     Apr 01, 2014     1\n",
       "1     Apr 01, 2015     1\n",
       "2     Apr 01, 2016     1\n",
       "3     Apr 01, 2017     1\n",
       "4     Apr 02, 2014     1\n",
       "...            ...   ...\n",
       "1551  Sep 29, 2016     1\n",
       "1552  Sep 30, 2013     1\n",
       "1553  Sep 30, 2014     1\n",
       "1554  Sep 30, 2015     1\n",
       "1555  Sep 30, 2016     1\n",
       "\n",
       "[1556 rows x 2 columns]"
      ]
     },
     "execution_count": 5,
     "metadata": {},
     "output_type": "execute_result"
    }
   ],
   "source": [
    "df_grp = df.groupby('Date', as_index=False).size()\n",
    "df_grp"
   ]
  },
  {
   "cell_type": "code",
   "execution_count": 6,
   "id": "fc0c29be-5a0e-4e10-be54-7ea89ca6224c",
   "metadata": {},
   "outputs": [
    {
     "name": "stdout",
     "output_type": "stream",
     "text": [
      "<class 'pandas.core.frame.DataFrame'>\n",
      "RangeIndex: 1556 entries, 0 to 1555\n",
      "Data columns (total 7 columns):\n",
      " #   Column      Non-Null Count  Dtype  \n",
      "---  ------      --------------  -----  \n",
      " 0   Date        1556 non-null   object \n",
      " 1   Open        1556 non-null   float64\n",
      " 2   High        1556 non-null   float64\n",
      " 3   Low         1556 non-null   float64\n",
      " 4   Close       1556 non-null   float64\n",
      " 5   Volume      1556 non-null   object \n",
      " 6   Market Cap  1556 non-null   object \n",
      "dtypes: float64(4), object(3)\n",
      "memory usage: 85.2+ KB\n"
     ]
    }
   ],
   "source": [
    "df.info()"
   ]
  },
  {
   "cell_type": "code",
   "execution_count": 7,
   "id": "6caf2101-ecc5-45bf-b8cb-ff0be586f6e2",
   "metadata": {},
   "outputs": [
    {
     "data": {
      "application/vnd.microsoft.datawrangler.viewer.v0+json": {
       "columns": [
        {
         "name": "index",
         "rawType": "object",
         "type": "string"
        },
        {
         "name": "Open",
         "rawType": "float64",
         "type": "float"
        },
        {
         "name": "High",
         "rawType": "float64",
         "type": "float"
        },
        {
         "name": "Low",
         "rawType": "float64",
         "type": "float"
        },
        {
         "name": "Close",
         "rawType": "float64",
         "type": "float"
        }
       ],
       "conversionMethod": "pd.DataFrame",
       "ref": "8478d9f9-d5bd-45c7-821c-26d1c93bcb00",
       "rows": [
        [
         "count",
         "1556.0",
         "1556.0",
         "1556.0",
         "1556.0"
        ],
        [
         "mean",
         "582.6253277634961",
         "597.9928470437018",
         "567.8514460154242",
         "584.2393958868895"
        ],
        [
         "std",
         "523.1373122926277",
         "542.9928548708796",
         "505.877400634989",
         "525.9044423181118"
        ],
        [
         "min",
         "68.5",
         "74.56",
         "65.53",
         "68.43"
        ],
        [
         "25%",
         "254.2875",
         "260.3275",
         "248.835",
         "254.32"
        ],
        [
         "50%",
         "438.6",
         "447.56",
         "430.57",
         "438.855"
        ],
        [
         "75%",
         "662.4375",
         "674.525",
         "646.735",
         "663.4025"
        ],
        [
         "max",
         "2953.22",
         "2999.91",
         "2840.53",
         "2958.11"
        ]
       ],
       "shape": {
        "columns": 4,
        "rows": 8
       }
      },
      "text/html": [
       "<div>\n",
       "<style scoped>\n",
       "    .dataframe tbody tr th:only-of-type {\n",
       "        vertical-align: middle;\n",
       "    }\n",
       "\n",
       "    .dataframe tbody tr th {\n",
       "        vertical-align: top;\n",
       "    }\n",
       "\n",
       "    .dataframe thead th {\n",
       "        text-align: right;\n",
       "    }\n",
       "</style>\n",
       "<table border=\"1\" class=\"dataframe\">\n",
       "  <thead>\n",
       "    <tr style=\"text-align: right;\">\n",
       "      <th></th>\n",
       "      <th>Open</th>\n",
       "      <th>High</th>\n",
       "      <th>Low</th>\n",
       "      <th>Close</th>\n",
       "    </tr>\n",
       "  </thead>\n",
       "  <tbody>\n",
       "    <tr>\n",
       "      <th>count</th>\n",
       "      <td>1556.000000</td>\n",
       "      <td>1556.000000</td>\n",
       "      <td>1556.000000</td>\n",
       "      <td>1556.000000</td>\n",
       "    </tr>\n",
       "    <tr>\n",
       "      <th>mean</th>\n",
       "      <td>582.625328</td>\n",
       "      <td>597.992847</td>\n",
       "      <td>567.851446</td>\n",
       "      <td>584.239396</td>\n",
       "    </tr>\n",
       "    <tr>\n",
       "      <th>std</th>\n",
       "      <td>523.137312</td>\n",
       "      <td>542.992855</td>\n",
       "      <td>505.877401</td>\n",
       "      <td>525.904442</td>\n",
       "    </tr>\n",
       "    <tr>\n",
       "      <th>min</th>\n",
       "      <td>68.500000</td>\n",
       "      <td>74.560000</td>\n",
       "      <td>65.530000</td>\n",
       "      <td>68.430000</td>\n",
       "    </tr>\n",
       "    <tr>\n",
       "      <th>25%</th>\n",
       "      <td>254.287500</td>\n",
       "      <td>260.327500</td>\n",
       "      <td>248.835000</td>\n",
       "      <td>254.320000</td>\n",
       "    </tr>\n",
       "    <tr>\n",
       "      <th>50%</th>\n",
       "      <td>438.600000</td>\n",
       "      <td>447.560000</td>\n",
       "      <td>430.570000</td>\n",
       "      <td>438.855000</td>\n",
       "    </tr>\n",
       "    <tr>\n",
       "      <th>75%</th>\n",
       "      <td>662.437500</td>\n",
       "      <td>674.525000</td>\n",
       "      <td>646.735000</td>\n",
       "      <td>663.402500</td>\n",
       "    </tr>\n",
       "    <tr>\n",
       "      <th>max</th>\n",
       "      <td>2953.220000</td>\n",
       "      <td>2999.910000</td>\n",
       "      <td>2840.530000</td>\n",
       "      <td>2958.110000</td>\n",
       "    </tr>\n",
       "  </tbody>\n",
       "</table>\n",
       "</div>"
      ],
      "text/plain": [
       "              Open         High          Low        Close\n",
       "count  1556.000000  1556.000000  1556.000000  1556.000000\n",
       "mean    582.625328   597.992847   567.851446   584.239396\n",
       "std     523.137312   542.992855   505.877401   525.904442\n",
       "min      68.500000    74.560000    65.530000    68.430000\n",
       "25%     254.287500   260.327500   248.835000   254.320000\n",
       "50%     438.600000   447.560000   430.570000   438.855000\n",
       "75%     662.437500   674.525000   646.735000   663.402500\n",
       "max    2953.220000  2999.910000  2840.530000  2958.110000"
      ]
     },
     "execution_count": 7,
     "metadata": {},
     "output_type": "execute_result"
    }
   ],
   "source": [
    "df.describe()"
   ]
  },
  {
   "cell_type": "code",
   "execution_count": 8,
   "id": "fd2f216f-c9fa-4338-a0d8-d8046600beb6",
   "metadata": {},
   "outputs": [
    {
     "data": {
      "application/vnd.microsoft.datawrangler.viewer.v0+json": {
       "columns": [
        {
         "name": "index",
         "rawType": "object",
         "type": "string"
        },
        {
         "name": "count",
         "rawType": "float64",
         "type": "float"
        },
        {
         "name": "mean",
         "rawType": "float64",
         "type": "float"
        },
        {
         "name": "std",
         "rawType": "float64",
         "type": "float"
        },
        {
         "name": "min",
         "rawType": "float64",
         "type": "float"
        },
        {
         "name": "25%",
         "rawType": "float64",
         "type": "float"
        },
        {
         "name": "50%",
         "rawType": "float64",
         "type": "float"
        },
        {
         "name": "75%",
         "rawType": "float64",
         "type": "float"
        },
        {
         "name": "max",
         "rawType": "float64",
         "type": "float"
        }
       ],
       "conversionMethod": "pd.DataFrame",
       "ref": "fc9c67bc-64ff-4c4a-93f9-7b01b580a7e0",
       "rows": [
        [
         "Open",
         "1556.0",
         "582.6253277634961",
         "523.1373122926277",
         "68.5",
         "254.2875",
         "438.6",
         "662.4375",
         "2953.22"
        ],
        [
         "High",
         "1556.0",
         "597.9928470437018",
         "542.9928548708796",
         "74.56",
         "260.3275",
         "447.56",
         "674.525",
         "2999.91"
        ],
        [
         "Low",
         "1556.0",
         "567.8514460154242",
         "505.877400634989",
         "65.53",
         "248.835",
         "430.57",
         "646.735",
         "2840.53"
        ],
        [
         "Close",
         "1556.0",
         "584.2393958868895",
         "525.9044423181118",
         "68.43",
         "254.32",
         "438.855",
         "663.4025",
         "2958.11"
        ]
       ],
       "shape": {
        "columns": 8,
        "rows": 4
       }
      },
      "text/html": [
       "<div>\n",
       "<style scoped>\n",
       "    .dataframe tbody tr th:only-of-type {\n",
       "        vertical-align: middle;\n",
       "    }\n",
       "\n",
       "    .dataframe tbody tr th {\n",
       "        vertical-align: top;\n",
       "    }\n",
       "\n",
       "    .dataframe thead th {\n",
       "        text-align: right;\n",
       "    }\n",
       "</style>\n",
       "<table border=\"1\" class=\"dataframe\">\n",
       "  <thead>\n",
       "    <tr style=\"text-align: right;\">\n",
       "      <th></th>\n",
       "      <th>count</th>\n",
       "      <th>mean</th>\n",
       "      <th>std</th>\n",
       "      <th>min</th>\n",
       "      <th>25%</th>\n",
       "      <th>50%</th>\n",
       "      <th>75%</th>\n",
       "      <th>max</th>\n",
       "    </tr>\n",
       "  </thead>\n",
       "  <tbody>\n",
       "    <tr>\n",
       "      <th>Open</th>\n",
       "      <td>1556.0</td>\n",
       "      <td>582.625328</td>\n",
       "      <td>523.137312</td>\n",
       "      <td>68.50</td>\n",
       "      <td>254.2875</td>\n",
       "      <td>438.600</td>\n",
       "      <td>662.4375</td>\n",
       "      <td>2953.22</td>\n",
       "    </tr>\n",
       "    <tr>\n",
       "      <th>High</th>\n",
       "      <td>1556.0</td>\n",
       "      <td>597.992847</td>\n",
       "      <td>542.992855</td>\n",
       "      <td>74.56</td>\n",
       "      <td>260.3275</td>\n",
       "      <td>447.560</td>\n",
       "      <td>674.5250</td>\n",
       "      <td>2999.91</td>\n",
       "    </tr>\n",
       "    <tr>\n",
       "      <th>Low</th>\n",
       "      <td>1556.0</td>\n",
       "      <td>567.851446</td>\n",
       "      <td>505.877401</td>\n",
       "      <td>65.53</td>\n",
       "      <td>248.8350</td>\n",
       "      <td>430.570</td>\n",
       "      <td>646.7350</td>\n",
       "      <td>2840.53</td>\n",
       "    </tr>\n",
       "    <tr>\n",
       "      <th>Close</th>\n",
       "      <td>1556.0</td>\n",
       "      <td>584.239396</td>\n",
       "      <td>525.904442</td>\n",
       "      <td>68.43</td>\n",
       "      <td>254.3200</td>\n",
       "      <td>438.855</td>\n",
       "      <td>663.4025</td>\n",
       "      <td>2958.11</td>\n",
       "    </tr>\n",
       "  </tbody>\n",
       "</table>\n",
       "</div>"
      ],
      "text/plain": [
       "        count        mean         std    min       25%      50%       75%  \\\n",
       "Open   1556.0  582.625328  523.137312  68.50  254.2875  438.600  662.4375   \n",
       "High   1556.0  597.992847  542.992855  74.56  260.3275  447.560  674.5250   \n",
       "Low    1556.0  567.851446  505.877401  65.53  248.8350  430.570  646.7350   \n",
       "Close  1556.0  584.239396  525.904442  68.43  254.3200  438.855  663.4025   \n",
       "\n",
       "           max  \n",
       "Open   2953.22  \n",
       "High   2999.91  \n",
       "Low    2840.53  \n",
       "Close  2958.11  "
      ]
     },
     "execution_count": 8,
     "metadata": {},
     "output_type": "execute_result"
    }
   ],
   "source": [
    "df.describe().T"
   ]
  },
  {
   "cell_type": "markdown",
   "id": "4173a708-6888-4f6c-874a-9d6e7b9290c0",
   "metadata": {
    "jp-MarkdownHeadingCollapsed": true
   },
   "source": [
    "## 2 Data processing"
   ]
  },
  {
   "cell_type": "code",
   "execution_count": 9,
   "id": "c7fe769d-b2df-4567-a430-db8c8b998bba",
   "metadata": {},
   "outputs": [],
   "source": [
    "df['Date'] = df['Date'].astype('datetime64[ns]')"
   ]
  },
  {
   "cell_type": "code",
   "execution_count": 10,
   "id": "77727334-2517-4814-b299-af792d0793fd",
   "metadata": {},
   "outputs": [
    {
     "data": {
      "text/plain": [
       "Timestamp('2013-04-28 00:00:00')"
      ]
     },
     "execution_count": 10,
     "metadata": {},
     "output_type": "execute_result"
    }
   ],
   "source": [
    "df['Date'].min()"
   ]
  },
  {
   "cell_type": "code",
   "execution_count": 11,
   "id": "46c4c1a7-7ad5-4d1a-b876-a5284d8a258c",
   "metadata": {},
   "outputs": [
    {
     "data": {
      "text/plain": [
       "Date          0\n",
       "Open          0\n",
       "High          0\n",
       "Low           0\n",
       "Close         0\n",
       "Volume        0\n",
       "Market Cap    0\n",
       "dtype: int64"
      ]
     },
     "execution_count": 11,
     "metadata": {},
     "output_type": "execute_result"
    }
   ],
   "source": [
    "df.isnull().sum()"
   ]
  },
  {
   "cell_type": "code",
   "execution_count": 12,
   "id": "b457a98e-95f3-44f6-8909-a11cedb85df7",
   "metadata": {},
   "outputs": [
    {
     "data": {
      "text/plain": [
       "np.int64(0)"
      ]
     },
     "execution_count": 12,
     "metadata": {},
     "output_type": "execute_result"
    }
   ],
   "source": [
    "df.duplicated().sum()"
   ]
  },
  {
   "cell_type": "code",
   "execution_count": 13,
   "id": "86b4752b-9346-4d1a-bbd9-dd60dd7845ba",
   "metadata": {},
   "outputs": [
    {
     "data": {
      "application/vnd.microsoft.datawrangler.viewer.v0+json": {
       "columns": [
        {
         "name": "index",
         "rawType": "int64",
         "type": "integer"
        },
        {
         "name": "index",
         "rawType": "int64",
         "type": "integer"
        },
        {
         "name": "Date",
         "rawType": "datetime64[ns]",
         "type": "datetime"
        },
        {
         "name": "Open",
         "rawType": "float64",
         "type": "float"
        },
        {
         "name": "High",
         "rawType": "float64",
         "type": "float"
        },
        {
         "name": "Low",
         "rawType": "float64",
         "type": "float"
        },
        {
         "name": "Close",
         "rawType": "float64",
         "type": "float"
        },
        {
         "name": "Volume",
         "rawType": "object",
         "type": "string"
        },
        {
         "name": "Market Cap",
         "rawType": "object",
         "type": "string"
        }
       ],
       "conversionMethod": "pd.DataFrame",
       "ref": "161632a6-0545-496f-8b4a-e08bc82b73d4",
       "rows": [
        [
         "0",
         "1555",
         "2013-04-28 00:00:00",
         "135.3",
         "135.98",
         "132.1",
         "134.21",
         "-",
         "1,500,520,000"
        ],
        [
         "1",
         "1554",
         "2013-04-29 00:00:00",
         "134.44",
         "147.49",
         "134.0",
         "144.54",
         "-",
         "1,491,160,000"
        ],
        [
         "2",
         "1553",
         "2013-04-30 00:00:00",
         "144.0",
         "146.93",
         "134.05",
         "139.0",
         "-",
         "1,597,780,000"
        ],
        [
         "3",
         "1552",
         "2013-05-01 00:00:00",
         "139.0",
         "139.89",
         "107.72",
         "116.99",
         "-",
         "1,542,820,000"
        ],
        [
         "4",
         "1551",
         "2013-05-02 00:00:00",
         "116.38",
         "125.6",
         "92.28",
         "105.21",
         "-",
         "1,292,190,000"
        ],
        [
         "5",
         "1550",
         "2013-05-03 00:00:00",
         "106.25",
         "108.13",
         "79.1",
         "97.75",
         "-",
         "1,180,070,000"
        ],
        [
         "6",
         "1549",
         "2013-05-04 00:00:00",
         "98.1",
         "115.0",
         "92.5",
         "112.5",
         "-",
         "1,089,890,000"
        ],
        [
         "7",
         "1548",
         "2013-05-05 00:00:00",
         "112.9",
         "118.8",
         "107.14",
         "115.91",
         "-",
         "1,254,760,000"
        ],
        [
         "8",
         "1547",
         "2013-05-06 00:00:00",
         "115.98",
         "124.66",
         "106.64",
         "112.3",
         "-",
         "1,289,470,000"
        ],
        [
         "9",
         "1546",
         "2013-05-07 00:00:00",
         "112.25",
         "113.44",
         "97.7",
         "111.5",
         "-",
         "1,248,470,000"
        ],
        [
         "10",
         "1545",
         "2013-05-08 00:00:00",
         "109.6",
         "115.78",
         "109.6",
         "113.57",
         "-",
         "1,219,450,000"
        ],
        [
         "11",
         "1544",
         "2013-05-09 00:00:00",
         "113.2",
         "113.46",
         "109.26",
         "112.67",
         "-",
         "1,259,980,000"
        ],
        [
         "12",
         "1543",
         "2013-05-10 00:00:00",
         "112.8",
         "122.0",
         "111.55",
         "117.2",
         "-",
         "1,255,970,000"
        ],
        [
         "13",
         "1542",
         "2013-05-11 00:00:00",
         "117.7",
         "118.68",
         "113.01",
         "115.24",
         "-",
         "1,311,050,000"
        ],
        [
         "14",
         "1541",
         "2013-05-12 00:00:00",
         "115.64",
         "117.45",
         "113.44",
         "115.0",
         "-",
         "1,288,630,000"
        ],
        [
         "15",
         "1540",
         "2013-05-13 00:00:00",
         "114.82",
         "118.7",
         "114.5",
         "117.98",
         "-",
         "1,279,980,000"
        ],
        [
         "16",
         "1539",
         "2013-05-14 00:00:00",
         "117.98",
         "119.8",
         "110.25",
         "111.5",
         "-",
         "1,315,720,000"
        ],
        [
         "17",
         "1538",
         "2013-05-15 00:00:00",
         "111.4",
         "115.81",
         "103.5",
         "114.22",
         "-",
         "1,242,760,000"
        ],
        [
         "18",
         "1537",
         "2013-05-16 00:00:00",
         "114.22",
         "118.76",
         "112.2",
         "118.76",
         "-",
         "1,274,620,000"
        ],
        [
         "19",
         "1536",
         "2013-05-17 00:00:00",
         "118.21",
         "125.3",
         "116.57",
         "123.02",
         "-",
         "1,319,590,000"
        ],
        [
         "20",
         "1535",
         "2013-05-18 00:00:00",
         "123.5",
         "125.25",
         "122.3",
         "123.5",
         "-",
         "1,379,140,000"
        ],
        [
         "21",
         "1534",
         "2013-05-19 00:00:00",
         "123.21",
         "124.5",
         "119.57",
         "121.99",
         "-",
         "1,376,370,000"
        ],
        [
         "22",
         "1533",
         "2013-05-20 00:00:00",
         "122.5",
         "123.62",
         "120.12",
         "122.0",
         "-",
         "1,368,910,000"
        ],
        [
         "23",
         "1532",
         "2013-05-21 00:00:00",
         "122.02",
         "123.0",
         "121.21",
         "122.88",
         "-",
         "1,363,940,000"
        ],
        [
         "24",
         "1531",
         "2013-05-22 00:00:00",
         "122.89",
         "124.0",
         "122.0",
         "123.89",
         "-",
         "1,374,130,000"
        ],
        [
         "25",
         "1530",
         "2013-05-23 00:00:00",
         "123.8",
         "126.93",
         "123.1",
         "126.7",
         "-",
         "1,384,780,000"
        ],
        [
         "26",
         "1529",
         "2013-05-24 00:00:00",
         "126.3",
         "133.85",
         "125.72",
         "133.2",
         "-",
         "1,413,300,000"
        ],
        [
         "27",
         "1528",
         "2013-05-25 00:00:00",
         "133.1",
         "133.22",
         "128.9",
         "131.98",
         "-",
         "1,489,950,000"
        ],
        [
         "28",
         "1527",
         "2013-05-26 00:00:00",
         "131.99",
         "136.0",
         "130.62",
         "133.48",
         "-",
         "1,478,030,000"
        ],
        [
         "29",
         "1526",
         "2013-05-27 00:00:00",
         "133.5",
         "135.47",
         "124.7",
         "129.75",
         "-",
         "1,495,520,000"
        ],
        [
         "30",
         "1525",
         "2013-05-28 00:00:00",
         "129.77",
         "130.58",
         "125.6",
         "129.0",
         "-",
         "1,454,310,000"
        ],
        [
         "31",
         "1524",
         "2013-05-29 00:00:00",
         "129.0",
         "132.59",
         "127.66",
         "132.3",
         "-",
         "1,446,190,000"
        ],
        [
         "32",
         "1523",
         "2013-05-30 00:00:00",
         "132.25",
         "132.25",
         "127.0",
         "128.8",
         "-",
         "1,483,180,000"
        ],
        [
         "33",
         "1522",
         "2013-05-31 00:00:00",
         "128.8",
         "129.9",
         "126.4",
         "129.0",
         "-",
         "1,445,050,000"
        ],
        [
         "34",
         "1521",
         "2013-06-01 00:00:00",
         "128.81",
         "129.78",
         "127.2",
         "129.3",
         "-",
         "1,445,800,000"
        ],
        [
         "35",
         "1520",
         "2013-06-02 00:00:00",
         "129.3",
         "129.4",
         "115.05",
         "122.29",
         "-",
         "1,451,930,000"
        ],
        [
         "36",
         "1519",
         "2013-06-03 00:00:00",
         "122.5",
         "122.5",
         "116.0",
         "122.22",
         "-",
         "1,376,180,000"
        ],
        [
         "37",
         "1518",
         "2013-06-04 00:00:00",
         "120.74",
         "123.84",
         "119.1",
         "121.42",
         "-",
         "1,357,020,000"
        ],
        [
         "38",
         "1517",
         "2013-06-05 00:00:00",
         "121.4",
         "123.47",
         "119.9",
         "121.65",
         "-",
         "1,365,110,000"
        ],
        [
         "39",
         "1516",
         "2013-06-06 00:00:00",
         "121.9",
         "123.1",
         "117.25",
         "118.0",
         "-",
         "1,371,300,000"
        ],
        [
         "40",
         "1515",
         "2013-06-07 00:00:00",
         "118.97",
         "119.0",
         "106.42",
         "111.5",
         "-",
         "1,338,880,000"
        ],
        [
         "41",
         "1514",
         "2013-06-08 00:00:00",
         "111.0",
         "111.42",
         "107.3",
         "108.3",
         "-",
         "1,249,630,000"
        ],
        [
         "42",
         "1513",
         "2013-06-09 00:00:00",
         "107.89",
         "108.99",
         "88.5",
         "100.0",
         "-",
         "1,215,130,000"
        ],
        [
         "43",
         "1512",
         "2013-06-10 00:00:00",
         "100.44",
         "110.1",
         "95.0",
         "106.35",
         "-",
         "1,131,570,000"
        ],
        [
         "44",
         "1511",
         "2013-06-11 00:00:00",
         "106.35",
         "109.6",
         "104.0",
         "108.9",
         "-",
         "1,198,640,000"
        ],
        [
         "45",
         "1510",
         "2013-06-12 00:00:00",
         "109.0",
         "111.79",
         "106.73",
         "108.15",
         "-",
         "1,229,000,000"
        ],
        [
         "46",
         "1509",
         "2013-06-13 00:00:00",
         "108.78",
         "110.3",
         "100.53",
         "104.0",
         "-",
         "1,227,030,000"
        ],
        [
         "47",
         "1508",
         "2013-06-14 00:00:00",
         "103.95",
         "104.7",
         "98.0",
         "99.98",
         "-",
         "1,173,060,000"
        ],
        [
         "48",
         "1507",
         "2013-06-15 00:00:00",
         "100.0",
         "103.7",
         "98.0",
         "99.99",
         "-",
         "1,128,950,000"
        ],
        [
         "49",
         "1506",
         "2013-06-16 00:00:00",
         "99.8",
         "101.6",
         "98.95",
         "99.51",
         "-",
         "1,127,120,000"
        ]
       ],
       "shape": {
        "columns": 8,
        "rows": 1556
       }
      },
      "text/html": [
       "<div>\n",
       "<style scoped>\n",
       "    .dataframe tbody tr th:only-of-type {\n",
       "        vertical-align: middle;\n",
       "    }\n",
       "\n",
       "    .dataframe tbody tr th {\n",
       "        vertical-align: top;\n",
       "    }\n",
       "\n",
       "    .dataframe thead th {\n",
       "        text-align: right;\n",
       "    }\n",
       "</style>\n",
       "<table border=\"1\" class=\"dataframe\">\n",
       "  <thead>\n",
       "    <tr style=\"text-align: right;\">\n",
       "      <th></th>\n",
       "      <th>index</th>\n",
       "      <th>Date</th>\n",
       "      <th>Open</th>\n",
       "      <th>High</th>\n",
       "      <th>Low</th>\n",
       "      <th>Close</th>\n",
       "      <th>Volume</th>\n",
       "      <th>Market Cap</th>\n",
       "    </tr>\n",
       "  </thead>\n",
       "  <tbody>\n",
       "    <tr>\n",
       "      <th>0</th>\n",
       "      <td>1555</td>\n",
       "      <td>2013-04-28</td>\n",
       "      <td>135.30</td>\n",
       "      <td>135.98</td>\n",
       "      <td>132.10</td>\n",
       "      <td>134.21</td>\n",
       "      <td>-</td>\n",
       "      <td>1,500,520,000</td>\n",
       "    </tr>\n",
       "    <tr>\n",
       "      <th>1</th>\n",
       "      <td>1554</td>\n",
       "      <td>2013-04-29</td>\n",
       "      <td>134.44</td>\n",
       "      <td>147.49</td>\n",
       "      <td>134.00</td>\n",
       "      <td>144.54</td>\n",
       "      <td>-</td>\n",
       "      <td>1,491,160,000</td>\n",
       "    </tr>\n",
       "    <tr>\n",
       "      <th>2</th>\n",
       "      <td>1553</td>\n",
       "      <td>2013-04-30</td>\n",
       "      <td>144.00</td>\n",
       "      <td>146.93</td>\n",
       "      <td>134.05</td>\n",
       "      <td>139.00</td>\n",
       "      <td>-</td>\n",
       "      <td>1,597,780,000</td>\n",
       "    </tr>\n",
       "    <tr>\n",
       "      <th>3</th>\n",
       "      <td>1552</td>\n",
       "      <td>2013-05-01</td>\n",
       "      <td>139.00</td>\n",
       "      <td>139.89</td>\n",
       "      <td>107.72</td>\n",
       "      <td>116.99</td>\n",
       "      <td>-</td>\n",
       "      <td>1,542,820,000</td>\n",
       "    </tr>\n",
       "    <tr>\n",
       "      <th>4</th>\n",
       "      <td>1551</td>\n",
       "      <td>2013-05-02</td>\n",
       "      <td>116.38</td>\n",
       "      <td>125.60</td>\n",
       "      <td>92.28</td>\n",
       "      <td>105.21</td>\n",
       "      <td>-</td>\n",
       "      <td>1,292,190,000</td>\n",
       "    </tr>\n",
       "    <tr>\n",
       "      <th>...</th>\n",
       "      <td>...</td>\n",
       "      <td>...</td>\n",
       "      <td>...</td>\n",
       "      <td>...</td>\n",
       "      <td>...</td>\n",
       "      <td>...</td>\n",
       "      <td>...</td>\n",
       "      <td>...</td>\n",
       "    </tr>\n",
       "    <tr>\n",
       "      <th>1551</th>\n",
       "      <td>4</td>\n",
       "      <td>2017-07-27</td>\n",
       "      <td>2538.71</td>\n",
       "      <td>2693.32</td>\n",
       "      <td>2529.34</td>\n",
       "      <td>2671.78</td>\n",
       "      <td>789,104,000</td>\n",
       "      <td>41,816,500,000</td>\n",
       "    </tr>\n",
       "    <tr>\n",
       "      <th>1552</th>\n",
       "      <td>3</td>\n",
       "      <td>2017-07-28</td>\n",
       "      <td>2679.73</td>\n",
       "      <td>2897.45</td>\n",
       "      <td>2679.73</td>\n",
       "      <td>2809.01</td>\n",
       "      <td>1,380,100,000</td>\n",
       "      <td>44,144,400,000</td>\n",
       "    </tr>\n",
       "    <tr>\n",
       "      <th>1553</th>\n",
       "      <td>2</td>\n",
       "      <td>2017-07-29</td>\n",
       "      <td>2807.02</td>\n",
       "      <td>2808.76</td>\n",
       "      <td>2692.80</td>\n",
       "      <td>2726.45</td>\n",
       "      <td>803,746,000</td>\n",
       "      <td>46,246,700,000</td>\n",
       "    </tr>\n",
       "    <tr>\n",
       "      <th>1554</th>\n",
       "      <td>1</td>\n",
       "      <td>2017-07-30</td>\n",
       "      <td>2724.39</td>\n",
       "      <td>2758.53</td>\n",
       "      <td>2644.85</td>\n",
       "      <td>2757.18</td>\n",
       "      <td>705,943,000</td>\n",
       "      <td>44,890,700,000</td>\n",
       "    </tr>\n",
       "    <tr>\n",
       "      <th>1555</th>\n",
       "      <td>0</td>\n",
       "      <td>2017-07-31</td>\n",
       "      <td>2763.24</td>\n",
       "      <td>2889.62</td>\n",
       "      <td>2720.61</td>\n",
       "      <td>2875.34</td>\n",
       "      <td>860,575,000</td>\n",
       "      <td>45,535,800,000</td>\n",
       "    </tr>\n",
       "  </tbody>\n",
       "</table>\n",
       "<p>1556 rows × 8 columns</p>\n",
       "</div>"
      ],
      "text/plain": [
       "      index       Date     Open     High      Low    Close         Volume  \\\n",
       "0      1555 2013-04-28   135.30   135.98   132.10   134.21              -   \n",
       "1      1554 2013-04-29   134.44   147.49   134.00   144.54              -   \n",
       "2      1553 2013-04-30   144.00   146.93   134.05   139.00              -   \n",
       "3      1552 2013-05-01   139.00   139.89   107.72   116.99              -   \n",
       "4      1551 2013-05-02   116.38   125.60    92.28   105.21              -   \n",
       "...     ...        ...      ...      ...      ...      ...            ...   \n",
       "1551      4 2017-07-27  2538.71  2693.32  2529.34  2671.78    789,104,000   \n",
       "1552      3 2017-07-28  2679.73  2897.45  2679.73  2809.01  1,380,100,000   \n",
       "1553      2 2017-07-29  2807.02  2808.76  2692.80  2726.45    803,746,000   \n",
       "1554      1 2017-07-30  2724.39  2758.53  2644.85  2757.18    705,943,000   \n",
       "1555      0 2017-07-31  2763.24  2889.62  2720.61  2875.34    860,575,000   \n",
       "\n",
       "          Market Cap  \n",
       "0      1,500,520,000  \n",
       "1      1,491,160,000  \n",
       "2      1,597,780,000  \n",
       "3      1,542,820,000  \n",
       "4      1,292,190,000  \n",
       "...              ...  \n",
       "1551  41,816,500,000  \n",
       "1552  44,144,400,000  \n",
       "1553  46,246,700,000  \n",
       "1554  44,890,700,000  \n",
       "1555  45,535,800,000  \n",
       "\n",
       "[1556 rows x 8 columns]"
      ]
     },
     "execution_count": 13,
     "metadata": {},
     "output_type": "execute_result"
    }
   ],
   "source": [
    "df.sort_index(ascending=False).reset_index()"
   ]
  },
  {
   "cell_type": "code",
   "execution_count": 15,
   "id": "1e5df98a-8151-4edc-b853-2982e18ad92d",
   "metadata": {},
   "outputs": [
    {
     "data": {
      "image/png": "[encoded data removed]",
      "text/plain": [
       "<Figure size 2000x1200 with 4 Axes>"
      ]
     },
     "metadata": {},
     "output_type": "display_data"
    }
   ],
   "source": [
    "plt.figure(figsize=(20,12))\n",
    "for index, col in enumerate(['Open','High','Low','Close'], 1):\n",
    "    plt.subplot(2,2,index)\n",
    "    plt.plot(df['Date'], df[col])\n",
    "    plt.title(col)"
   ]
  },
  {
   "cell_type": "markdown",
   "id": "6af2c225-9596-4999-9508-0cc994ea0414",
   "metadata": {
    "jp-MarkdownHeadingCollapsed": true
   },
   "source": [
    "# 23 - Analysing Bitcoin prices using Candlestick chart"
   ]
  },
  {
   "cell_type": "code",
   "execution_count": 16,
   "id": "fb8f8944-3551-4994-9aaa-8d2e3c3e8ef1",
   "metadata": {},
   "outputs": [],
   "source": [
    "# segment a small data\n",
    "df_sample = df[0:50]"
   ]
  },
  {
   "cell_type": "code",
   "execution_count": 17,
   "id": "d5fc886b-3143-47c0-8fc3-f3d936fde497",
   "metadata": {},
   "outputs": [
    {
     "data": {
      "text/html": [
       "        <script type=\"text/javascript\">\n",
       "        window.PlotlyConfig = {MathJaxConfig: 'local'};\n",
       "        if (window.MathJax && window.MathJax.Hub && window.MathJax.Hub.Config) {window.MathJax.Hub.Config({SVG: {font: \"STIX-Web\"}});}\n",
       "        </script>\n",
       "        <script type=\"module\">import \"https://cdn.plot.ly/plotly-3.0.1.min\"</script>\n",
       "        "
      ]
     },
     "metadata": {},
     "output_type": "display_data"
    }
   ],
   "source": [
    "# Initialize\n",
    "init_notebook_mode(connected=True)"
   ]
  },
  {
   "cell_type": "code",
   "execution_count": 18,
   "id": "fd9ad709-37a2-462b-a8ab-a12d3e11e041",
   "metadata": {},
   "outputs": [],
   "source": [
    "trace = go.Candlestick(x=df_sample['Date'],\n",
    "                       high=df_sample['High'],\n",
    "                       open=df_sample['Open'],\n",
    "                       close=df_sample['Close'],\n",
    "                       low=df_sample['Low'])"
   ]
  },
  {
   "cell_type": "code",
   "execution_count": 19,
   "id": "1d3b848f-28ec-4344-a762-87a75379452b",
   "metadata": {},
   "outputs": [],
   "source": [
    "candle_data = [trace]\n",
    "layout = {\n",
    "    'title': 'Bitcoin Historical Price',\n",
    "    'xaxis': {'title':'Date'}\n",
    "}"
   ]
  },
  {
   "cell_type": "code",
   "execution_count": 20,
   "id": "362b40a4-14e6-49dc-a86f-309e07fb7768",
   "metadata": {},
   "outputs": [],
   "source": [
    "fig_1 = go.Figure(data=candle_data, layout = layout)"
   ]
  },
  {
   "cell_type": "code",
   "execution_count": 21,
   "id": "81cdd6fc-21d7-490b-a545-a7c12a0dec83",
   "metadata": {},
   "outputs": [
    {
     "data": {
      "application/vnd.plotly.v1+json": {
       "config": {
        "plotlyServerURL": "https://plot.ly"
       },
       "data": [
        {
         "close": {
          "bdata": "SOF6FK52pkCPwvUoXIqlQGZmZmbmTKVA7FG4HgXypUDD9Shcj9+kQGZmZmbmwqNAKVyPwvUgpEAfhetRuIWlQM3MzMzMVKVACtejcD30pUDsUbgehdekQDMzMzMzA6ZAj8L1KNzCoUD2KFyPwh2iQLgehevRaKFA4XoUrkcnnkA9CtejcDufQEjhehSucqFAzczMzMxrokBI4XoUrr2iQK5H4XqUQ6JAhetRuB6JokB7FK5H4ayjQEjhehSuFqRAuB6F61Gto0CF61G4HmGkQBSuR+H6U6RA4XoUrkdTpECF61G4HgikQD0K16PwlKNAmpmZmRkFo0BI4XoUrmGjQHE9Ctej1qNArkfhepQdpEBmZmZm5vCjQGZmZmbmXKNAuB6F69E6pEA9CtejcGGkQLgehevRcaVAuB6F69EipUAzMzMzMwKlQK5H4XqUQ6VAMzMzMzM7pECuR+F6lOijQPYoXI/Cv6RAhetRuB6to0Bcj8L1KEGjQArXo3C9lKNA16NwPQo6pUD2KFyPQsekQA==",
          "dtype": "f8"
         },
         "high": {
          "bdata": "CtejcD2TpkDD9ShcD42lQOxRuB6F8aVAZmZmZuaipkBxPQrXowqlQOxRuB6FZaRAXI/C9SigpUDsUbgehbKlQI/C9ShcIKZApHA9CtdcpkC4HoXr0SymQGZmZmZmqaZApHA9Cle6okAfhetROKeiQBSuR+H6bKFA16NwPYoVoEDhehSuR26hQAAAAACAdqJAPQrXo3DyokBSuB6Fa++iQD0K16Pw2qJAuB6F61HSo0AUrkfh+pakQEjhehSuFqRA4XoUrkfIpkA9CtejcHGkQM3MzMxMfaRASOF6FC6PpEAAAAAAAEakQMP1KFyPpKNA16NwPYqmo0AAAAAAgP6jQFyPwvWoOaRAKVyPwvVXpEBmZmZm5vCjQAAAAACAbqRA7FG4HoX0pEB7FK5H4YulQKRwPQpXmqVAFK5H4XpHpUDsUbgeBailQGZmZmbmlqVAMzMzM7PNpEAzMzMzM8ykQHsUrkdh+qRApHA9CtfXo0BSuB6Fa82jQFyPwvWoxaVArkfhehTKpUDsUbgehWqnQA==",
          "dtype": "f8"
         },
         "low": {
          "bdata": "H4XrUThBpUAzMzMzs6mkQJqZmZmZCaVAKVyPwnXvpEBI4XoUrsKjQJqZmZmZJaNAUrgehetho0B7FK5HYRalQHsUrkfhu6RAUrgehWvDpEAzMzMzs3ukQOF6FK7Hu6FAKVyPwnWooUDXo3A9iumgQBSuR+F6Mp5AhetRuB7MnEBxPQrXoxmfQD0K16NwDqFAXI/C9ahJokDhehSuR8ahQIXrUbie8aFA9ihcj0IiokBI4XoULqujQIXrUbieeKNACtejcL2Fo0B7FK5HYSukQJqZmZkZ1aNAMzMzM7P+o0A9Ctej8GCjQEjhehSutaJAKVyPwnXmokCPwvUo3FyjQClcj8L1nKNApHA9Ctdoo0AUrkfh+jmiQK5H4XqUkKJACtejcD3wo0B7FK5HYS6kQArXo3C9JKVAH4XrUbikpEDNzMzMzMikQHE9CtejO6RAw/UoXA/qo0Bcj8L1qKijQFK4HoXraaNAzczMzEyiokBSuB6F60mhQHsUrkfh2aJA9ihcj8K0pECF61G4Hq2jQA==",
          "dtype": "f8"
         },
         "open": {
          "bdata": "FK5H4XqWpUDhehSux0ilQNejcD0K7qVAKVyPwnXvpEBSuB6Fa9WjQNejcD2KI6RAAAAAAACLpUBmZmZmZlmlQDMzMzMz8KVA9ihcj0LZpEC4HoXr0SymQOF6FK7Hu6FAXI/C9SgmokDXo3A9CnOhQBSuR+F6Mp5AUrgehesfn0AK16NwPWyhQEjhehQucaJAZmZmZmbFokDXo3A9ijmiQOF6FK7Ho6JAAAAAAIC6o0AfhetROBmkQNejcD2KsKNASOF6FC5hpEAzMzMzM2CkQArXo3C9VaRAAAAAAAACpECF61G4HoWjQM3MzMzMCKNAMzMzMzN5o0AUrkfhetajQIXrUbgeD6RAw/UoXA/yo0BmZmZm5lyjQHE9CtcjPaRAAAAAAIBepEDXo3A9CmWlQEjhehSuJqVAw/UoXA8GpUCPwvUo3CqlQOxRuB6FPqRAw/UoXA/qo0AzMzMzs76kQOxRuB4FpKNAcT0K1yNLo0Bcj8L1KIejQPYoXI/COaVAuB6F69HxpEA9CtejcBKnQA==",
          "dtype": "f8"
         },
         "type": "candlestick",
         "x": [
          "2017-07-31T00:00:00.000000000",
          "2017-07-30T00:00:00.000000000",
          "2017-07-29T00:00:00.000000000",
          "2017-07-28T00:00:00.000000000",
          "2017-07-27T00:00:00.000000000",
          "2017-07-26T00:00:00.000000000",
          "2017-07-25T00:00:00.000000000",
          "2017-07-24T00:00:00.000000000",
          "2017-07-23T00:00:00.000000000",
          "2017-07-22T00:00:00.000000000",
          "2017-07-21T00:00:00.000000000",
          "2017-07-20T00:00:00.000000000",
          "2017-07-19T00:00:00.000000000",
          "2017-07-18T00:00:00.000000000",
          "2017-07-17T00:00:00.000000000",
          "2017-07-16T00:00:00.000000000",
          "2017-07-15T00:00:00.000000000",
          "2017-07-14T00:00:00.000000000",
          "2017-07-13T00:00:00.000000000",
          "2017-07-12T00:00:00.000000000",
          "2017-07-11T00:00:00.000000000",
          "2017-07-10T00:00:00.000000000",
          "2017-07-09T00:00:00.000000000",
          "2017-07-08T00:00:00.000000000",
          "2017-07-07T00:00:00.000000000",
          "2017-07-06T00:00:00.000000000",
          "2017-07-05T00:00:00.000000000",
          "2017-07-04T00:00:00.000000000",
          "2017-07-03T00:00:00.000000000",
          "2017-07-02T00:00:00.000000000",
          "2017-07-01T00:00:00.000000000",
          "2017-06-30T00:00:00.000000000",
          "2017-06-29T00:00:00.000000000",
          "2017-06-28T00:00:00.000000000",
          "2017-06-27T00:00:00.000000000",
          "2017-06-26T00:00:00.000000000",
          "2017-06-25T00:00:00.000000000",
          "2017-06-24T00:00:00.000000000",
          "2017-06-23T00:00:00.000000000",
          "2017-06-22T00:00:00.000000000",
          "2017-06-21T00:00:00.000000000",
          "2017-06-20T00:00:00.000000000",
          "2017-06-19T00:00:00.000000000",
          "2017-06-18T00:00:00.000000000",
          "2017-06-17T00:00:00.000000000",
          "2017-06-16T00:00:00.000000000",
          "2017-06-15T00:00:00.000000000",
          "2017-06-14T00:00:00.000000000",
          "2017-06-13T00:00:00.000000000",
          "2017-06-12T00:00:00.000000000"
         ]
        }
       ],
       "layout": {
        "template": {
         "data": {
          "bar": [
           {
            "error_x": {
             "color": "#2a3f5f"
            },
            "error_y": {
             "color": "#2a3f5f"
            },
            "marker": {
             "line": {
              "color": "#E5ECF6",
              "width": 0.5
             },
             "pattern": {
              "fillmode": "overlay",
              "size": 10,
              "solidity": 0.2
             }
            },
            "type": "bar"
           }
          ],
          "barpolar": [
           {
            "marker": {
             "line": {
              "color": "#E5ECF6",
              "width": 0.5
             },
             "pattern": {
              "fillmode": "overlay",
              "size": 10,
              "solidity": 0.2
             }
            },
            "type": "barpolar"
           }
          ],
          "carpet": [
           {
            "aaxis": {
             "endlinecolor": "#2a3f5f",
             "gridcolor": "white",
             "linecolor": "white",
             "minorgridcolor": "white",
             "startlinecolor": "#2a3f5f"
            },
            "baxis": {
             "endlinecolor": "#2a3f5f",
             "gridcolor": "white",
             "linecolor": "white",
             "minorgridcolor": "white",
             "startlinecolor": "#2a3f5f"
            },
            "type": "carpet"
           }
          ],
          "choropleth": [
           {
            "colorbar": {
             "outlinewidth": 0,
             "ticks": ""
            },
            "type": "choropleth"
           }
          ],
          "contour": [
           {
            "colorbar": {
             "outlinewidth": 0,
             "ticks": ""
            },
            "colorscale": [
             [
              0,
              "#0d0887"
             ],
             [
              0.1111111111111111,
              "#46039f"
             ],
             [
              0.2222222222222222,
              "#7201a8"
             ],
             [
              0.3333333333333333,
              "#9c179e"
             ],
             [
              0.4444444444444444,
              "#bd3786"
             ],
             [
              0.5555555555555556,
              "#d8576b"
             ],
             [
              0.6666666666666666,
              "#ed7953"
             ],
             [
              0.7777777777777778,
              "#fb9f3a"
             ],
             [
              0.8888888888888888,
              "#fdca26"
             ],
             [
              1,
              "#f0f921"
             ]
            ],
            "type": "contour"
           }
          ],
          "contourcarpet": [
           {
            "colorbar": {
             "outlinewidth": 0,
             "ticks": ""
            },
            "type": "contourcarpet"
           }
          ],
          "heatmap": [
           {
            "colorbar": {
             "outlinewidth": 0,
             "ticks": ""
            },
            "colorscale": [
             [
              0,
              "#0d0887"
             ],
             [
              0.1111111111111111,
              "#46039f"
             ],
             [
              0.2222222222222222,
              "#7201a8"
             ],
             [
              0.3333333333333333,
              "#9c179e"
             ],
             [
              0.4444444444444444,
              "#bd3786"
             ],
             [
              0.5555555555555556,
              "#d8576b"
             ],
             [
              0.6666666666666666,
              "#ed7953"
             ],
             [
              0.7777777777777778,
              "#fb9f3a"
             ],
             [
              0.8888888888888888,
              "#fdca26"
             ],
             [
              1,
              "#f0f921"
             ]
            ],
            "type": "heatmap"
           }
          ],
          "histogram": [
           {
            "marker": {
             "pattern": {
              "fillmode": "overlay",
              "size": 10,
              "solidity": 0.2
             }
            },
            "type": "histogram"
           }
          ],
          "histogram2d": [
           {
            "colorbar": {
             "outlinewidth": 0,
             "ticks": ""
            },
            "colorscale": [
             [
              0,
              "#0d0887"
             ],
             [
              0.1111111111111111,
              "#46039f"
             ],
             [
              0.2222222222222222,
              "#7201a8"
             ],
             [
              0.3333333333333333,
              "#9c179e"
             ],
             [
              0.4444444444444444,
              "#bd3786"
             ],
             [
              0.5555555555555556,
              "#d8576b"
             ],
             [
              0.6666666666666666,
              "#ed7953"
             ],
             [
              0.7777777777777778,
              "#fb9f3a"
             ],
             [
              0.8888888888888888,
              "#fdca26"
             ],
             [
              1,
              "#f0f921"
             ]
            ],
            "type": "histogram2d"
           }
          ],
          "histogram2dcontour": [
           {
            "colorbar": {
             "outlinewidth": 0,
             "ticks": ""
            },
            "colorscale": [
             [
              0,
              "#0d0887"
             ],
             [
              0.1111111111111111,
              "#46039f"
             ],
             [
              0.2222222222222222,
              "#7201a8"
             ],
             [
              0.3333333333333333,
              "#9c179e"
             ],
             [
              0.4444444444444444,
              "#bd3786"
             ],
             [
              0.5555555555555556,
              "#d8576b"
             ],
             [
              0.6666666666666666,
              "#ed7953"
             ],
             [
              0.7777777777777778,
              "#fb9f3a"
             ],
             [
              0.8888888888888888,
              "#fdca26"
             ],
             [
              1,
              "#f0f921"
             ]
            ],
            "type": "histogram2dcontour"
           }
          ],
          "mesh3d": [
           {
            "colorbar": {
             "outlinewidth": 0,
             "ticks": ""
            },
            "type": "mesh3d"
           }
          ],
          "parcoords": [
           {
            "line": {
             "colorbar": {
              "outlinewidth": 0,
              "ticks": ""
             }
            },
            "type": "parcoords"
           }
          ],
          "pie": [
           {
            "automargin": true,
            "type": "pie"
           }
          ],
          "scatter": [
           {
            "fillpattern": {
             "fillmode": "overlay",
             "size": 10,
             "solidity": 0.2
            },
            "type": "scatter"
           }
          ],
          "scatter3d": [
           {
            "line": {
             "colorbar": {
              "outlinewidth": 0,
              "ticks": ""
             }
            },
            "marker": {
             "colorbar": {
              "outlinewidth": 0,
              "ticks": ""
             }
            },
            "type": "scatter3d"
           }
          ],
          "scattercarpet": [
           {
            "marker": {
             "colorbar": {
              "outlinewidth": 0,
              "ticks": ""
             }
            },
            "type": "scattercarpet"
           }
          ],
          "scattergeo": [
           {
            "marker": {
             "colorbar": {
              "outlinewidth": 0,
              "ticks": ""
             }
            },
            "type": "scattergeo"
           }
          ],
          "scattergl": [
           {
            "marker": {
             "colorbar": {
              "outlinewidth": 0,
              "ticks": ""
             }
            },
            "type": "scattergl"
           }
          ],
          "scattermap": [
           {
            "marker": {
             "colorbar": {
              "outlinewidth": 0,
              "ticks": ""
             }
            },
            "type": "scattermap"
           }
          ],
          "scattermapbox": [
           {
            "marker": {
             "colorbar": {
              "outlinewidth": 0,
              "ticks": ""
             }
            },
            "type": "scattermapbox"
           }
          ],
          "scatterpolar": [
           {
            "marker": {
             "colorbar": {
              "outlinewidth": 0,
              "ticks": ""
             }
            },
            "type": "scatterpolar"
           }
          ],
          "scatterpolargl": [
           {
            "marker": {
             "colorbar": {
              "outlinewidth": 0,
              "ticks": ""
             }
            },
            "type": "scatterpolargl"
           }
          ],
          "scatterternary": [
           {
            "marker": {
             "colorbar": {
              "outlinewidth": 0,
              "ticks": ""
             }
            },
            "type": "scatterternary"
           }
          ],
          "surface": [
           {
            "colorbar": {
             "outlinewidth": 0,
             "ticks": ""
            },
            "colorscale": [
             [
              0,
              "#0d0887"
             ],
             [
              0.1111111111111111,
              "#46039f"
             ],
             [
              0.2222222222222222,
              "#7201a8"
             ],
             [
              0.3333333333333333,
              "#9c179e"
             ],
             [
              0.4444444444444444,
              "#bd3786"
             ],
             [
              0.5555555555555556,
              "#d8576b"
             ],
             [
              0.6666666666666666,
              "#ed7953"
             ],
             [
              0.7777777777777778,
              "#fb9f3a"
             ],
             [
              0.8888888888888888,
              "#fdca26"
             ],
             [
              1,
              "#f0f921"
             ]
            ],
            "type": "surface"
           }
          ],
          "table": [
           {
            "cells": {
             "fill": {
              "color": "#EBF0F8"
             },
             "line": {
              "color": "white"
             }
            },
            "header": {
             "fill": {
              "color": "#C8D4E3"
             },
             "line": {
              "color": "white"
             }
            },
            "type": "table"
           }
          ]
         },
         "layout": {
          "annotationdefaults": {
           "arrowcolor": "#2a3f5f",
           "arrowhead": 0,
           "arrowwidth": 1
          },
          "autotypenumbers": "strict",
          "coloraxis": {
           "colorbar": {
            "outlinewidth": 0,
            "ticks": ""
           }
          },
          "colorscale": {
           "diverging": [
            [
             0,
             "#8e0152"
            ],
            [
             0.1,
             "#c51b7d"
            ],
            [
             0.2,
             "#de77ae"
            ],
            [
             0.3,
             "#f1b6da"
            ],
            [
             0.4,
             "#fde0ef"
            ],
            [
             0.5,
             "#f7f7f7"
            ],
            [
             0.6,
             "#e6f5d0"
            ],
            [
             0.7,
             "#b8e186"
            ],
            [
             0.8,
             "#7fbc41"
            ],
            [
             0.9,
             "#4d9221"
            ],
            [
             1,
             "#276419"
            ]
           ],
           "sequential": [
            [
             0,
             "#0d0887"
            ],
            [
             0.1111111111111111,
             "#46039f"
            ],
            [
             0.2222222222222222,
             "#7201a8"
            ],
            [
             0.3333333333333333,
             "#9c179e"
            ],
            [
             0.4444444444444444,
             "#bd3786"
            ],
            [
             0.5555555555555556,
             "#d8576b"
            ],
            [
             0.6666666666666666,
             "#ed7953"
            ],
            [
             0.7777777777777778,
             "#fb9f3a"
            ],
            [
             0.8888888888888888,
             "#fdca26"
            ],
            [
             1,
             "#f0f921"
            ]
           ],
           "sequentialminus": [
            [
             0,
             "#0d0887"
            ],
            [
             0.1111111111111111,
             "#46039f"
            ],
            [
             0.2222222222222222,
             "#7201a8"
            ],
            [
             0.3333333333333333,
             "#9c179e"
            ],
            [
             0.4444444444444444,
             "#bd3786"
            ],
            [
             0.5555555555555556,
             "#d8576b"
            ],
            [
             0.6666666666666666,
             "#ed7953"
            ],
            [
             0.7777777777777778,
             "#fb9f3a"
            ],
            [
             0.8888888888888888,
             "#fdca26"
            ],
            [
             1,
             "#f0f921"
            ]
           ]
          },
          "colorway": [
           "#636efa",
           "#EF553B",
           "#00cc96",
           "#ab63fa",
           "#FFA15A",
           "#19d3f3",
           "#FF6692",
           "#B6E880",
           "#FF97FF",
           "#FECB52"
          ],
          "font": {
           "color": "#2a3f5f"
          },
          "geo": {
           "bgcolor": "white",
           "lakecolor": "white",
           "landcolor": "#E5ECF6",
           "showlakes": true,
           "showland": true,
           "subunitcolor": "white"
          },
          "hoverlabel": {
           "align": "left"
          },
          "hovermode": "closest",
          "mapbox": {
           "style": "light"
          },
          "paper_bgcolor": "white",
          "plot_bgcolor": "#E5ECF6",
          "polar": {
           "angularaxis": {
            "gridcolor": "white",
            "linecolor": "white",
            "ticks": ""
           },
           "bgcolor": "#E5ECF6",
           "radialaxis": {
            "gridcolor": "white",
            "linecolor": "white",
            "ticks": ""
           }
          },
          "scene": {
           "xaxis": {
            "backgroundcolor": "#E5ECF6",
            "gridcolor": "white",
            "gridwidth": 2,
            "linecolor": "white",
            "showbackground": true,
            "ticks": "",
            "zerolinecolor": "white"
           },
           "yaxis": {
            "backgroundcolor": "#E5ECF6",
            "gridcolor": "white",
            "gridwidth": 2,
            "linecolor": "white",
            "showbackground": true,
            "ticks": "",
            "zerolinecolor": "white"
           },
           "zaxis": {
            "backgroundcolor": "#E5ECF6",
            "gridcolor": "white",
            "gridwidth": 2,
            "linecolor": "white",
            "showbackground": true,
            "ticks": "",
            "zerolinecolor": "white"
           }
          },
          "shapedefaults": {
           "line": {
            "color": "#2a3f5f"
           }
          },
          "ternary": {
           "aaxis": {
            "gridcolor": "white",
            "linecolor": "white",
            "ticks": ""
           },
           "baxis": {
            "gridcolor": "white",
            "linecolor": "white",
            "ticks": ""
           },
           "bgcolor": "#E5ECF6",
           "caxis": {
            "gridcolor": "white",
            "linecolor": "white",
            "ticks": ""
           }
          },
          "title": {
           "x": 0.05
          },
          "xaxis": {
           "automargin": true,
           "gridcolor": "white",
           "linecolor": "white",
           "ticks": "",
           "title": {
            "standoff": 15
           },
           "zerolinecolor": "white",
           "zerolinewidth": 2
          },
          "yaxis": {
           "automargin": true,
           "gridcolor": "white",
           "linecolor": "white",
           "ticks": "",
           "title": {
            "standoff": 15
           },
           "zerolinecolor": "white",
           "zerolinewidth": 2
          }
         }
        },
        "title": {
         "text": "Bitcoin Historical Price"
        },
        "xaxis": {
         "rangeslider": {
          "visible": false
         },
         "title": {
          "text": "Date"
         }
        }
       }
      },
      "text/html": [
       "<div>            <script src=\"https://cdnjs.cloudflare.com/ajax/libs/mathjax/2.7.5/MathJax.js?config=TeX-AMS-MML_SVG\"></script><script type=\"text/javascript\">if (window.MathJax && window.MathJax.Hub && window.MathJax.Hub.Config) {window.MathJax.Hub.Config({SVG: {font: \"STIX-Web\"}});}</script>                <script type=\"text/javascript\">window.PlotlyConfig = {MathJaxConfig: 'local'};</script>\n",
       "        <script charset=\"utf-8\" src=\"https://cdn.plot.ly/plotly-3.0.1.min.js\"></script>                <div id=\"62322836-657d-48d8-952b-f5c2c86d3037\" class=\"plotly-graph-div\" style=\"height:525px; width:100%;\"></div>            <script type=\"text/javascript\">                window.PLOTLYENV=window.PLOTLYENV || {};                                if (document.getElementById(\"62322836-657d-48d8-952b-f5c2c86d3037\")) {                    Plotly.newPlot(                        \"62322836-657d-48d8-952b-f5c2c86d3037\",                        [{\"close\":{\"dtype\":\"f8\",\"bdata\":\"SOF6FK52pkCPwvUoXIqlQGZmZmbmTKVA7FG4HgXypUDD9Shcj9+kQGZmZmbmwqNAKVyPwvUgpEAfhetRuIWlQM3MzMzMVKVACtejcD30pUDsUbgehdekQDMzMzMzA6ZAj8L1KNzCoUD2KFyPwh2iQLgehevRaKFA4XoUrkcnnkA9CtejcDufQEjhehSucqFAzczMzMxrokBI4XoUrr2iQK5H4XqUQ6JAhetRuB6JokB7FK5H4ayjQEjhehSuFqRAuB6F61Gto0CF61G4HmGkQBSuR+H6U6RA4XoUrkdTpECF61G4HgikQD0K16PwlKNAmpmZmRkFo0BI4XoUrmGjQHE9Ctej1qNArkfhepQdpEBmZmZm5vCjQGZmZmbmXKNAuB6F69E6pEA9CtejcGGkQLgehevRcaVAuB6F69EipUAzMzMzMwKlQK5H4XqUQ6VAMzMzMzM7pECuR+F6lOijQPYoXI\\u002fCv6RAhetRuB6to0Bcj8L1KEGjQArXo3C9lKNA16NwPQo6pUD2KFyPQsekQA==\"},\"high\":{\"dtype\":\"f8\",\"bdata\":\"CtejcD2TpkDD9ShcD42lQOxRuB6F8aVAZmZmZuaipkBxPQrXowqlQOxRuB6FZaRAXI\\u002fC9SigpUDsUbgehbKlQI\\u002fC9ShcIKZApHA9CtdcpkC4HoXr0SymQGZmZmZmqaZApHA9Cle6okAfhetROKeiQBSuR+H6bKFA16NwPYoVoEDhehSuR26hQAAAAACAdqJAPQrXo3DyokBSuB6Fa++iQD0K16Pw2qJAuB6F61HSo0AUrkfh+pakQEjhehSuFqRA4XoUrkfIpkA9CtejcHGkQM3MzMxMfaRASOF6FC6PpEAAAAAAAEakQMP1KFyPpKNA16NwPYqmo0AAAAAAgP6jQFyPwvWoOaRAKVyPwvVXpEBmZmZm5vCjQAAAAACAbqRA7FG4HoX0pEB7FK5H4YulQKRwPQpXmqVAFK5H4XpHpUDsUbgeBailQGZmZmbmlqVAMzMzM7PNpEAzMzMzM8ykQHsUrkdh+qRApHA9CtfXo0BSuB6Fa82jQFyPwvWoxaVArkfhehTKpUDsUbgehWqnQA==\"},\"low\":{\"dtype\":\"f8\",\"bdata\":\"H4XrUThBpUAzMzMzs6mkQJqZmZmZCaVAKVyPwnXvpEBI4XoUrsKjQJqZmZmZJaNAUrgehetho0B7FK5HYRalQHsUrkfhu6RAUrgehWvDpEAzMzMzs3ukQOF6FK7Hu6FAKVyPwnWooUDXo3A9iumgQBSuR+F6Mp5AhetRuB7MnEBxPQrXoxmfQD0K16NwDqFAXI\\u002fC9ahJokDhehSuR8ahQIXrUbie8aFA9ihcj0IiokBI4XoULqujQIXrUbieeKNACtejcL2Fo0B7FK5HYSukQJqZmZkZ1aNAMzMzM7P+o0A9Ctej8GCjQEjhehSutaJAKVyPwnXmokCPwvUo3FyjQClcj8L1nKNApHA9Ctdoo0AUrkfh+jmiQK5H4XqUkKJACtejcD3wo0B7FK5HYS6kQArXo3C9JKVAH4XrUbikpEDNzMzMzMikQHE9CtejO6RAw\\u002fUoXA\\u002fqo0Bcj8L1qKijQFK4HoXraaNAzczMzEyiokBSuB6F60mhQHsUrkfh2aJA9ihcj8K0pECF61G4Hq2jQA==\"},\"open\":{\"dtype\":\"f8\",\"bdata\":\"FK5H4XqWpUDhehSux0ilQNejcD0K7qVAKVyPwnXvpEBSuB6Fa9WjQNejcD2KI6RAAAAAAACLpUBmZmZmZlmlQDMzMzMz8KVA9ihcj0LZpEC4HoXr0SymQOF6FK7Hu6FAXI\\u002fC9SgmokDXo3A9CnOhQBSuR+F6Mp5AUrgehesfn0AK16NwPWyhQEjhehQucaJAZmZmZmbFokDXo3A9ijmiQOF6FK7Ho6JAAAAAAIC6o0AfhetROBmkQNejcD2KsKNASOF6FC5hpEAzMzMzM2CkQArXo3C9VaRAAAAAAAACpECF61G4HoWjQM3MzMzMCKNAMzMzMzN5o0AUrkfhetajQIXrUbgeD6RAw\\u002fUoXA\\u002fyo0BmZmZm5lyjQHE9CtcjPaRAAAAAAIBepEDXo3A9CmWlQEjhehSuJqVAw\\u002fUoXA8GpUCPwvUo3CqlQOxRuB6FPqRAw\\u002fUoXA\\u002fqo0AzMzMzs76kQOxRuB4FpKNAcT0K1yNLo0Bcj8L1KIejQPYoXI\\u002fCOaVAuB6F69HxpEA9CtejcBKnQA==\"},\"x\":[\"2017-07-31T00:00:00.000000000\",\"2017-07-30T00:00:00.000000000\",\"2017-07-29T00:00:00.000000000\",\"2017-07-28T00:00:00.000000000\",\"2017-07-27T00:00:00.000000000\",\"2017-07-26T00:00:00.000000000\",\"2017-07-25T00:00:00.000000000\",\"2017-07-24T00:00:00.000000000\",\"2017-07-23T00:00:00.000000000\",\"2017-07-22T00:00:00.000000000\",\"2017-07-21T00:00:00.000000000\",\"2017-07-20T00:00:00.000000000\",\"2017-07-19T00:00:00.000000000\",\"2017-07-18T00:00:00.000000000\",\"2017-07-17T00:00:00.000000000\",\"2017-07-16T00:00:00.000000000\",\"2017-07-15T00:00:00.000000000\",\"2017-07-14T00:00:00.000000000\",\"2017-07-13T00:00:00.000000000\",\"2017-07-12T00:00:00.000000000\",\"2017-07-11T00:00:00.000000000\",\"2017-07-10T00:00:00.000000000\",\"2017-07-09T00:00:00.000000000\",\"2017-07-08T00:00:00.000000000\",\"2017-07-07T00:00:00.000000000\",\"2017-07-06T00:00:00.000000000\",\"2017-07-05T00:00:00.000000000\",\"2017-07-04T00:00:00.000000000\",\"2017-07-03T00:00:00.000000000\",\"2017-07-02T00:00:00.000000000\",\"2017-07-01T00:00:00.000000000\",\"2017-06-30T00:00:00.000000000\",\"2017-06-29T00:00:00.000000000\",\"2017-06-28T00:00:00.000000000\",\"2017-06-27T00:00:00.000000000\",\"2017-06-26T00:00:00.000000000\",\"2017-06-25T00:00:00.000000000\",\"2017-06-24T00:00:00.000000000\",\"2017-06-23T00:00:00.000000000\",\"2017-06-22T00:00:00.000000000\",\"2017-06-21T00:00:00.000000000\",\"2017-06-20T00:00:00.000000000\",\"2017-06-19T00:00:00.000000000\",\"2017-06-18T00:00:00.000000000\",\"2017-06-17T00:00:00.000000000\",\"2017-06-16T00:00:00.000000000\",\"2017-06-15T00:00:00.000000000\",\"2017-06-14T00:00:00.000000000\",\"2017-06-13T00:00:00.000000000\",\"2017-06-12T00:00:00.000000000\"],\"type\":\"candlestick\"}],                        {\"title\":{\"text\":\"Bitcoin Historical Price\"},\"xaxis\":{\"title\":{\"text\":\"Date\"},\"rangeslider\":{\"visible\":false}},\"template\":{\"data\":{\"histogram2dcontour\":[{\"type\":\"histogram2dcontour\",\"colorbar\":{\"outlinewidth\":0,\"ticks\":\"\"},\"colorscale\":[[0.0,\"#0d0887\"],[0.1111111111111111,\"#46039f\"],[0.2222222222222222,\"#7201a8\"],[0.3333333333333333,\"#9c179e\"],[0.4444444444444444,\"#bd3786\"],[0.5555555555555556,\"#d8576b\"],[0.6666666666666666,\"#ed7953\"],[0.7777777777777778,\"#fb9f3a\"],[0.8888888888888888,\"#fdca26\"],[1.0,\"#f0f921\"]]}],\"choropleth\":[{\"type\":\"choropleth\",\"colorbar\":{\"outlinewidth\":0,\"ticks\":\"\"}}],\"histogram2d\":[{\"type\":\"histogram2d\",\"colorbar\":{\"outlinewidth\":0,\"ticks\":\"\"},\"colorscale\":[[0.0,\"#0d0887\"],[0.1111111111111111,\"#46039f\"],[0.2222222222222222,\"#7201a8\"],[0.3333333333333333,\"#9c179e\"],[0.4444444444444444,\"#bd3786\"],[0.5555555555555556,\"#d8576b\"],[0.6666666666666666,\"#ed7953\"],[0.7777777777777778,\"#fb9f3a\"],[0.8888888888888888,\"#fdca26\"],[1.0,\"#f0f921\"]]}],\"heatmap\":[{\"type\":\"heatmap\",\"colorbar\":{\"outlinewidth\":0,\"ticks\":\"\"},\"colorscale\":[[0.0,\"#0d0887\"],[0.1111111111111111,\"#46039f\"],[0.2222222222222222,\"#7201a8\"],[0.3333333333333333,\"#9c179e\"],[0.4444444444444444,\"#bd3786\"],[0.5555555555555556,\"#d8576b\"],[0.6666666666666666,\"#ed7953\"],[0.7777777777777778,\"#fb9f3a\"],[0.8888888888888888,\"#fdca26\"],[1.0,\"#f0f921\"]]}],\"contourcarpet\":[{\"type\":\"contourcarpet\",\"colorbar\":{\"outlinewidth\":0,\"ticks\":\"\"}}],\"contour\":[{\"type\":\"contour\",\"colorbar\":{\"outlinewidth\":0,\"ticks\":\"\"},\"colorscale\":[[0.0,\"#0d0887\"],[0.1111111111111111,\"#46039f\"],[0.2222222222222222,\"#7201a8\"],[0.3333333333333333,\"#9c179e\"],[0.4444444444444444,\"#bd3786\"],[0.5555555555555556,\"#d8576b\"],[0.6666666666666666,\"#ed7953\"],[0.7777777777777778,\"#fb9f3a\"],[0.8888888888888888,\"#fdca26\"],[1.0,\"#f0f921\"]]}],\"surface\":[{\"type\":\"surface\",\"colorbar\":{\"outlinewidth\":0,\"ticks\":\"\"},\"colorscale\":[[0.0,\"#0d0887\"],[0.1111111111111111,\"#46039f\"],[0.2222222222222222,\"#7201a8\"],[0.3333333333333333,\"#9c179e\"],[0.4444444444444444,\"#bd3786\"],[0.5555555555555556,\"#d8576b\"],[0.6666666666666666,\"#ed7953\"],[0.7777777777777778,\"#fb9f3a\"],[0.8888888888888888,\"#fdca26\"],[1.0,\"#f0f921\"]]}],\"mesh3d\":[{\"type\":\"mesh3d\",\"colorbar\":{\"outlinewidth\":0,\"ticks\":\"\"}}],\"scatter\":[{\"fillpattern\":{\"fillmode\":\"overlay\",\"size\":10,\"solidity\":0.2},\"type\":\"scatter\"}],\"parcoords\":[{\"type\":\"parcoords\",\"line\":{\"colorbar\":{\"outlinewidth\":0,\"ticks\":\"\"}}}],\"scatterpolargl\":[{\"type\":\"scatterpolargl\",\"marker\":{\"colorbar\":{\"outlinewidth\":0,\"ticks\":\"\"}}}],\"bar\":[{\"error_x\":{\"color\":\"#2a3f5f\"},\"error_y\":{\"color\":\"#2a3f5f\"},\"marker\":{\"line\":{\"color\":\"#E5ECF6\",\"width\":0.5},\"pattern\":{\"fillmode\":\"overlay\",\"size\":10,\"solidity\":0.2}},\"type\":\"bar\"}],\"scattergeo\":[{\"type\":\"scattergeo\",\"marker\":{\"colorbar\":{\"outlinewidth\":0,\"ticks\":\"\"}}}],\"scatterpolar\":[{\"type\":\"scatterpolar\",\"marker\":{\"colorbar\":{\"outlinewidth\":0,\"ticks\":\"\"}}}],\"histogram\":[{\"marker\":{\"pattern\":{\"fillmode\":\"overlay\",\"size\":10,\"solidity\":0.2}},\"type\":\"histogram\"}],\"scattergl\":[{\"type\":\"scattergl\",\"marker\":{\"colorbar\":{\"outlinewidth\":0,\"ticks\":\"\"}}}],\"scatter3d\":[{\"type\":\"scatter3d\",\"line\":{\"colorbar\":{\"outlinewidth\":0,\"ticks\":\"\"}},\"marker\":{\"colorbar\":{\"outlinewidth\":0,\"ticks\":\"\"}}}],\"scattermap\":[{\"type\":\"scattermap\",\"marker\":{\"colorbar\":{\"outlinewidth\":0,\"ticks\":\"\"}}}],\"scattermapbox\":[{\"type\":\"scattermapbox\",\"marker\":{\"colorbar\":{\"outlinewidth\":0,\"ticks\":\"\"}}}],\"scatterternary\":[{\"type\":\"scatterternary\",\"marker\":{\"colorbar\":{\"outlinewidth\":0,\"ticks\":\"\"}}}],\"scattercarpet\":[{\"type\":\"scattercarpet\",\"marker\":{\"colorbar\":{\"outlinewidth\":0,\"ticks\":\"\"}}}],\"carpet\":[{\"aaxis\":{\"endlinecolor\":\"#2a3f5f\",\"gridcolor\":\"white\",\"linecolor\":\"white\",\"minorgridcolor\":\"white\",\"startlinecolor\":\"#2a3f5f\"},\"baxis\":{\"endlinecolor\":\"#2a3f5f\",\"gridcolor\":\"white\",\"linecolor\":\"white\",\"minorgridcolor\":\"white\",\"startlinecolor\":\"#2a3f5f\"},\"type\":\"carpet\"}],\"table\":[{\"cells\":{\"fill\":{\"color\":\"#EBF0F8\"},\"line\":{\"color\":\"white\"}},\"header\":{\"fill\":{\"color\":\"#C8D4E3\"},\"line\":{\"color\":\"white\"}},\"type\":\"table\"}],\"barpolar\":[{\"marker\":{\"line\":{\"color\":\"#E5ECF6\",\"width\":0.5},\"pattern\":{\"fillmode\":\"overlay\",\"size\":10,\"solidity\":0.2}},\"type\":\"barpolar\"}],\"pie\":[{\"automargin\":true,\"type\":\"pie\"}]},\"layout\":{\"autotypenumbers\":\"strict\",\"colorway\":[\"#636efa\",\"#EF553B\",\"#00cc96\",\"#ab63fa\",\"#FFA15A\",\"#19d3f3\",\"#FF6692\",\"#B6E880\",\"#FF97FF\",\"#FECB52\"],\"font\":{\"color\":\"#2a3f5f\"},\"hovermode\":\"closest\",\"hoverlabel\":{\"align\":\"left\"},\"paper_bgcolor\":\"white\",\"plot_bgcolor\":\"#E5ECF6\",\"polar\":{\"bgcolor\":\"#E5ECF6\",\"angularaxis\":{\"gridcolor\":\"white\",\"linecolor\":\"white\",\"ticks\":\"\"},\"radialaxis\":{\"gridcolor\":\"white\",\"linecolor\":\"white\",\"ticks\":\"\"}},\"ternary\":{\"bgcolor\":\"#E5ECF6\",\"aaxis\":{\"gridcolor\":\"white\",\"linecolor\":\"white\",\"ticks\":\"\"},\"baxis\":{\"gridcolor\":\"white\",\"linecolor\":\"white\",\"ticks\":\"\"},\"caxis\":{\"gridcolor\":\"white\",\"linecolor\":\"white\",\"ticks\":\"\"}},\"coloraxis\":{\"colorbar\":{\"outlinewidth\":0,\"ticks\":\"\"}},\"colorscale\":{\"sequential\":[[0.0,\"#0d0887\"],[0.1111111111111111,\"#46039f\"],[0.2222222222222222,\"#7201a8\"],[0.3333333333333333,\"#9c179e\"],[0.4444444444444444,\"#bd3786\"],[0.5555555555555556,\"#d8576b\"],[0.6666666666666666,\"#ed7953\"],[0.7777777777777778,\"#fb9f3a\"],[0.8888888888888888,\"#fdca26\"],[1.0,\"#f0f921\"]],\"sequentialminus\":[[0.0,\"#0d0887\"],[0.1111111111111111,\"#46039f\"],[0.2222222222222222,\"#7201a8\"],[0.3333333333333333,\"#9c179e\"],[0.4444444444444444,\"#bd3786\"],[0.5555555555555556,\"#d8576b\"],[0.6666666666666666,\"#ed7953\"],[0.7777777777777778,\"#fb9f3a\"],[0.8888888888888888,\"#fdca26\"],[1.0,\"#f0f921\"]],\"diverging\":[[0,\"#8e0152\"],[0.1,\"#c51b7d\"],[0.2,\"#de77ae\"],[0.3,\"#f1b6da\"],[0.4,\"#fde0ef\"],[0.5,\"#f7f7f7\"],[0.6,\"#e6f5d0\"],[0.7,\"#b8e186\"],[0.8,\"#7fbc41\"],[0.9,\"#4d9221\"],[1,\"#276419\"]]},\"xaxis\":{\"gridcolor\":\"white\",\"linecolor\":\"white\",\"ticks\":\"\",\"title\":{\"standoff\":15},\"zerolinecolor\":\"white\",\"automargin\":true,\"zerolinewidth\":2},\"yaxis\":{\"gridcolor\":\"white\",\"linecolor\":\"white\",\"ticks\":\"\",\"title\":{\"standoff\":15},\"zerolinecolor\":\"white\",\"automargin\":true,\"zerolinewidth\":2},\"scene\":{\"xaxis\":{\"backgroundcolor\":\"#E5ECF6\",\"gridcolor\":\"white\",\"linecolor\":\"white\",\"showbackground\":true,\"ticks\":\"\",\"zerolinecolor\":\"white\",\"gridwidth\":2},\"yaxis\":{\"backgroundcolor\":\"#E5ECF6\",\"gridcolor\":\"white\",\"linecolor\":\"white\",\"showbackground\":true,\"ticks\":\"\",\"zerolinecolor\":\"white\",\"gridwidth\":2},\"zaxis\":{\"backgroundcolor\":\"#E5ECF6\",\"gridcolor\":\"white\",\"linecolor\":\"white\",\"showbackground\":true,\"ticks\":\"\",\"zerolinecolor\":\"white\",\"gridwidth\":2}},\"shapedefaults\":{\"line\":{\"color\":\"#2a3f5f\"}},\"annotationdefaults\":{\"arrowcolor\":\"#2a3f5f\",\"arrowhead\":0,\"arrowwidth\":1},\"geo\":{\"bgcolor\":\"white\",\"landcolor\":\"#E5ECF6\",\"subunitcolor\":\"white\",\"showland\":true,\"showlakes\":true,\"lakecolor\":\"white\"},\"title\":{\"x\":0.05},\"mapbox\":{\"style\":\"light\"}}}},                        {\"responsive\": true}                    ).then(function(){\n",
       "                            \n",
       "var gd = document.getElementById('62322836-657d-48d8-952b-f5c2c86d3037');\n",
       "var x = new MutationObserver(function (mutations, observer) {{\n",
       "        var display = window.getComputedStyle(gd).display;\n",
       "        if (!display || display === 'none') {{\n",
       "            console.log([gd, 'removed!']);\n",
       "            Plotly.purge(gd);\n",
       "            observer.disconnect();\n",
       "        }}\n",
       "}});\n",
       "\n",
       "// Listen for the removal of the full notebook cells\n",
       "var notebookContainer = gd.closest('#notebook-container');\n",
       "if (notebookContainer) {{\n",
       "    x.observe(notebookContainer, {childList: true});\n",
       "}}\n",
       "\n",
       "// Listen for the clearing of the current output cell\n",
       "var outputEl = gd.closest('.output');\n",
       "if (outputEl) {{\n",
       "    x.observe(outputEl, {childList: true});\n",
       "}}\n",
       "\n",
       "                        })                };            </script>        </div>"
      ]
     },
     "metadata": {},
     "output_type": "display_data"
    }
   ],
   "source": [
    "\n",
    "fig_1.update_layout(xaxis_rangeslider_visible=False)\n",
    "fig_1.show()"
   ]
  },
  {
   "cell_type": "markdown",
   "id": "fea2d71d-b6c1-4c5f-b6a8-13a8be3748df",
   "metadata": {},
   "source": [
    "# 24 - Analysing closing price indepth"
   ]
  },
  {
   "cell_type": "code",
   "execution_count": 22,
   "id": "b0575495-ff56-4643-8fb3-fbfe5bdcd3a5",
   "metadata": {},
   "outputs": [],
   "source": [
    "df.reset_index(inplace=True)"
   ]
  },
  {
   "cell_type": "code",
   "execution_count": 23,
   "id": "53877105-53be-4e8d-b3c1-84df50e5f162",
   "metadata": {},
   "outputs": [
    {
     "data": {
      "text/plain": [
       "index                  int64\n",
       "Date          datetime64[ns]\n",
       "Open                 float64\n",
       "High                 float64\n",
       "Low                  float64\n",
       "Close                float64\n",
       "Volume                object\n",
       "Market Cap            object\n",
       "dtype: object"
      ]
     },
     "execution_count": 23,
     "metadata": {},
     "output_type": "execute_result"
    }
   ],
   "source": [
    "df.dtypes"
   ]
  },
  {
   "cell_type": "code",
   "execution_count": 24,
   "id": "b4c19551-fe62-4d3e-aa34-58a48486bd45",
   "metadata": {},
   "outputs": [],
   "source": [
    "df['Date'] = pd.to_datetime(df['Date'])"
   ]
  },
  {
   "cell_type": "code",
   "execution_count": 25,
   "id": "5e0f0cad-c5bf-49fb-9bb1-13aa399db11e",
   "metadata": {},
   "outputs": [],
   "source": [
    "df.sort_values('Date', inplace=True)"
   ]
  },
  {
   "cell_type": "code",
   "execution_count": 26,
   "id": "4fa5bd7c-685d-446e-8b55-135569467b4d",
   "metadata": {},
   "outputs": [],
   "source": [
    "df.set_index('Date', inplace=True)"
   ]
  },
  {
   "cell_type": "code",
   "execution_count": 28,
   "id": "7a303f56-3713-43e3-8821-ba92bf0a9534",
   "metadata": {},
   "outputs": [
    {
     "data": {
      "text/plain": [
       "<Axes: xlabel='Date'>"
      ]
     },
     "execution_count": 28,
     "metadata": {},
     "output_type": "execute_result"
    },
    {
     "data": {
      "image/png": "[encoded data removed]",
      "text/plain": [
       "<Figure size 640x480 with 1 Axes>"
      ]
     },
     "metadata": {},
     "output_type": "display_data"
    }
   ],
   "source": [
    "df['Close'].plot()"
   ]
  },
  {
   "cell_type": "code",
   "execution_count": 29,
   "id": "79f43997",
   "metadata": {},
   "outputs": [
    {
     "data": {
      "image/png": "[encoded data removed]",
      "text/plain": [
       "<Figure size 2000x1200 with 2 Axes>"
      ]
     },
     "metadata": {},
     "output_type": "display_data"
    }
   ],
   "source": [
    "plt.figure(figsize=(20,12))\n",
    "plt.subplot(1,2,1)\n",
    "df['Close'].plot()\n",
    "plt.title('No scaling')\n",
    "\n",
    "plt.subplot(1,2,2)\n",
    "np.log1p(df['Close']).plot()\n",
    "plt.title('Log scaling')\n",
    "plt.yscale('log')"
   ]
  },
  {
   "cell_type": "markdown",
   "id": "2abf6ba0-90cc-43ad-a2d5-1a89da76b827",
   "metadata": {
    "jp-MarkdownHeadingCollapsed": true
   },
   "source": [
    "# 25 - Perform Analysis on closing Price on Yearly Quarterly monthly basis"
   ]
  },
  {
   "cell_type": "code",
   "execution_count": 30,
   "id": "3cc5ca07-8d4f-42dd-92d2-5184a611f36c",
   "metadata": {},
   "outputs": [
    {
     "data": {
      "application/vnd.microsoft.datawrangler.viewer.v0+json": {
       "columns": [
        {
         "name": "Date",
         "rawType": "datetime64[ns]",
         "type": "datetime"
        },
        {
         "name": "index",
         "rawType": "int64",
         "type": "integer"
        },
        {
         "name": "Open",
         "rawType": "float64",
         "type": "float"
        },
        {
         "name": "High",
         "rawType": "float64",
         "type": "float"
        },
        {
         "name": "Low",
         "rawType": "float64",
         "type": "float"
        },
        {
         "name": "Close",
         "rawType": "float64",
         "type": "float"
        },
        {
         "name": "Volume",
         "rawType": "object",
         "type": "string"
        },
        {
         "name": "Market Cap",
         "rawType": "object",
         "type": "string"
        }
       ],
       "conversionMethod": "pd.DataFrame",
       "ref": "e4af14e5-3381-4220-af25-9971e70642e3",
       "rows": [
        [
         "2013-04-28 00:00:00",
         "1555",
         "135.3",
         "135.98",
         "132.1",
         "134.21",
         "-",
         "1,500,520,000"
        ],
        [
         "2013-04-29 00:00:00",
         "1554",
         "134.44",
         "147.49",
         "134.0",
         "144.54",
         "-",
         "1,491,160,000"
        ],
        [
         "2013-04-30 00:00:00",
         "1553",
         "144.0",
         "146.93",
         "134.05",
         "139.0",
         "-",
         "1,597,780,000"
        ]
       ],
       "shape": {
        "columns": 7,
        "rows": 3
       }
      },
      "text/html": [
       "<div>\n",
       "<style scoped>\n",
       "    .dataframe tbody tr th:only-of-type {\n",
       "        vertical-align: middle;\n",
       "    }\n",
       "\n",
       "    .dataframe tbody tr th {\n",
       "        vertical-align: top;\n",
       "    }\n",
       "\n",
       "    .dataframe thead th {\n",
       "        text-align: right;\n",
       "    }\n",
       "</style>\n",
       "<table border=\"1\" class=\"dataframe\">\n",
       "  <thead>\n",
       "    <tr style=\"text-align: right;\">\n",
       "      <th></th>\n",
       "      <th>index</th>\n",
       "      <th>Open</th>\n",
       "      <th>High</th>\n",
       "      <th>Low</th>\n",
       "      <th>Close</th>\n",
       "      <th>Volume</th>\n",
       "      <th>Market Cap</th>\n",
       "    </tr>\n",
       "    <tr>\n",
       "      <th>Date</th>\n",
       "      <th></th>\n",
       "      <th></th>\n",
       "      <th></th>\n",
       "      <th></th>\n",
       "      <th></th>\n",
       "      <th></th>\n",
       "      <th></th>\n",
       "    </tr>\n",
       "  </thead>\n",
       "  <tbody>\n",
       "    <tr>\n",
       "      <th>2013-04-28</th>\n",
       "      <td>1555</td>\n",
       "      <td>135.30</td>\n",
       "      <td>135.98</td>\n",
       "      <td>132.10</td>\n",
       "      <td>134.21</td>\n",
       "      <td>-</td>\n",
       "      <td>1,500,520,000</td>\n",
       "    </tr>\n",
       "    <tr>\n",
       "      <th>2013-04-29</th>\n",
       "      <td>1554</td>\n",
       "      <td>134.44</td>\n",
       "      <td>147.49</td>\n",
       "      <td>134.00</td>\n",
       "      <td>144.54</td>\n",
       "      <td>-</td>\n",
       "      <td>1,491,160,000</td>\n",
       "    </tr>\n",
       "    <tr>\n",
       "      <th>2013-04-30</th>\n",
       "      <td>1553</td>\n",
       "      <td>144.00</td>\n",
       "      <td>146.93</td>\n",
       "      <td>134.05</td>\n",
       "      <td>139.00</td>\n",
       "      <td>-</td>\n",
       "      <td>1,597,780,000</td>\n",
       "    </tr>\n",
       "  </tbody>\n",
       "</table>\n",
       "</div>"
      ],
      "text/plain": [
       "            index    Open    High     Low   Close Volume     Market Cap\n",
       "Date                                                                   \n",
       "2013-04-28   1555  135.30  135.98  132.10  134.21      -  1,500,520,000\n",
       "2013-04-29   1554  134.44  147.49  134.00  144.54      -  1,491,160,000\n",
       "2013-04-30   1553  144.00  146.93  134.05  139.00      -  1,597,780,000"
      ]
     },
     "execution_count": 30,
     "metadata": {},
     "output_type": "execute_result"
    }
   ],
   "source": [
    "df.head(3)"
   ]
  },
  {
   "cell_type": "code",
   "execution_count": 31,
   "id": "a8e10df7-e5df-4ae0-ba47-7e8d6a0ffd00",
   "metadata": {},
   "outputs": [
    {
     "data": {
      "text/plain": [
       "Date\n",
       "2013-12-31     257.474476\n",
       "2014-12-31     527.236658\n",
       "2015-12-31     272.453260\n",
       "2016-12-31     568.492131\n",
       "2017-12-31    1628.622123\n",
       "Freq: YE-DEC, Name: Close, dtype: float64"
      ]
     },
     "execution_count": 31,
     "metadata": {},
     "output_type": "execute_result"
    }
   ],
   "source": [
    "df['Close'].resample('YE').mean()"
   ]
  },
  {
   "cell_type": "code",
   "execution_count": 32,
   "id": "d7637207-e226-406d-b9ca-7f99252db15f",
   "metadata": {},
   "outputs": [
    {
     "data": {
      "text/plain": [
       "<Axes: xlabel='Date'>"
      ]
     },
     "execution_count": 32,
     "metadata": {},
     "output_type": "execute_result"
    },
    {
     "data": {
      "image/png": "[encoded data removed]",
      "text/plain": [
       "<Figure size 640x480 with 1 Axes>"
      ]
     },
     "metadata": {},
     "output_type": "display_data"
    }
   ],
   "source": [
    "df['Close'].resample('YE').mean().plot()"
   ]
  },
  {
   "cell_type": "code",
   "execution_count": 33,
   "id": "00c7ae3c-119f-4635-abee-82a515087fef",
   "metadata": {},
   "outputs": [
    {
     "data": {
      "text/plain": [
       "<Axes: xlabel='Date'>"
      ]
     },
     "execution_count": 33,
     "metadata": {},
     "output_type": "execute_result"
    },
    {
     "data": {
      "image/png": "[encoded data removed]",
      "text/plain": [
       "<Figure size 640x480 with 1 Axes>"
      ]
     },
     "metadata": {},
     "output_type": "display_data"
    }
   ],
   "source": [
    "df['Close'].resample('QE').mean().plot()"
   ]
  },
  {
   "cell_type": "code",
   "execution_count": 34,
   "id": "f1485743-878d-4273-b7d3-d839caa75f3c",
   "metadata": {},
   "outputs": [
    {
     "data": {
      "text/plain": [
       "<Axes: xlabel='Date'>"
      ]
     },
     "execution_count": 34,
     "metadata": {},
     "output_type": "execute_result"
    },
    {
     "data": {
      "image/png": "[encoded data removed]",
      "text/plain": [
       "<Figure size 640x480 with 1 Axes>"
      ]
     },
     "metadata": {},
     "output_type": "display_data"
    }
   ],
   "source": [
    "df['Close'].resample('ME').mean().plot()"
   ]
  },
  {
   "cell_type": "markdown",
   "id": "b2f20ec6-7f62-4136-b0c1-b568530c497d",
   "metadata": {},
   "source": [
    "# 26 - Analysing Daily change in Closing price of stocks"
   ]
  },
  {
   "cell_type": "code",
   "execution_count": 35,
   "id": "a04b18b2-5eb4-47ef-b842-29efef0fa26e",
   "metadata": {},
   "outputs": [
    {
     "data": {
      "application/vnd.microsoft.datawrangler.viewer.v0+json": {
       "columns": [
        {
         "name": "Date",
         "rawType": "datetime64[ns]",
         "type": "datetime"
        },
        {
         "name": "index",
         "rawType": "int64",
         "type": "integer"
        },
        {
         "name": "Open",
         "rawType": "float64",
         "type": "float"
        },
        {
         "name": "High",
         "rawType": "float64",
         "type": "float"
        },
        {
         "name": "Low",
         "rawType": "float64",
         "type": "float"
        },
        {
         "name": "Close",
         "rawType": "float64",
         "type": "float"
        },
        {
         "name": "Volume",
         "rawType": "object",
         "type": "string"
        },
        {
         "name": "Market Cap",
         "rawType": "object",
         "type": "string"
        }
       ],
       "conversionMethod": "pd.DataFrame",
       "ref": "c60419ea-66a3-4290-8559-4108b4972239",
       "rows": [
        [
         "2013-04-28 00:00:00",
         "1555",
         "135.3",
         "135.98",
         "132.1",
         "134.21",
         "-",
         "1,500,520,000"
        ],
        [
         "2013-04-29 00:00:00",
         "1554",
         "134.44",
         "147.49",
         "134.0",
         "144.54",
         "-",
         "1,491,160,000"
        ]
       ],
       "shape": {
        "columns": 7,
        "rows": 2
       }
      },
      "text/html": [
       "<div>\n",
       "<style scoped>\n",
       "    .dataframe tbody tr th:only-of-type {\n",
       "        vertical-align: middle;\n",
       "    }\n",
       "\n",
       "    .dataframe tbody tr th {\n",
       "        vertical-align: top;\n",
       "    }\n",
       "\n",
       "    .dataframe thead th {\n",
       "        text-align: right;\n",
       "    }\n",
       "</style>\n",
       "<table border=\"1\" class=\"dataframe\">\n",
       "  <thead>\n",
       "    <tr style=\"text-align: right;\">\n",
       "      <th></th>\n",
       "      <th>index</th>\n",
       "      <th>Open</th>\n",
       "      <th>High</th>\n",
       "      <th>Low</th>\n",
       "      <th>Close</th>\n",
       "      <th>Volume</th>\n",
       "      <th>Market Cap</th>\n",
       "    </tr>\n",
       "    <tr>\n",
       "      <th>Date</th>\n",
       "      <th></th>\n",
       "      <th></th>\n",
       "      <th></th>\n",
       "      <th></th>\n",
       "      <th></th>\n",
       "      <th></th>\n",
       "      <th></th>\n",
       "    </tr>\n",
       "  </thead>\n",
       "  <tbody>\n",
       "    <tr>\n",
       "      <th>2013-04-28</th>\n",
       "      <td>1555</td>\n",
       "      <td>135.30</td>\n",
       "      <td>135.98</td>\n",
       "      <td>132.1</td>\n",
       "      <td>134.21</td>\n",
       "      <td>-</td>\n",
       "      <td>1,500,520,000</td>\n",
       "    </tr>\n",
       "    <tr>\n",
       "      <th>2013-04-29</th>\n",
       "      <td>1554</td>\n",
       "      <td>134.44</td>\n",
       "      <td>147.49</td>\n",
       "      <td>134.0</td>\n",
       "      <td>144.54</td>\n",
       "      <td>-</td>\n",
       "      <td>1,491,160,000</td>\n",
       "    </tr>\n",
       "  </tbody>\n",
       "</table>\n",
       "</div>"
      ],
      "text/plain": [
       "            index    Open    High    Low   Close Volume     Market Cap\n",
       "Date                                                                  \n",
       "2013-04-28   1555  135.30  135.98  132.1  134.21      -  1,500,520,000\n",
       "2013-04-29   1554  134.44  147.49  134.0  144.54      -  1,491,160,000"
      ]
     },
     "execution_count": 35,
     "metadata": {},
     "output_type": "execute_result"
    }
   ],
   "source": [
    "df.head(2)"
   ]
  },
  {
   "cell_type": "code",
   "execution_count": 36,
   "id": "262f36de-d3f7-4dfe-b065-a52899f8a22c",
   "metadata": {},
   "outputs": [
    {
     "data": {
      "text/plain": [
       "Date\n",
       "2013-04-28         NaN\n",
       "2013-04-29    0.076969\n",
       "2013-04-30   -0.038328\n",
       "2013-05-01   -0.158345\n",
       "2013-05-02   -0.100692\n",
       "                ...   \n",
       "2017-07-27    0.056269\n",
       "2017-07-28    0.051363\n",
       "2017-07-29   -0.029391\n",
       "2017-07-30    0.011271\n",
       "2017-07-31    0.042855\n",
       "Name: Close, Length: 1556, dtype: float64"
      ]
     },
     "execution_count": 36,
     "metadata": {},
     "output_type": "execute_result"
    }
   ],
   "source": [
    "df['Close'].pct_change()"
   ]
  },
  {
   "cell_type": "code",
   "execution_count": 37,
   "id": "becb9186-c29d-4016-b89d-4fd58ea58155",
   "metadata": {},
   "outputs": [
    {
     "data": {
      "text/plain": [
       "Date\n",
       "2013-04-28          NaN\n",
       "2013-04-29     7.696893\n",
       "2013-04-30    -3.832849\n",
       "2013-05-01   -15.834532\n",
       "2013-05-02   -10.069237\n",
       "                ...    \n",
       "2017-07-27     5.626915\n",
       "2017-07-28     5.136276\n",
       "2017-07-29    -2.939114\n",
       "2017-07-30     1.127107\n",
       "2017-07-31     4.285538\n",
       "Name: Close, Length: 1556, dtype: float64"
      ]
     },
     "execution_count": 37,
     "metadata": {},
     "output_type": "execute_result"
    }
   ],
   "source": [
    "df['Close'].pct_change()*100"
   ]
  },
  {
   "cell_type": "code",
   "execution_count": 38,
   "id": "3b44f510-472c-4772-950c-f602128ddbce",
   "metadata": {},
   "outputs": [],
   "source": [
    "df['Close_price_pct_change'] = df['Close'].pct_change()*100"
   ]
  },
  {
   "cell_type": "code",
   "execution_count": 39,
   "id": "5edb61a2-3286-4883-a1e5-f549192431a8",
   "metadata": {},
   "outputs": [
    {
     "data": {
      "text/plain": [
       "<Axes: xlabel='Date'>"
      ]
     },
     "execution_count": 39,
     "metadata": {},
     "output_type": "execute_result"
    },
    {
     "data": {
      "image/png": "[encoded data removed]",
      "text/plain": [
       "<Figure size 640x480 with 1 Axes>"
      ]
     },
     "metadata": {},
     "output_type": "display_data"
    }
   ],
   "source": [
    "df['Close_price_pct_change'].plot()"
   ]
  },
  {
   "cell_type": "code",
   "execution_count": 40,
   "id": "3ea077cd-b7f5-49e3-a7be-933c512b3dfe",
   "metadata": {},
   "outputs": [
    {
     "data": {
      "text/plain": [
       "pandas.core.series.Series"
      ]
     },
     "execution_count": 40,
     "metadata": {},
     "output_type": "execute_result"
    }
   ],
   "source": [
    "type(df['Close_price_pct_change'])"
   ]
  }
 ],
 "metadata": {
  "kernelspec": {
   "display_name": "pda-zNoVq-ve",
   "language": "python",
   "name": "python3"
  },
  "language_info": {
   "codemirror_mode": {
    "name": "ipython",
    "version": 3
   },
   "file_extension": ".py",
   "mimetype": "text/x-python",
   "name": "python",
   "nbconvert_exporter": "python",
   "pygments_lexer": "ipython3",
   "version": "3.13.3"
  }
 },
 "nbformat": 4,
 "nbformat_minor": 5
}
