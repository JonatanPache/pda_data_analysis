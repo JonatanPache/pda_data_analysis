{
 "cells": [
  {
   "cell_type": "markdown",
   "id": "a6b448bd-5aca-4b70-a1d7-eccb95b6f24c",
   "metadata": {},
   "source": [
    "# 28 - How to Read Data from SQLite Database"
   ]
  },
  {
   "cell_type": "code",
   "execution_count": 69,
   "id": "a1bdda40-24df-4ddf-84a4-47acbc6908c9",
   "metadata": {},
   "outputs": [],
   "source": [
    "import pandas as pd\n",
    "import numpy as np\n",
    "import seaborn as sns\n",
    "import matplotlib.pyplot as plt\n",
    "import sqlite3\n",
    "from textblob import TextBlob\n",
    "\n",
    "import warnings\n",
    "from warnings import filterwarnings\n",
    "filterwarnings('ignore')"
   ]
  },
  {
   "cell_type": "code",
   "execution_count": 70,
   "id": "af592a7b-d008-4cfe-aa7d-5ca157ea5121",
   "metadata": {},
   "outputs": [
    {
     "data": {
      "text/plain": [
       "sqlite3.Connection"
      ]
     },
     "execution_count": 70,
     "metadata": {},
     "output_type": "execute_result"
    }
   ],
   "source": [
    "con = sqlite3.connect(\"../data/amazon/database.sqlite\")\n",
    "type(con)"
   ]
  },
  {
   "cell_type": "code",
   "execution_count": 71,
   "id": "19eab0e8-f9b5-47e2-9326-597164682775",
   "metadata": {},
   "outputs": [
    {
     "data": {
      "text/plain": [
       "(568454, 10)"
      ]
     },
     "execution_count": 71,
     "metadata": {},
     "output_type": "execute_result"
    }
   ],
   "source": [
    "df = pd.read_sql_query(\"SELECT * FROM REVIEWS\",con)\n",
    "df.shape"
   ]
  },
  {
   "cell_type": "markdown",
   "id": "f9d3872f-0bb8-479a-a000-e3c9d696da24",
   "metadata": {},
   "source": [
    "# 29 - Data Preparation"
   ]
  },
  {
   "cell_type": "code",
   "execution_count": 4,
   "id": "8adaa8c3-05d4-4973-be18-d76b052fdd27",
   "metadata": {},
   "outputs": [
    {
     "data": {
      "text/plain": [
       "Index(['Id', 'ProductId', 'UserId', 'ProfileName', 'HelpfulnessNumerator',\n",
       "       'HelpfulnessDenominator', 'Score', 'Time', 'Summary', 'Text'],\n",
       "      dtype='object')"
      ]
     },
     "execution_count": 4,
     "metadata": {},
     "output_type": "execute_result"
    }
   ],
   "source": [
    "df.columns"
   ]
  },
  {
   "cell_type": "code",
   "execution_count": 5,
   "id": "d7cf0a8a-aa2f-43f6-babf-d02d9fbfc514",
   "metadata": {},
   "outputs": [
    {
     "data": {
      "application/vnd.microsoft.datawrangler.viewer.v0+json": {
       "columns": [
        {
         "name": "index",
         "rawType": "int64",
         "type": "integer"
        },
        {
         "name": "Id",
         "rawType": "int64",
         "type": "integer"
        },
        {
         "name": "ProductId",
         "rawType": "object",
         "type": "string"
        },
        {
         "name": "UserId",
         "rawType": "object",
         "type": "string"
        },
        {
         "name": "ProfileName",
         "rawType": "object",
         "type": "string"
        },
        {
         "name": "HelpfulnessNumerator",
         "rawType": "int64",
         "type": "integer"
        },
        {
         "name": "HelpfulnessDenominator",
         "rawType": "int64",
         "type": "integer"
        },
        {
         "name": "Score",
         "rawType": "int64",
         "type": "integer"
        },
        {
         "name": "Time",
         "rawType": "int64",
         "type": "integer"
        },
        {
         "name": "Summary",
         "rawType": "object",
         "type": "string"
        },
        {
         "name": "Text",
         "rawType": "object",
         "type": "string"
        }
       ],
       "conversionMethod": "pd.DataFrame",
       "ref": "ebfbc47b-18b8-4b74-9b8b-daf7a5578dfa",
       "rows": [
        [
         "0",
         "1",
         "B001E4KFG0",
         "A3SGXH7AUHU8GW",
         "delmartian",
         "1",
         "1",
         "5",
         "1303862400",
         "Good Quality Dog Food",
         "I have bought several of the Vitality canned dog food products and have found them all to be of good quality. The product looks more like a stew than a processed meat and it smells better. My Labrador is finicky and she appreciates this product better than  most."
        ],
        [
         "1",
         "2",
         "B00813GRG4",
         "A1D87F6ZCVE5NK",
         "dll pa",
         "0",
         "0",
         "1",
         "1346976000",
         "Not as Advertised",
         "Product arrived labeled as Jumbo Salted Peanuts...the peanuts were actually small sized unsalted. Not sure if this was an error or if the vendor intended to represent the product as \"Jumbo\"."
        ],
        [
         "2",
         "3",
         "B000LQOCH0",
         "ABXLMWJIXXAIN",
         "Natalia Corres \"Natalia Corres\"",
         "1",
         "1",
         "4",
         "1219017600",
         "\"Delight\" says it all",
         "This is a confection that has been around a few centuries.  It is a light, pillowy citrus gelatin with nuts - in this case Filberts. And it is cut into tiny squares and then liberally coated with powdered sugar.  And it is a tiny mouthful of heaven.  Not too chewy, and very flavorful.  I highly recommend this yummy treat.  If you are familiar with the story of C.S. Lewis' \"The Lion, The Witch, and The Wardrobe\" - this is the treat that seduces Edmund into selling out his Brother and Sisters to the Witch."
        ]
       ],
       "shape": {
        "columns": 10,
        "rows": 3
       }
      },
      "text/html": [
       "<div>\n",
       "<style scoped>\n",
       "    .dataframe tbody tr th:only-of-type {\n",
       "        vertical-align: middle;\n",
       "    }\n",
       "\n",
       "    .dataframe tbody tr th {\n",
       "        vertical-align: top;\n",
       "    }\n",
       "\n",
       "    .dataframe thead th {\n",
       "        text-align: right;\n",
       "    }\n",
       "</style>\n",
       "<table border=\"1\" class=\"dataframe\">\n",
       "  <thead>\n",
       "    <tr style=\"text-align: right;\">\n",
       "      <th></th>\n",
       "      <th>Id</th>\n",
       "      <th>ProductId</th>\n",
       "      <th>UserId</th>\n",
       "      <th>ProfileName</th>\n",
       "      <th>HelpfulnessNumerator</th>\n",
       "      <th>HelpfulnessDenominator</th>\n",
       "      <th>Score</th>\n",
       "      <th>Time</th>\n",
       "      <th>Summary</th>\n",
       "      <th>Text</th>\n",
       "    </tr>\n",
       "  </thead>\n",
       "  <tbody>\n",
       "    <tr>\n",
       "      <th>0</th>\n",
       "      <td>1</td>\n",
       "      <td>B001E4KFG0</td>\n",
       "      <td>A3SGXH7AUHU8GW</td>\n",
       "      <td>delmartian</td>\n",
       "      <td>1</td>\n",
       "      <td>1</td>\n",
       "      <td>5</td>\n",
       "      <td>1303862400</td>\n",
       "      <td>Good Quality Dog Food</td>\n",
       "      <td>I have bought several of the Vitality canned d...</td>\n",
       "    </tr>\n",
       "    <tr>\n",
       "      <th>1</th>\n",
       "      <td>2</td>\n",
       "      <td>B00813GRG4</td>\n",
       "      <td>A1D87F6ZCVE5NK</td>\n",
       "      <td>dll pa</td>\n",
       "      <td>0</td>\n",
       "      <td>0</td>\n",
       "      <td>1</td>\n",
       "      <td>1346976000</td>\n",
       "      <td>Not as Advertised</td>\n",
       "      <td>Product arrived labeled as Jumbo Salted Peanut...</td>\n",
       "    </tr>\n",
       "    <tr>\n",
       "      <th>2</th>\n",
       "      <td>3</td>\n",
       "      <td>B000LQOCH0</td>\n",
       "      <td>ABXLMWJIXXAIN</td>\n",
       "      <td>Natalia Corres \"Natalia Corres\"</td>\n",
       "      <td>1</td>\n",
       "      <td>1</td>\n",
       "      <td>4</td>\n",
       "      <td>1219017600</td>\n",
       "      <td>\"Delight\" says it all</td>\n",
       "      <td>This is a confection that has been around a fe...</td>\n",
       "    </tr>\n",
       "  </tbody>\n",
       "</table>\n",
       "</div>"
      ],
      "text/plain": [
       "   Id   ProductId          UserId                      ProfileName  \\\n",
       "0   1  B001E4KFG0  A3SGXH7AUHU8GW                       delmartian   \n",
       "1   2  B00813GRG4  A1D87F6ZCVE5NK                           dll pa   \n",
       "2   3  B000LQOCH0   ABXLMWJIXXAIN  Natalia Corres \"Natalia Corres\"   \n",
       "\n",
       "   HelpfulnessNumerator  HelpfulnessDenominator  Score        Time  \\\n",
       "0                     1                       1      5  1303862400   \n",
       "1                     0                       0      1  1346976000   \n",
       "2                     1                       1      4  1219017600   \n",
       "\n",
       "                 Summary                                               Text  \n",
       "0  Good Quality Dog Food  I have bought several of the Vitality canned d...  \n",
       "1      Not as Advertised  Product arrived labeled as Jumbo Salted Peanut...  \n",
       "2  \"Delight\" says it all  This is a confection that has been around a fe...  "
      ]
     },
     "execution_count": 5,
     "metadata": {},
     "output_type": "execute_result"
    }
   ],
   "source": [
    "df.head(3)"
   ]
  },
  {
   "cell_type": "code",
   "execution_count": 6,
   "id": "e976fab7-7e93-4e81-85eb-8ea03b0d0c73",
   "metadata": {},
   "outputs": [],
   "source": [
    "df_valid = df[df['HelpfulnessNumerator'] <= df['HelpfulnessDenominator']]"
   ]
  },
  {
   "cell_type": "code",
   "execution_count": 7,
   "id": "0ead2cb3-a39b-4bd8-acc7-c1f33bba1eed",
   "metadata": {},
   "outputs": [
    {
     "data": {
      "text/plain": [
       "(568452, 10)"
      ]
     },
     "execution_count": 7,
     "metadata": {},
     "output_type": "execute_result"
    }
   ],
   "source": [
    "df_valid.shape"
   ]
  },
  {
   "cell_type": "code",
   "execution_count": 8,
   "id": "bd00d466-16c6-4e2e-a5a3-8a493a7e01fc",
   "metadata": {},
   "outputs": [
    {
     "data": {
      "text/plain": [
       "Index(['Id', 'ProductId', 'UserId', 'ProfileName', 'HelpfulnessNumerator',\n",
       "       'HelpfulnessDenominator', 'Score', 'Time', 'Summary', 'Text'],\n",
       "      dtype='object')"
      ]
     },
     "execution_count": 8,
     "metadata": {},
     "output_type": "execute_result"
    }
   ],
   "source": [
    "df_valid.columns"
   ]
  },
  {
   "cell_type": "code",
   "execution_count": 18,
   "id": "d5859fba-7537-4700-9b6a-9bd45653769b",
   "metadata": {},
   "outputs": [
    {
     "data": {
      "application/vnd.microsoft.datawrangler.viewer.v0+json": {
       "columns": [
        {
         "name": "index",
         "rawType": "int64",
         "type": "integer"
        },
        {
         "name": "Id",
         "rawType": "int64",
         "type": "integer"
        },
        {
         "name": "ProductId",
         "rawType": "object",
         "type": "string"
        },
        {
         "name": "UserId",
         "rawType": "object",
         "type": "string"
        },
        {
         "name": "ProfileName",
         "rawType": "object",
         "type": "string"
        },
        {
         "name": "HelpfulnessNumerator",
         "rawType": "int64",
         "type": "integer"
        },
        {
         "name": "HelpfulnessDenominator",
         "rawType": "int64",
         "type": "integer"
        },
        {
         "name": "Score",
         "rawType": "int64",
         "type": "integer"
        },
        {
         "name": "Time",
         "rawType": "int64",
         "type": "integer"
        },
        {
         "name": "Summary",
         "rawType": "object",
         "type": "string"
        },
        {
         "name": "Text",
         "rawType": "object",
         "type": "string"
        }
       ],
       "conversionMethod": "pd.DataFrame",
       "ref": "e9bc7e68-a921-4684-8508-1bd552e46752",
       "rows": [
        [
         "29",
         "30",
         "B0001PB9FY",
         "A3HDKO7OW0QNK4",
         "Canadian Fan",
         "1",
         "1",
         "5",
         "1107820800",
         "The Best Hot Sauce in the World",
         "I don't know if it's the cactus or the tequila or just the unique combination of ingredients, but the flavour of this hot sauce makes it one of a kind!  We picked up a bottle once on a trip we were on and brought it back home with us and were totally blown away!  When we realized that we simply couldn't find it anywhere in our city we were bummed.<br /><br />Now, because of the magic of the internet, we have a case of the sauce and are ecstatic because of it.<br /><br />If you love hot sauce..I mean really love hot sauce, but don't want a sauce that tastelessly burns your throat, grab a bottle of Tequila Picante Gourmet de Inclan.  Just realize that once you taste it, you will never want to use any other sauce.<br /><br />Thank you for the personal, incredible service!"
        ],
        [
         "574",
         "575",
         "B000G6RYNE",
         "A3PJZ8TU8FDQ1K",
         "Jared Castle",
         "2",
         "2",
         "5",
         "1231718400",
         "One bite and you'll become a \"chippoisseur\"",
         "I'm addicted to salty and tangy flavors, so when I opened my first bag of Sea Salt & Vinegar Kettle Brand chips I knew I had a perfect complement to my vegetable trays of cucumber, carrot, celery and cherry tomatoes. Skip the dip; balance the tangy chips by alternating bites of raw vegetable.<br /><br />As an Oregonian, I'm proud to share these delectable snacks with friends, especially those living outside our state and who haven't experienced gourmet chips. I tell them Kettle Brand does for potato chips what microbrews did for beer.<br /><br />Kettle Brand potato chips are unmistakable--a light gold color, rich flavor and amazing crunch. Kettle Brand chips are also a healthier snacking option than the major chip brands. Kettle Brand chips don't have trans fats, MSG or artificial flavors and colorings. The company also has a line of organic potato chips and all of their products are certified Kosher.<br /><br />I also recommend <a href=\"http://www.amazon.com/gp/product/B000G6MBV4\">Kettle Chips Honey Dijon</a> and <a href=\"http://www.amazon.com/gp/product/B000G6Q4GM\">Kettle Chips Spicy Thai</a>.<br /><br />Annette Solomon, a reporter for the Salem Statesman Journal recently noted that a glass of wine goes nicely with these chips. Solomon wrote, \"...you could be missing out on a wonderful pairing. These chips are spicy, so you would want to select a semi-sweet white wine. Also, a moderate amount of acid will subdue the strong flavors of ginger, lime, garlic and cilantro without over-powering them. Classically, a German-style Riesling fits these parameters perfectly.\""
        ],
        [
         "1973",
         "1974",
         "B0017165OG",
         "A2EPNS38TTLZYN",
         "tedebear",
         "0",
         "0",
         "3",
         "1312675200",
         "Pok Chops",
         "The pork chops from Omaha Steaks were very tasty but at the same time exceptionally dry. Pork is usually dry meat but these were to the extreme. Possibly shipping them frozen and keeping them frozen was partly the problem."
        ],
        [
         "2309",
         "2310",
         "B0001VWE0M",
         "AQM74O8Z4FMS0",
         "Sunshine",
         "0",
         "0",
         "2",
         "1127606400",
         "Below standard",
         "Too much of the white pith on this orange peel making the product overly bitter and diluting the real good taste of the orange zest."
        ],
        [
         "2323",
         "2324",
         "B0001VWE0C",
         "AQM74O8Z4FMS0",
         "Sunshine",
         "0",
         "0",
         "2",
         "1127606400",
         "Below standard",
         "Too much of the white pith on this orange peel making the product overly bitter and diluting the real good taste of the orange zest."
        ],
        [
         "2336",
         "2337",
         "B0001FQVCK",
         "A5D06XJHDXK75",
         "C. Po",
         "1",
         "1",
         "5",
         "1190592000",
         "Baci's are pure heaven - great gift, stocking stuffer!",
         "My family has been in love with Baci's ever since we lived in Europe.  When my daughters were small they coined the term \"Baci Pill\" for whenever they were hurt or not feeling well.  They are a wonderful treat, after a meal with espresso or cappuccino.  Pop the entire Baci in your mouth and experience the famous Perugina chocolate and then the still crunchy hazelnut center.  The Italians do everything with class and this beats a Hershey's Kiss any day!"
        ],
        [
         "2647",
         "2648",
         "B0016FY6H6",
         "A2NLZ3M0OJV9NX",
         "Mark Bodzin",
         "0",
         "0",
         "2",
         "1313107200",
         "way too weak for my tastes",
         "What can i say, I love iced tea. I drink a lot of it, and love the convenience of these new individual serving size packets. I am also a big fan of Stash products, or rather of all the other stash products I have tried.<br />I purchased a case of all 4 varieties,  (when i say i drink iced tea, i am not kidding) and these were all way too weak when i mixed them in my 16 ounces water bottle.<br />I finally found that i needed to dissolve 2 packets in a small bit of hot water first (if not the tea clumped on me), and than add a packet of sweetener before adding the rest of the water just to make these palatable.<br />Over all I am very dissatisfied with the product and will stick with the other brands that are out on the market."
        ],
        [
         "2653",
         "2654",
         "B0016FY6H6",
         "A3I4PCBRENJNG2",
         "L. Cain",
         "0",
         "0",
         "4",
         "1300579200",
         "quality lightly sweetened green tea powder",
         "lots of uses for this green tea...<br /><br />I generally like most tea (though not the over-ally flowery blends)...<br /><br />Being on more of a health kick in recent years, I have added a lot more GREEN tea to my diet in one form or another...<br />from straight brewed tea &lt;> hot or iced...<br /><br />To adding the powder to things like salad dressings, smoothies, baked goods, etc.<br /><br />I am not new to green tea....as I first started drinking it when living in Japan some 30+ years ago....<br />in the ground form known as matcha.<br />A quality product. Dissolves well.<br /><br />I like both the unsweetened and the lightly sweetened."
        ],
        [
         "2946",
         "2947",
         "B0002TJAZK",
         "A2ISKAWUPGGOLZ",
         "M. S. Handley",
         "0",
         "1",
         "1",
         "1310774400",
         "Kitty Junk Food",
         "We have five cats - one an elderly cat of 15 years, the other four in the 9-11 year range.  The oldest cat was diagnosed a couple of months ago with the beginning stages of chronic kidney disease.  His numbers didn't warrant being on prescription food yet, but we needed to start paying attention to things like protein and phosphorus levels in his food.  Because we have five cats, and some of them are nibblers eating four or five nuggets at a time, we decided to switch them all to an acceptable food for the oldest, so we picked the active longevity because it specifically mentioned kidney support and calories appropriate for less active older cats.<br /><br />Since we made the switch 6 weeks ago, all of the cats have gained weight.  This was fine for the little old guy as he was a bit underweight; not good for the rest of them.  Our other male went from a slightly chunky 18.5 lbs to an obese 21.25 lbs - almost three pounds in 6 weeks!  The 3 females gained between 1.5 to 2 pounds each.  We noticed them making a lot more visits to the food bowl, like they couldn't seem to get full.  We also saw a lessening of coat quality - lots of shedding even though they are brushed regularly (including with a furminator) and one developed bad dandruff.  The stools developed a really bad odor, although I do have to say nobody developed diarrhea which I am grateful for.  Most worrisome was that the lab results on the old guy came back with some of the kidney values of concern having worsened.<br /><br />I am very disgusted with Science Diet - they are actively fooling the public with the nutritional claims on the bags. One of the sites I researched on for chronic renal failure has charts detailing the nutritional breakdown of most of the various foods available.  If you compare the various Science diet formulae that have different health claims on them - the nutritional values for the components listed are all within a tenth of a point or two.  Basically from the nutritional analysis it appears that they are  the same base formula with maybe a slight difference in a vitamin or additive.  With other brands, such as innova or royal canin, there appears to be an actual difference between the different formulae.<br /><br />Now to deal with the weight gain, as well as the other problems we noted, we are switching foods again.  This time we are trying royal canin indoor mature.  Wish us luck."
        ],
        [
         "2947",
         "2948",
         "B0002TJAZK",
         "A3TVZM3ZIXG8YW",
         "christopher hayes",
         "0",
         "2",
         "1",
         "1291420800",
         "Filler food is empty, leaves your cat always needing more",
         "This review will make me sound really stupid, but whatever. I don't really care as long as people find out what's real and can avoid my mistakes.<br /><br />I got my wonderful little sweet Bella Bean when she was a few days shy of three years old. She had been bounced around from house to house and eating whatever was cheap. I have had cats around me my entire life, for about twenty-five years now. My mother always just fed them whatever, the kinds of food you buy in the supermarket - Friskies, Nine Lives, Kit & Kaboodle, stuff like that. And our cats were always fine, at least in terms of their eating habits. They would eat in the morning, stop when they were done, come back, and eat some more when they got hungry.<br /><br />My housemate at the time was working for Hill's and assured me that this was the best food ever made, so great, so on and so forth. I now know that she is an utter buffoon, but I initially trusted her judgment, which is so unfortunate because she doesn't think. She also had plenty of coupons for free or deeply discounted bags, which made it a much more attractive choice.<br /><br />I first tried feeding the little Bean an unmeasured amount of Science Diet in a bowl, but that didn't work, as she would devour it in one sitting. So then I took to measuring it, and she did the same thing. Then I started parsing it out to twice a day. That didn't work either, because she would start going crazy in the middle of the day, running around, intentionally destroying things, deliberately spilling her water, crying, etc., until she got more food. So then I split it into three servings. Same thing. Then it got to be four servings. That was a little better, but it was too much maintenance and unrealistic to be around every day to feed her four times. So then it went back to three. All the while, I was trying to reduce the amount of food I was feeding her to less than 3/4 of a cup because she was a little chubby. Reducing was hell. She became even more hungry, but I figured she would get used to it. Not really.<br /><br />For over a year, she would wake me up every morning looking for food in a serious way, knocking things off my desk, ripping up any paper she could find, scratching at the door and committing general acts of mischief. As soon as she got food, she was back to her sweet self, but only for three or four hours.<br /><br />We thought she was bored, we thought she was a little nutty, and maybe even had a kitty eating disorder. She always wanted food. It was kind of funny but in the end it was just sad.<br /><br />A few weeks back, we took her to a new (good, non-money factory) vet for her second checkup since I've had her. I talked with him about her being always hungry. He asked what she ate, and I told him the adult indoor Science Diet. Without saying as much, he basically told me that this food is garbage and I should look for something else. He said cat food should have a protein followed by a carbohydrate as the first two ingredients. Science Diet does, in a very loose, by-product kind of way - ground up slaughterhouse leftovers and corn dust. Then they put a bunch of vitamins in it to make it \"healthy,\" instead of just using good ingredients from the beginning. Not that I care about spending money on the Bean, but this food is way too expensive for what it is.<br /><br />So we began transitioning her onto Wellness indoor formula about two weeks ago. She is still eating 50 percent Science Diet with 50 percent Wellness (you really shouldn't just give a cat different food one day out of the blue) but SHE NEVER FREAKS OUT ANYMORE. It's amazing. And it's 100 percent because she is eating real food now, along with that sawdust and chicken hearts I still regrettable have to feed her. We have her down to eating twice a day, only 1/3 cup in TOTAL. She was eating three times a day, 5/8 of a cup in total. Now she eats some in the morning, walks away, eats some more a few hours later, and then looks for dinner about twelve hours after her initial feeding. No more knocking things over, no more trashing Dad's papers on the desk, no more howling, no more deliberately spilled water on the floor. It's incredible.<br /><br />I feel so bad that I was doing this to her for so long. We really thought she was just being dramatic or whatever. But no, she was genuinely hungry because she wasn't eating any real food.<br /><br />Do your cat a favor - buy her or him so food made with real ingredients, things you would eat - Wellness, Halo, Innova, Evo, whatever. Figure it out for yourself, but please don't feed your cat this. It's garbage."
        ],
        [
         "3885",
         "3886",
         "B005GX7GVW",
         "AS1FCKNKY95ID",
         "Juli A. Lee \"JingleJL\"",
         "1",
         "1",
         "5",
         "1336953600",
         "Great and good price!",
         "I love these noodles.  They are really great for a midnight snack.  It's not really something that will fill you up for a dinner.  If you do eat it for dinner, you will be hungry later.  Maybe some people wouldn't!!!!  But, it just doesn't stick to my ribs.  I love them though and Amazon has a really good price."
        ],
        [
         "3886",
         "3887",
         "B005GX7GVW",
         "A1I34N9LFOSCX7",
         "Smeggy",
         "0",
         "0",
         "5",
         "1349136000",
         "Yum!",
         "This soup cooks up quickly and is very yummy! I really like the flavor of the seasoning packet and the way the noodles cook up, nice texture. It is very satisfying to me. I'm a single gal who doesn't really cook & am often in a hurry for my next meal, and I find that this soup really hits the spot. Although it does tend to be more of a mid-afternoon snack/light lunch item for me. It will tide you over for a while until your next big meal, but i have to agree with the other reviewer that if you try to have just one of these for dinner you can expect to be hungry in a few hours.<br /><br />Personally I LOOOVE this soup that much more because I had to give up the ramen cup o' noodle and some other brands i had been eating because I developed an allergy to shellfish and mollusks.  It seems that often these instant noodle packets/bowls either have some type of seafood in the sauce or they are manufactured on equipment that also processes shellfish. This one does not contain any type of seafood like many of the other instant noodles do. Another plus for me is that it's not spicy. I'm kind of a wimp with spicy foods, plus i have GERD/reflux, so believe me if i can eat it is NOT spicy. Just tasty :)<br /><br />One thing that bugs me a little is that i feel guilty about the packaging since the plastic bowl is not recyclable (in my town they only take 1's and 2's which of course these microwave safe bowls are never made out of.) Oh well, can't have it all...."
        ],
        [
         "4640",
         "4641",
         "B0002NYO9I",
         "A5DVX3B075B09",
         "Patricia Kays",
         "0",
         "0",
         "5",
         "1338940800",
         "LOVELY JUNIPER BERRIES",
         "Dried berries, still with texture and the quintessential aroma. Pot roast is so much better with half a dozen berries flattened into the breadboard and scooped into the pickling mixture. But in ten years, trying to find them - gee. So now I know to look for it on Amazon."
        ],
        [
         "4641",
         "4642",
         "B0002NYO9I",
         "A376TWN7I4HMZ8",
         "helios",
         "0",
         "1",
         "5",
         "1324252800",
         "Exaclty what i ordered",
         "Again, exactly what I ordered. No fuss, no muss. Arrived on time. Pretty much an ideal transaction. Only thing that threw me was that I underestimated the quantity. (gallon baggie in the freezer, ftw)"
        ],
        [
         "4642",
         "4643",
         "B0002NYO9I",
         "A29CO2S0VTT0C5",
         "S. Choo",
         "0",
         "3",
         "3",
         "1326758400",
         "get a new package",
         "Berries are find, but the package is bad. Unable to open neatly and then it rips open and your berries are all over the floor."
        ],
        [
         "5397",
         "5398",
         "B00622CYVS",
         "ATIHDHZYNQ0EI",
         "Kristen O'donnell \"twinsmom\"",
         "1",
         "1",
         "5",
         "1270425600",
         "Organic and Tasty",
         "I'd continue to buy but I'm moving over to more home made finger foods and away from glass jars...shattered too many. They like all the flavors though. Great textures too."
        ],
        [
         "5451",
         "5452",
         "B00622CYVI",
         "ATIHDHZYNQ0EI",
         "Kristen O'donnell \"twinsmom\"",
         "2",
         "2",
         "5",
         "1270425600",
         "Organic and Tasty",
         "I'd continue to buy but I'm moving over to more home made finger foods and away from glass jars...shattered too many. They like all the flavors though. Great textures too."
        ],
        [
         "5463",
         "5464",
         "B00622CYVI",
         "A2ETT9SL9AN39O",
         "Danielle L Bostic",
         "0",
         "0",
         "5",
         "1333324800",
         "Great Product",
         "My one year old loves this product. She eats one every day and never gives me a problem. And I trust the ingredients which reassures me that she's eating something thats good for her."
        ],
        [
         "5476",
         "5477",
         "B00622CYVI",
         "A2MF0C4E7GYCI",
         "VW \"VW\"",
         "0",
         "0",
         "5",
         "1298678400",
         "My child loves this food!",
         "Great value if you buy it as a subscribe and save item, and I love that it automatically comes to me.  These are great and they taste really good, making me think that we bought a very high quality product for our child."
        ],
        [
         "5488",
         "5489",
         "B00622CYVI",
         "ASEAKR59G0SLT",
         "Reviewer \"Jason\"",
         "1",
         "3",
         "2",
         "1329782400",
         "Product is good; Amazon fulfillment is poor",
         "Amazon normally does a fantastic job getting product out to me in great shape and on-time, but, I guess this is one product that they can not.<br /><br />Several jars had compromised seals and so we had to immediately throw them out.  I wish I could order this by mail but it seems this is one item we'll need to go to the grocery store for."
        ],
        [
         "5603",
         "5604",
         "B000G1X45G",
         "A36HK6V63C02XE",
         "Renee \"supermom\"",
         "0",
         "0",
         "5",
         "1236556800",
         "If you love strong full flavored coffee---this is for you--the Best!",
         "If you like strong coffee, this is it!  The flavor is exceptional, I have not found better in a can.  This can be expensive and difficult to find at your local store.  I have had great luck with Amazon, good price for the subscription order (you can get a case a couple times a year and still get the reduced rate).  Amazon also has a wonderful return policy!<br />Try Yuban if you love strong coffee and have not found the coffee for you, this may be it!  We have been drinking it for 10+ years now & have had the Original, Organic and Dark Roast---I dont have a preference, they are all excellent."
        ],
        [
         "5958",
         "5959",
         "B001O2IX8E",
         "A3KDZCQ82JFWLN",
         "Phoebe Oh",
         "0",
         "1",
         "1",
         "1245888000",
         "Some broken jars",
         "When I saw some of the Earth's Best jars offered as a Gold Box deal, I remembered that I needed to offer a caveat to other parents.<br />  My children have previously enjoyed many Earth's Best flavors, which in general taste quite good, so in February when there was a promotional offer through Amazon, we ordered two 12-packs. When they arrived, one of the 12-packs seemed ok, but the other 12-pack contained several broken jars and was leaking. It smelled and looked like there might be mold under the plastic that surrounded the second 12-pack.<br />  I noticed that the shipping box holding the two 12-packs had air-filled padding on only the top side of the box, which meant that there was no padding protecting the bottom side.<br />  I don't know whether some of the jars had broken at the warehouse or during delivery, but either way, I was afraid to use the unbroken jars too, because what if the seals had broken or what if there were small pieces of broken glass inside the intact jars too?<br />For more durable items, I still order from Amazon, but I canceled my subscription of the Earth's Best jars and from now on will buy jars at a physical store where I can check them first."
        ],
        [
         "6441",
         "6442",
         "B000QB0WUG",
         "A16TI8YVRRC8AN",
         "M. Vega",
         "0",
         "0",
         "5",
         "1329868800",
         "Yummy",
         "Tried this in a turkey burger and it was sooo good. I definitely recommend faery free. Salt can be added or better yet add a sprinkle of Goya Adobo."
        ],
        [
         "6517",
         "6518",
         "B005O8BLLU",
         "APH7I7OZ8WUJP",
         "J. Simpson",
         "0",
         "0",
         "5",
         "1347494400",
         "Great first food",
         "This is excellent for a baby's first taste. The pouch size is perfect and it actually lasted me two days, as my baby is still just learning to eat solids, therefore didn't have it all. The top makes it easy to refasten, so it doesn't go to waste and can be used again. I love the pouch, it's easy to get all the product out wihtout making a mess."
        ],
        [
         "7321",
         "7322",
         "B0042395CA",
         "AKZKG2Z7CNV27",
         "BreezyPaige",
         "0",
         "0",
         "2",
         "1332547200",
         "Decent, but not great",
         "When I first started to use IAMS Savory Sauce, my dogs loved it. After a few weeks, they don't seem to care too much for it anymore. They still get a little drizzle in their kibble every once in a while, and will eventually eat it when they are hungry, but they don't consider it to be a treat anymore. I still buy it once in a blue moon when it is on sale because of it contains vitamins and its decently priced, and low calorie. One big negative I have noticed about it is that their face is getting dirty from it. They are white dogs and this product tends to cause increased tear and around-the-mouth stains. I used to buy all different flavors of IAMS Savory Sauce, buy my groomer told me the chicken flavor is best as the beef and pork based flavors can cause an even worse increase in face staining. VitaGravy is a similar product that contains more vitamins, so if your must have some sort of gravy, I recommend VitaGravy a bit more. Or you can also just mix in some warm water with your dog food and let it sit for a bit before you feed it to your dog. This creates a \"gravy\" like texture and aroma that most dogs love. Not the greatest idea if your dog has dental issues, but a great free solution for picky eaters."
        ],
        [
         "7899",
         "7900",
         "B00126EQ8I",
         "A3O646NL6SH3ZL",
         "J McCool",
         "1",
         "1",
         "5",
         "1255392000",
         "The real deal (ALMOST)",
         "I pass around favorable endorsements very seldom but this is one of those occasions.<br /><br />I'm almost 69 and this bacon would be as almost identical to the bacon I ate if it were a bit saltier and had the rind left on.<br /><br />If you want the old time southern bacon without all the salt and the rind, this is it.<br /><br />I'll admit I do salt the bacon just a tad before I fry it.<br /><br />This is good stuff if you appreciate great bacon."
        ],
        [
         "7900",
         "7901",
         "B00126EQ8I",
         "APP3E1ZOI97UR",
         "Steven D. Smallwood \"SDS\"",
         "0",
         "0",
         "3",
         "1267833600",
         "Country Bacon",
         "The product was fair, not as \"country\" as I would like, but better than you find in a grocery store."
        ],
        [
         "7904",
         "7905",
         "B00285FFCS",
         "ARXORJX86X1J2",
         "Yvette Mendoza",
         "0",
         "0",
         "5",
         "1327017600",
         "Chocolate heaven",
         "My mother and father were the recipient of these wonderful pieces of chocolate heaven.  They didn't believe they deserved receiving these, but I know they did deserve to receive these!"
        ],
        [
         "8523",
         "8524",
         "B003VXFK44",
         "A10H24TDLK2VDP",
         "William Jens Jensen",
         "0",
         "0",
         "3",
         "1309824000",
         "Unremarkable",
         "First, let me say that I prefer extra-bold K-Cup coffees and only occasionally drink a medium blend, and never decaf. I bought three Wolfgang Puck coffees several months ago: Rodeo Drive Blend; French Roast; and Sumatra Kopi Raya. All three are quite drinkable, though they do not measure up to a few of the extra-bold blends from Coffee People: Kona Blend; Organic Blend; Jet Fuel; and Black Tiger. Even better than these, though, is my new favorite, <a href=\"http://www.amazon.com/gp/product/B003M7TTYG\">Green Mountain's Revv</a>. Those who prefer a strong, dark cup of coffee (even at the larger mug setting) should try that brand.<br /><br />Previously, I had found the dark-roast Green Mountain coffees rather boring, but Revv lives up to the hype, both in strength and flavor. Another great Green Mountain coffee is their Espresso Blend (though Amazon doesn't stock it, so the prices tend to be higher here than in brick-and-mortar stores such as Bed Bath and Beyond). Finally, a favorite regular over the years has been <a href=\"http://www.amazon.com/gp/product/B004M5W7YQ\">Emeril's Big Easy Bold</a>. It's a very nice coffee, though don't expect the New Orleans experience of chicory flavor.<br /><br />Bottom line: You won't go wrong with the Wolfgang Puck coffees, but for my taste they do not stand out among the available bold coffees."
        ],
        [
         "8702",
         "8703",
         "B003VXFK44",
         "A10H24TDLK2VDP",
         "William Jens Jensen",
         "2",
         "2",
         "3",
         "1309824000",
         "Unremarkable",
         "First, let me say that I prefer extra-bold K-Cup coffees and only occasionally drink a medium blend, and never decaf. I bought three Wolfgang Puck coffees several months ago: Rodeo Drive Blend; French Roast; and Sumatra Kopi Raya. All three are quite drinkable, though they do not measure up to a few of the extra-bold blends from Coffee People: Kona Blend; Organic Blend; Jet Fuel; and Black Tiger. Even better than these, though, is my new favorite, <a href=\"http://www.amazon.com/gp/product/B003M7TTYG\">Green Mountain's Revv</a>. Those who prefer a strong, dark cup of coffee (even at the larger mug setting) should try that brand.<br /><br />Previously, I had found the dark-roast Green Mountain coffees rather boring, but Revv lives up to the hype, both in strength and flavor. Another great Green Mountain coffee is their Espresso Blend (though Amazon doesn't stock it, so the prices tend to be higher here than in brick-and-mortar stores such as Bed Bath and Beyond). Finally, a favorite regular over the years has been <a href=\"http://www.amazon.com/gp/product/B004M5W7YQ\">Emeril's Big Easy Bold</a>. It's a very nice coffee, though don't expect the New Orleans experience of chicory flavor.<br /><br />Bottom line: You won't go wrong with the Wolfgang Puck coffees, but for my taste they do not stand out among the available bold coffees."
        ],
        [
         "8993",
         "8994",
         "B006N3IG4K",
         "A5U24IWH64IFF",
         "Kimdoll",
         "1",
         "1",
         "5",
         "1302480000",
         "Absolutely delicious coffee!",
         "I am a huge coffee drinker, and love the k-cups for making one cup quickly before leaving for work in the morning.  While there are many choices, I prefer a bold, strong coffee first thing in the morning.  Wolfgang Puck French Roast is absolutely delicious, strong and not at all bitter, and makes a great first cup of coffee.  I would highly recommend to all bold coffee drinkers!"
        ],
        [
         "8994",
         "8995",
         "B006N3IG4K",
         "A1RVCWFP3SC3GU",
         "Cakediva",
         "1",
         "1",
         "5",
         "1300233600",
         "YUMMY",
         "We always drink Timmothy's or Emeril's. Thought we would try something different. Not too many decafs to choose from. We were pleasantly surprised that this had a great taste with a full bodied flavor. I like my coffee on the milder side so I can even get 2 cups from 1 Kcup."
        ],
        [
         "8995",
         "8996",
         "B006N3IG4K",
         "A12SO47JRQGUPR",
         "Thomas Smith \"tjaye\"",
         "1",
         "1",
         "4",
         "1299801600",
         "Good Stuff",
         "Good subtle flavored coffee for the mid-afternoon pick me up. A bit of sweetness without being overdone. Wish it was available in whole bean as I like it stronger then the Keurig cup can make it."
        ],
        [
         "8996",
         "8997",
         "B006N3IG4K",
         "A86RUZGD22FDR",
         "Another coffee drinker",
         "1",
         "1",
         "5",
         "1299110400",
         "Delivers what was promises",
         "Wolfgang Puck's Chef's Reserve Colombian (Dark Roast) is basically what they said it will be. Dark roast, but not too strong. Acidity is on a low side, but with plenty of pleasant taste. At the same time you can drink this coffee black w/o the need for the sweetener and/or milk. This coffee is in European tradition and will please many people. I would recommend it after dinner, but not if you need a jolt to wake you up."
        ],
        [
         "8997",
         "8998",
         "B006N3IG4K",
         "A3LQS08K2OBI5Z",
         "J. Lim",
         "1",
         "1",
         "3",
         "1298332800",
         "My mom said this was not as flavorful as other \"Extra Bolds\"",
         "This is the most USEFUL info you will ever need to know about K-Cups, and one that took me forever to discover:<br /><br />Bold/Extra Bold coffee in terms of k-cups does not mean that the coffee itself is stronger, it only means that they included more grind in the cups to provide you with a stronger coffee.<br /><br />There! Now you know.<br /><br />My mom goes for the Extra Bolds only because she has been addicted to caffeine for over 40 years now, and she's frugal and thinks this gives her more back for her buck (or rather mine, since I buy it for her).<br /><br />Unfortunately, out of all the Extra Bold k-cups she's tried, she claims that the Wolfgang Puck is the weakest tasting. She's tried it in both the medium & small serving sizes format, and both have produced less-than-full-flavor drinks.<br /><br />If you are looking for a rich, flavorful, strong-tasting coffee, try the <a href=\"http://www.amazon.com/gp/product/B001HKZZ7A\">Van Houtte Cafe Honduras Medium Roast, Extra Bold Coffee, 24-Count K-Cups for Keurig Brewers (Pack of 2)</a>."
        ],
        [
         "8998",
         "8999",
         "B006N3IG4K",
         "A4L2ALOJ53R96",
         "Squib",
         "1",
         "1",
         "2",
         "1297728000",
         "Weak, even on small cup setting",
         "This coffee brews very weak - like a light roast.  W.P. Chef's reserve pods are just over half full.  Put pod on scale and it's 15% less coffee wgt than normal pods.  Stick with normal pods or extra bold if you like coffee that taste like coffee."
        ],
        [
         "8999",
         "9000",
         "B006N3IG4K",
         "AQ6SHOW0VMZGF",
         "K. Padgett \"familyof5\"",
         "1",
         "1",
         "2",
         "1297382400",
         "Really Disappointed",
         "I wanted to like this coffee, I did. We've tried other Wolfgang Puck K-Cups and have been pleasantly surprised. This just did not impress us. Bitter aftertaste, and it has an almost sickeningly vanilla flavor. Smells great while brewing, but just does not live up to it in the cup. I'm really disappointed because I now have a box and a half of this product that we really do not want to drink! Great price though."
        ],
        [
         "9000",
         "9001",
         "B006N3IG4K",
         "A1YKQFG1VU6AZK",
         "D. Prescott",
         "1",
         "1",
         "5",
         "1297209600",
         "Drink The Spirit of Aloha!",
         "I purchased these for my mom and she loves them!  She does not like bold coffee flavors, but is more into the sweet and more flavorful varieties.  This one combines the taste of the islands with a smooth, nutty flavor.  Amazon had a GREAT price on these and this is something that I can actually recommend!"
        ],
        [
         "9001",
         "9002",
         "B006N3IG4K",
         "A1KE7XXXLYIXL",
         "Patricia",
         "1",
         "1",
         "1",
         "1296864000",
         "Great taste, lousy cup",
         "This is a good decaf coffee, but I've never before had a k cup dump the contents into my cup. It's extremely irritating to deal with grounds in the cup and machine when deliberately choosing a system that avoids the mess."
        ],
        [
         "9002",
         "9003",
         "B006N3IG4K",
         "A3TQW5KBBPZHNC",
         "K. E Pearce \"kpearce\"",
         "1",
         "1",
         "2",
         "1296518400",
         "If you want a flavored coffee, okay... but otherwise YUK",
         "Warning: this is a STRONG flavor.<br /><br />I thought that this would be Blue Mountain-y... oh no. It is like... rum flavored or something. Yuk."
        ],
        [
         "9003",
         "9004",
         "B006N3IG4K",
         "A2TPOYNEEWCB47",
         "Deb McM",
         "1",
         "1",
         "5",
         "1296432000",
         "A favorite at the office",
         "I admit I don't usually drink decaf but this is a favorite in my office and I felt it deserved a good rating."
        ],
        [
         "9004",
         "9005",
         "B006N3IG4K",
         "A2L02N07L0RG3P",
         "Teresa",
         "1",
         "1",
         "5",
         "1296345600",
         "Island Escape!",
         "I tried this flavor within a variety pack and LOVED IT!  I usually add cream and sugar to my coffee.  With this k cup I added coconut creamer and found that I did not have to add any sugar!  It was so sweet and light and tasted just like a pina colada.  I absolutley love this k cup and am planning to sign up for subscribe and save on this one!"
        ],
        [
         "9005",
         "9006",
         "B006N3IG4K",
         "AN4C6KUWQOCQY",
         "Gregory D. Roughgarden \"Shannon\"",
         "1",
         "1",
         "4",
         "1296000000",
         "Just Right and you will love it!",
         "This Wolfgang Puck coffee tasted great. The vanilla flavoring is just right. Some reviews said it was not so good, not enough flavoring, etc. Don't pay attention to the bad reviews posted on here. I have never posted for a product and I have tried many different k-cups. This is a good k-cup and don't hesitate to purchase this flavor because of the negative feedback. I almost hesitated and didn't buy it and then I figured I would give it a shot. It was worth it to pick the vanilla francaise flavor. You will enjoy it. It tastes better then other k cup vanilla flavors like folgers and van houtte flavor."
        ],
        [
         "9006",
         "9007",
         "B006N3IG4K",
         "A2UCZAWAN5QMJQ",
         "Thomas F. Harper Jr.",
         "1",
         "1",
         "4",
         "1294876800",
         "Good coffee, but lets clear up the flavors?",
         "I saw the good reviews of this Jamaica Me Crazy coffee, but the reviewers all seem to wander around whether it has coconut, vanilla, caramel, rum or coffee liqueur flavorings.<br /><br />First off, I'm not getting any coconut from it at all.  Some vanilla, but it mostly tastes like coffee with baileys irish cream in it.<br /><br />In fact, after I drank a cup I had to go pick up my son from kindergarten and it occurred to me that some of the other parents might think I was drinking spiked coffee while we waited for the class to let out! :)<br /><br />But its good.  I recommend it to anyone who likes flavored coffee.  Not really anything else like it and I've tried about 20 different k-cup flavors."
        ],
        [
         "9007",
         "9008",
         "B006N3IG4K",
         "AZWC23X2AZAQC",
         "M. C. Bowman",
         "1",
         "1",
         "3",
         "1294704000",
         "Not the best",
         "With so many choices now, I thought I woudl give this a try.<br />The Donut shop Decaf is by far my favorite and this one falls short."
        ],
        [
         "9008",
         "9009",
         "B006N3IG4K",
         "A3S9V8OLQENVK8",
         "readingaway",
         "1",
         "1",
         "5",
         "1292976000",
         "Very Smooth Not Acidic",
         "I used to do the subscribe and save with the Timothy's World Kona, but due to the fact that the price on Timothy's jumped so high, I went to Wolfgang Puck Breakfast in Bed.  Pleasantly surprised, and I must say that I like this one much better than the Kona!  It seems much more smoother, but the taste still retains a nice warm mellow-bold flavor.  Great way to start the day!  Oh, and I love the name of this coffee ;)"
        ],
        [
         "9009",
         "9010",
         "B006N3IG4K",
         "A1H703P9ALYVM6",
         "Lisa97225",
         "1",
         "1",
         "3",
         "1292630400",
         "Too Mild for Me",
         "I bought this because Amazon had DRASTICALLY increased the price on what I usually buy, so I thought I'd try something new.  I normally drink Coffee People Donut Shop, which is a nice, strong cup of coffee.  This was a little disappointing.  It's called a Medium Roast, but when I brew a large cup (my Keurig has 3 size options), it looks like strong tea - very light in color.  It makes a very weak cup of coffee.  When I brew the smallest cup possible, it's a tiny bit better, but I prefer a large cup of strong coffee.  Think I may try the Rodeo Drive or Sorrento, but this one is just too weak and light for me.  (Oddly enough, the first time I tried Donut Shop, I thought it was too strong...as I had been used to weaker coffees.  Now that I've started drinking the stronger varieties, it's hard to go back to \"brown water.\")"
        ],
        [
         "9010",
         "9011",
         "B006N3IG4K",
         "A35R32TA60XD57",
         "M. Torma",
         "1",
         "1",
         "5",
         "1292371200",
         "A must have on my carousel!",
         "I wasn't expecting this one to be so rich or full!  Yet it has a smoky finish that is typical of a French roast but doesn't taste burnt.  I think alot of times a French roast tastes thin and yet bitter instead of full and smoky, but not this one! Very pleased with it and will definitely order again.  If you like a stronger cup in the morning, without being bitter, give this one a try."
        ],
        [
         "9011",
         "9012",
         "B006N3IG4K",
         "A30XEOBZCPH9KS",
         "Dana L. Nickerson",
         "1",
         "1",
         "3",
         "1291680000",
         "Wolfgang Puck Columbian",
         "Very good tasteing product but I need to use it the smallist setting on my B-60 to really enjoy the depth."
        ],
        [
         "9012",
         "9013",
         "B006N3IG4K",
         "A324GNX6R2MF9V",
         "J. L. Sutherland",
         "1",
         "1",
         "5",
         "1290556800",
         "Delectable!",
         "I am still waiting for Peets to come out with Kcups, but in the meantime, the Wolfgang Puck's coffees are filling the bill. I really like Sorrento AND Rodeo Drive---smooth and full bodied.<br />JS"
        ]
       ],
       "shape": {
        "columns": 10,
        "rows": 174521
       }
      },
      "text/html": [
       "<div>\n",
       "<style scoped>\n",
       "    .dataframe tbody tr th:only-of-type {\n",
       "        vertical-align: middle;\n",
       "    }\n",
       "\n",
       "    .dataframe tbody tr th {\n",
       "        vertical-align: top;\n",
       "    }\n",
       "\n",
       "    .dataframe thead th {\n",
       "        text-align: right;\n",
       "    }\n",
       "</style>\n",
       "<table border=\"1\" class=\"dataframe\">\n",
       "  <thead>\n",
       "    <tr style=\"text-align: right;\">\n",
       "      <th></th>\n",
       "      <th>Id</th>\n",
       "      <th>ProductId</th>\n",
       "      <th>UserId</th>\n",
       "      <th>ProfileName</th>\n",
       "      <th>HelpfulnessNumerator</th>\n",
       "      <th>HelpfulnessDenominator</th>\n",
       "      <th>Score</th>\n",
       "      <th>Time</th>\n",
       "      <th>Summary</th>\n",
       "      <th>Text</th>\n",
       "    </tr>\n",
       "  </thead>\n",
       "  <tbody>\n",
       "    <tr>\n",
       "      <th>29</th>\n",
       "      <td>30</td>\n",
       "      <td>B0001PB9FY</td>\n",
       "      <td>A3HDKO7OW0QNK4</td>\n",
       "      <td>Canadian Fan</td>\n",
       "      <td>1</td>\n",
       "      <td>1</td>\n",
       "      <td>5</td>\n",
       "      <td>1107820800</td>\n",
       "      <td>The Best Hot Sauce in the World</td>\n",
       "      <td>I don't know if it's the cactus or the tequila...</td>\n",
       "    </tr>\n",
       "    <tr>\n",
       "      <th>574</th>\n",
       "      <td>575</td>\n",
       "      <td>B000G6RYNE</td>\n",
       "      <td>A3PJZ8TU8FDQ1K</td>\n",
       "      <td>Jared Castle</td>\n",
       "      <td>2</td>\n",
       "      <td>2</td>\n",
       "      <td>5</td>\n",
       "      <td>1231718400</td>\n",
       "      <td>One bite and you'll become a \"chippoisseur\"</td>\n",
       "      <td>I'm addicted to salty and tangy flavors, so wh...</td>\n",
       "    </tr>\n",
       "    <tr>\n",
       "      <th>1973</th>\n",
       "      <td>1974</td>\n",
       "      <td>B0017165OG</td>\n",
       "      <td>A2EPNS38TTLZYN</td>\n",
       "      <td>tedebear</td>\n",
       "      <td>0</td>\n",
       "      <td>0</td>\n",
       "      <td>3</td>\n",
       "      <td>1312675200</td>\n",
       "      <td>Pok Chops</td>\n",
       "      <td>The pork chops from Omaha Steaks were very tas...</td>\n",
       "    </tr>\n",
       "    <tr>\n",
       "      <th>2309</th>\n",
       "      <td>2310</td>\n",
       "      <td>B0001VWE0M</td>\n",
       "      <td>AQM74O8Z4FMS0</td>\n",
       "      <td>Sunshine</td>\n",
       "      <td>0</td>\n",
       "      <td>0</td>\n",
       "      <td>2</td>\n",
       "      <td>1127606400</td>\n",
       "      <td>Below standard</td>\n",
       "      <td>Too much of the white pith on this orange peel...</td>\n",
       "    </tr>\n",
       "    <tr>\n",
       "      <th>2323</th>\n",
       "      <td>2324</td>\n",
       "      <td>B0001VWE0C</td>\n",
       "      <td>AQM74O8Z4FMS0</td>\n",
       "      <td>Sunshine</td>\n",
       "      <td>0</td>\n",
       "      <td>0</td>\n",
       "      <td>2</td>\n",
       "      <td>1127606400</td>\n",
       "      <td>Below standard</td>\n",
       "      <td>Too much of the white pith on this orange peel...</td>\n",
       "    </tr>\n",
       "    <tr>\n",
       "      <th>...</th>\n",
       "      <td>...</td>\n",
       "      <td>...</td>\n",
       "      <td>...</td>\n",
       "      <td>...</td>\n",
       "      <td>...</td>\n",
       "      <td>...</td>\n",
       "      <td>...</td>\n",
       "      <td>...</td>\n",
       "      <td>...</td>\n",
       "      <td>...</td>\n",
       "    </tr>\n",
       "    <tr>\n",
       "      <th>568409</th>\n",
       "      <td>568410</td>\n",
       "      <td>B0018CLWM4</td>\n",
       "      <td>A2PE0AGWV6OPL7</td>\n",
       "      <td>Dark Water Mermaid</td>\n",
       "      <td>3</td>\n",
       "      <td>3</td>\n",
       "      <td>5</td>\n",
       "      <td>1309651200</td>\n",
       "      <td>Quality &amp; affordable food</td>\n",
       "      <td>I was very pleased with the ingredient quality...</td>\n",
       "    </tr>\n",
       "    <tr>\n",
       "      <th>568410</th>\n",
       "      <td>568411</td>\n",
       "      <td>B0018CLWM4</td>\n",
       "      <td>A88HLWDCU57WG</td>\n",
       "      <td>R28</td>\n",
       "      <td>2</td>\n",
       "      <td>2</td>\n",
       "      <td>5</td>\n",
       "      <td>1332979200</td>\n",
       "      <td>litter box</td>\n",
       "      <td>My main reason for the five star review has to...</td>\n",
       "    </tr>\n",
       "    <tr>\n",
       "      <th>568411</th>\n",
       "      <td>568412</td>\n",
       "      <td>B0018CLWM4</td>\n",
       "      <td>AUX1HSY8FX55S</td>\n",
       "      <td>DAW</td>\n",
       "      <td>1</td>\n",
       "      <td>1</td>\n",
       "      <td>5</td>\n",
       "      <td>1319500800</td>\n",
       "      <td>Happy Camper</td>\n",
       "      <td>I bought this to try on two registered Maine C...</td>\n",
       "    </tr>\n",
       "    <tr>\n",
       "      <th>568412</th>\n",
       "      <td>568413</td>\n",
       "      <td>B0018CLWM4</td>\n",
       "      <td>AVZ2OZ479Q9E8</td>\n",
       "      <td>Ai Ling Chow</td>\n",
       "      <td>0</td>\n",
       "      <td>0</td>\n",
       "      <td>5</td>\n",
       "      <td>1336435200</td>\n",
       "      <td>Two Siberians like it!</td>\n",
       "      <td>When we brought home two 3-month-old purebred ...</td>\n",
       "    </tr>\n",
       "    <tr>\n",
       "      <th>568413</th>\n",
       "      <td>568414</td>\n",
       "      <td>B0018CLWM4</td>\n",
       "      <td>AI3Y26HLPYW4L</td>\n",
       "      <td>kimosabe</td>\n",
       "      <td>1</td>\n",
       "      <td>2</td>\n",
       "      <td>2</td>\n",
       "      <td>1330041600</td>\n",
       "      <td>premium edge cat food</td>\n",
       "      <td>My cats don't like it. what else can I say to ...</td>\n",
       "    </tr>\n",
       "  </tbody>\n",
       "</table>\n",
       "<p>174521 rows × 10 columns</p>\n",
       "</div>"
      ],
      "text/plain": [
       "            Id   ProductId          UserId         ProfileName  \\\n",
       "29          30  B0001PB9FY  A3HDKO7OW0QNK4        Canadian Fan   \n",
       "574        575  B000G6RYNE  A3PJZ8TU8FDQ1K        Jared Castle   \n",
       "1973      1974  B0017165OG  A2EPNS38TTLZYN            tedebear   \n",
       "2309      2310  B0001VWE0M   AQM74O8Z4FMS0            Sunshine   \n",
       "2323      2324  B0001VWE0C   AQM74O8Z4FMS0            Sunshine   \n",
       "...        ...         ...             ...                 ...   \n",
       "568409  568410  B0018CLWM4  A2PE0AGWV6OPL7  Dark Water Mermaid   \n",
       "568410  568411  B0018CLWM4   A88HLWDCU57WG                 R28   \n",
       "568411  568412  B0018CLWM4   AUX1HSY8FX55S                 DAW   \n",
       "568412  568413  B0018CLWM4   AVZ2OZ479Q9E8        Ai Ling Chow   \n",
       "568413  568414  B0018CLWM4   AI3Y26HLPYW4L            kimosabe   \n",
       "\n",
       "        HelpfulnessNumerator  HelpfulnessDenominator  Score        Time  \\\n",
       "29                         1                       1      5  1107820800   \n",
       "574                        2                       2      5  1231718400   \n",
       "1973                       0                       0      3  1312675200   \n",
       "2309                       0                       0      2  1127606400   \n",
       "2323                       0                       0      2  1127606400   \n",
       "...                      ...                     ...    ...         ...   \n",
       "568409                     3                       3      5  1309651200   \n",
       "568410                     2                       2      5  1332979200   \n",
       "568411                     1                       1      5  1319500800   \n",
       "568412                     0                       0      5  1336435200   \n",
       "568413                     1                       2      2  1330041600   \n",
       "\n",
       "                                            Summary  \\\n",
       "29                  The Best Hot Sauce in the World   \n",
       "574     One bite and you'll become a \"chippoisseur\"   \n",
       "1973                                      Pok Chops   \n",
       "2309                                 Below standard   \n",
       "2323                                 Below standard   \n",
       "...                                             ...   \n",
       "568409                    Quality & affordable food   \n",
       "568410                                   litter box   \n",
       "568411                                 Happy Camper   \n",
       "568412                       Two Siberians like it!   \n",
       "568413                        premium edge cat food   \n",
       "\n",
       "                                                     Text  \n",
       "29      I don't know if it's the cactus or the tequila...  \n",
       "574     I'm addicted to salty and tangy flavors, so wh...  \n",
       "1973    The pork chops from Omaha Steaks were very tas...  \n",
       "2309    Too much of the white pith on this orange peel...  \n",
       "2323    Too much of the white pith on this orange peel...  \n",
       "...                                                   ...  \n",
       "568409  I was very pleased with the ingredient quality...  \n",
       "568410  My main reason for the five star review has to...  \n",
       "568411  I bought this to try on two registered Maine C...  \n",
       "568412  When we brought home two 3-month-old purebred ...  \n",
       "568413  My cats don't like it. what else can I say to ...  \n",
       "\n",
       "[174521 rows x 10 columns]"
      ]
     },
     "execution_count": 18,
     "metadata": {},
     "output_type": "execute_result"
    }
   ],
   "source": [
    "# ['UserId', 'ProfileName','Time', 'Text']\n",
    "df_valid[df_valid.duplicated(['UserId', 'ProfileName','Time', 'Text'])]"
   ]
  },
  {
   "cell_type": "code",
   "execution_count": 19,
   "id": "845a7fd6-d5ed-4e88-a989-3567c8d0b769",
   "metadata": {},
   "outputs": [
    {
     "data": {
      "text/plain": [
       "(393931, 10)"
      ]
     },
     "execution_count": 19,
     "metadata": {},
     "output_type": "execute_result"
    }
   ],
   "source": [
    "data = df_valid.drop_duplicates(subset=['UserId', 'ProfileName','Time', 'Text'])\n",
    "data.shape"
   ]
  },
  {
   "cell_type": "code",
   "execution_count": 11,
   "id": "63817b28-040b-439f-b9dd-777e4c0a7773",
   "metadata": {},
   "outputs": [
    {
     "data": {
      "text/plain": [
       "Id                         int64\n",
       "ProductId                 object\n",
       "UserId                    object\n",
       "ProfileName               object\n",
       "HelpfulnessNumerator       int64\n",
       "HelpfulnessDenominator     int64\n",
       "Score                      int64\n",
       "Time                       int64\n",
       "Summary                   object\n",
       "Text                      object\n",
       "dtype: object"
      ]
     },
     "execution_count": 11,
     "metadata": {},
     "output_type": "execute_result"
    }
   ],
   "source": [
    "data.dtypes"
   ]
  },
  {
   "cell_type": "code",
   "execution_count": 12,
   "id": "755ba176-7151-4dc9-a6fd-75c1b2abfe36",
   "metadata": {},
   "outputs": [
    {
     "data": {
      "text/plain": [
       "0         1303862400\n",
       "1         1346976000\n",
       "2         1219017600\n",
       "3         1307923200\n",
       "4         1350777600\n",
       "             ...    \n",
       "568449    1299628800\n",
       "568450    1331251200\n",
       "568451    1329782400\n",
       "568452    1331596800\n",
       "568453    1338422400\n",
       "Name: Time, Length: 393931, dtype: int64"
      ]
     },
     "execution_count": 12,
     "metadata": {},
     "output_type": "execute_result"
    }
   ],
   "source": [
    "data['Time']"
   ]
  },
  {
   "cell_type": "code",
   "execution_count": 13,
   "id": "032018c3-77c2-434b-9f12-4bb25b3d7fa4",
   "metadata": {},
   "outputs": [
    {
     "data": {
      "text/plain": [
       "0        2011-04-27\n",
       "1        2012-09-07\n",
       "2        2008-08-18\n",
       "3        2011-06-13\n",
       "4        2012-10-21\n",
       "            ...    \n",
       "568449   2011-03-09\n",
       "568450   2012-03-09\n",
       "568451   2012-02-21\n",
       "568452   2012-03-13\n",
       "568453   2012-05-31\n",
       "Name: Time, Length: 393931, dtype: datetime64[ns]"
      ]
     },
     "execution_count": 13,
     "metadata": {},
     "output_type": "execute_result"
    }
   ],
   "source": [
    "pd.to_datetime(data['Time'], unit='s')"
   ]
  },
  {
   "cell_type": "code",
   "execution_count": 20,
   "id": "4585a0e4-42ae-4a16-9217-eb9dff2f0033",
   "metadata": {},
   "outputs": [],
   "source": [
    "data['Time'] = pd.to_datetime(data['Time'], unit='s')"
   ]
  },
  {
   "cell_type": "code",
   "execution_count": 21,
   "id": "1cb5eed1-8fe2-49e6-8682-74428e6fbfd8",
   "metadata": {},
   "outputs": [
    {
     "data": {
      "text/plain": [
       "Id                                 int64\n",
       "ProductId                         object\n",
       "UserId                            object\n",
       "ProfileName                       object\n",
       "HelpfulnessNumerator               int64\n",
       "HelpfulnessDenominator             int64\n",
       "Score                              int64\n",
       "Time                      datetime64[ns]\n",
       "Summary                           object\n",
       "Text                              object\n",
       "dtype: object"
      ]
     },
     "execution_count": 21,
     "metadata": {},
     "output_type": "execute_result"
    }
   ],
   "source": [
    "data.dtypes"
   ]
  },
  {
   "cell_type": "code",
   "execution_count": 22,
   "id": "a4a3889a-c9bc-4007-9e30-7fb6dfa3abea",
   "metadata": {},
   "outputs": [
    {
     "data": {
      "application/vnd.microsoft.datawrangler.viewer.v0+json": {
       "columns": [
        {
         "name": "index",
         "rawType": "int64",
         "type": "integer"
        },
        {
         "name": "Id",
         "rawType": "int64",
         "type": "integer"
        },
        {
         "name": "ProductId",
         "rawType": "object",
         "type": "string"
        },
        {
         "name": "UserId",
         "rawType": "object",
         "type": "string"
        },
        {
         "name": "ProfileName",
         "rawType": "object",
         "type": "string"
        },
        {
         "name": "HelpfulnessNumerator",
         "rawType": "int64",
         "type": "integer"
        },
        {
         "name": "HelpfulnessDenominator",
         "rawType": "int64",
         "type": "integer"
        },
        {
         "name": "Score",
         "rawType": "int64",
         "type": "integer"
        },
        {
         "name": "Time",
         "rawType": "datetime64[ns]",
         "type": "datetime"
        },
        {
         "name": "Summary",
         "rawType": "object",
         "type": "string"
        },
        {
         "name": "Text",
         "rawType": "object",
         "type": "string"
        }
       ],
       "conversionMethod": "pd.DataFrame",
       "ref": "77297496-2eac-4349-a911-53228507c363",
       "rows": [
        [
         "0",
         "1",
         "B001E4KFG0",
         "A3SGXH7AUHU8GW",
         "delmartian",
         "1",
         "1",
         "5",
         "2011-04-27 00:00:00",
         "Good Quality Dog Food",
         "I have bought several of the Vitality canned dog food products and have found them all to be of good quality. The product looks more like a stew than a processed meat and it smells better. My Labrador is finicky and she appreciates this product better than  most."
        ],
        [
         "1",
         "2",
         "B00813GRG4",
         "A1D87F6ZCVE5NK",
         "dll pa",
         "0",
         "0",
         "1",
         "2012-09-07 00:00:00",
         "Not as Advertised",
         "Product arrived labeled as Jumbo Salted Peanuts...the peanuts were actually small sized unsalted. Not sure if this was an error or if the vendor intended to represent the product as \"Jumbo\"."
        ],
        [
         "2",
         "3",
         "B000LQOCH0",
         "ABXLMWJIXXAIN",
         "Natalia Corres \"Natalia Corres\"",
         "1",
         "1",
         "4",
         "2008-08-18 00:00:00",
         "\"Delight\" says it all",
         "This is a confection that has been around a few centuries.  It is a light, pillowy citrus gelatin with nuts - in this case Filberts. And it is cut into tiny squares and then liberally coated with powdered sugar.  And it is a tiny mouthful of heaven.  Not too chewy, and very flavorful.  I highly recommend this yummy treat.  If you are familiar with the story of C.S. Lewis' \"The Lion, The Witch, and The Wardrobe\" - this is the treat that seduces Edmund into selling out his Brother and Sisters to the Witch."
        ]
       ],
       "shape": {
        "columns": 10,
        "rows": 3
       }
      },
      "text/html": [
       "<div>\n",
       "<style scoped>\n",
       "    .dataframe tbody tr th:only-of-type {\n",
       "        vertical-align: middle;\n",
       "    }\n",
       "\n",
       "    .dataframe tbody tr th {\n",
       "        vertical-align: top;\n",
       "    }\n",
       "\n",
       "    .dataframe thead th {\n",
       "        text-align: right;\n",
       "    }\n",
       "</style>\n",
       "<table border=\"1\" class=\"dataframe\">\n",
       "  <thead>\n",
       "    <tr style=\"text-align: right;\">\n",
       "      <th></th>\n",
       "      <th>Id</th>\n",
       "      <th>ProductId</th>\n",
       "      <th>UserId</th>\n",
       "      <th>ProfileName</th>\n",
       "      <th>HelpfulnessNumerator</th>\n",
       "      <th>HelpfulnessDenominator</th>\n",
       "      <th>Score</th>\n",
       "      <th>Time</th>\n",
       "      <th>Summary</th>\n",
       "      <th>Text</th>\n",
       "    </tr>\n",
       "  </thead>\n",
       "  <tbody>\n",
       "    <tr>\n",
       "      <th>0</th>\n",
       "      <td>1</td>\n",
       "      <td>B001E4KFG0</td>\n",
       "      <td>A3SGXH7AUHU8GW</td>\n",
       "      <td>delmartian</td>\n",
       "      <td>1</td>\n",
       "      <td>1</td>\n",
       "      <td>5</td>\n",
       "      <td>2011-04-27</td>\n",
       "      <td>Good Quality Dog Food</td>\n",
       "      <td>I have bought several of the Vitality canned d...</td>\n",
       "    </tr>\n",
       "    <tr>\n",
       "      <th>1</th>\n",
       "      <td>2</td>\n",
       "      <td>B00813GRG4</td>\n",
       "      <td>A1D87F6ZCVE5NK</td>\n",
       "      <td>dll pa</td>\n",
       "      <td>0</td>\n",
       "      <td>0</td>\n",
       "      <td>1</td>\n",
       "      <td>2012-09-07</td>\n",
       "      <td>Not as Advertised</td>\n",
       "      <td>Product arrived labeled as Jumbo Salted Peanut...</td>\n",
       "    </tr>\n",
       "    <tr>\n",
       "      <th>2</th>\n",
       "      <td>3</td>\n",
       "      <td>B000LQOCH0</td>\n",
       "      <td>ABXLMWJIXXAIN</td>\n",
       "      <td>Natalia Corres \"Natalia Corres\"</td>\n",
       "      <td>1</td>\n",
       "      <td>1</td>\n",
       "      <td>4</td>\n",
       "      <td>2008-08-18</td>\n",
       "      <td>\"Delight\" says it all</td>\n",
       "      <td>This is a confection that has been around a fe...</td>\n",
       "    </tr>\n",
       "  </tbody>\n",
       "</table>\n",
       "</div>"
      ],
      "text/plain": [
       "   Id   ProductId          UserId                      ProfileName  \\\n",
       "0   1  B001E4KFG0  A3SGXH7AUHU8GW                       delmartian   \n",
       "1   2  B00813GRG4  A1D87F6ZCVE5NK                           dll pa   \n",
       "2   3  B000LQOCH0   ABXLMWJIXXAIN  Natalia Corres \"Natalia Corres\"   \n",
       "\n",
       "   HelpfulnessNumerator  HelpfulnessDenominator  Score       Time  \\\n",
       "0                     1                       1      5 2011-04-27   \n",
       "1                     0                       0      1 2012-09-07   \n",
       "2                     1                       1      4 2008-08-18   \n",
       "\n",
       "                 Summary                                               Text  \n",
       "0  Good Quality Dog Food  I have bought several of the Vitality canned d...  \n",
       "1      Not as Advertised  Product arrived labeled as Jumbo Salted Peanut...  \n",
       "2  \"Delight\" says it all  This is a confection that has been around a fe...  "
      ]
     },
     "execution_count": 22,
     "metadata": {},
     "output_type": "execute_result"
    }
   ],
   "source": [
    "data.head(3)"
   ]
  },
  {
   "cell_type": "markdown",
   "id": "7c2eeb41-3d1f-4d7f-9f0a-74e7f2bca902",
   "metadata": {
    "jp-MarkdownHeadingCollapsed": true
   },
   "source": [
    "# 30 - How Amazon recommend product"
   ]
  },
  {
   "cell_type": "code",
   "execution_count": 26,
   "id": "e82abe89-db91-4546-a888-2c002890b92e",
   "metadata": {},
   "outputs": [
    {
     "data": {
      "text/plain": [
       "Index(['Id', 'ProductId', 'UserId', 'ProfileName', 'HelpfulnessNumerator',\n",
       "       'HelpfulnessDenominator', 'Score', 'Time', 'Summary', 'Text'],\n",
       "      dtype='object')"
      ]
     },
     "execution_count": 26,
     "metadata": {},
     "output_type": "execute_result"
    }
   ],
   "source": [
    "data.columns"
   ]
  },
  {
   "cell_type": "code",
   "execution_count": 23,
   "id": "f77ceaf3-cb3f-49c6-a18f-f84ea33871f9",
   "metadata": {},
   "outputs": [
    {
     "data": {
      "text/plain": [
       "array(['delmartian', 'dll pa', 'Natalia Corres \"Natalia Corres\"', ...,\n",
       "       'Lettie D. Carter', 'pksd \"pk_007\"', 'srfell17'],\n",
       "      shape=(218418,), dtype=object)"
      ]
     },
     "execution_count": 23,
     "metadata": {},
     "output_type": "execute_result"
    }
   ],
   "source": [
    "data['ProfileName'].unique()"
   ]
  },
  {
   "cell_type": "code",
   "execution_count": 24,
   "id": "11600fe1-dc04-4038-b8b3-7e3deae9f2e5",
   "metadata": {},
   "outputs": [
    {
     "data": {
      "text/plain": [
       "218418"
      ]
     },
     "execution_count": 24,
     "metadata": {},
     "output_type": "execute_result"
    }
   ],
   "source": [
    "data['ProfileName'].nunique()"
   ]
  },
  {
   "cell_type": "code",
   "execution_count": 25,
   "id": "55124ea4-8cc1-430a-b48a-a5c7cef764d8",
   "metadata": {},
   "outputs": [
    {
     "data": {
      "text/plain": [
       "256059"
      ]
     },
     "execution_count": 25,
     "metadata": {},
     "output_type": "execute_result"
    }
   ],
   "source": [
    "data['UserId'].nunique()"
   ]
  },
  {
   "cell_type": "code",
   "execution_count": 28,
   "id": "0456f1ad-ffbe-4eb3-b17b-41a953af7010",
   "metadata": {},
   "outputs": [
    {
     "data": {
      "application/vnd.microsoft.datawrangler.viewer.v0+json": {
       "columns": [
        {
         "name": "UserId",
         "rawType": "object",
         "type": "string"
        },
        {
         "name": "Summary",
         "rawType": "int64",
         "type": "integer"
        },
        {
         "name": "Text",
         "rawType": "int64",
         "type": "integer"
        },
        {
         "name": "Score",
         "rawType": "float64",
         "type": "float"
        },
        {
         "name": "ProductId",
         "rawType": "int64",
         "type": "integer"
        }
       ],
       "conversionMethod": "pd.DataFrame",
       "ref": "e8fa457e-c952-46db-8841-09c3671a5230",
       "rows": [
        [
         "AY12DBB0U420B",
         "329",
         "329",
         "4.659574468085107",
         "329"
        ],
        [
         "A3OXHLG6DIBRW8",
         "278",
         "278",
         "4.546762589928058",
         "278"
        ],
        [
         "A281NPSIMI1C2R",
         "259",
         "259",
         "4.787644787644788",
         "259"
        ]
       ],
       "shape": {
        "columns": 4,
        "rows": 3
       }
      },
      "text/html": [
       "<div>\n",
       "<style scoped>\n",
       "    .dataframe tbody tr th:only-of-type {\n",
       "        vertical-align: middle;\n",
       "    }\n",
       "\n",
       "    .dataframe tbody tr th {\n",
       "        vertical-align: top;\n",
       "    }\n",
       "\n",
       "    .dataframe thead th {\n",
       "        text-align: right;\n",
       "    }\n",
       "</style>\n",
       "<table border=\"1\" class=\"dataframe\">\n",
       "  <thead>\n",
       "    <tr style=\"text-align: right;\">\n",
       "      <th></th>\n",
       "      <th>Summary</th>\n",
       "      <th>Text</th>\n",
       "      <th>Score</th>\n",
       "      <th>ProductId</th>\n",
       "    </tr>\n",
       "    <tr>\n",
       "      <th>UserId</th>\n",
       "      <th></th>\n",
       "      <th></th>\n",
       "      <th></th>\n",
       "      <th></th>\n",
       "    </tr>\n",
       "  </thead>\n",
       "  <tbody>\n",
       "    <tr>\n",
       "      <th>AY12DBB0U420B</th>\n",
       "      <td>329</td>\n",
       "      <td>329</td>\n",
       "      <td>4.659574</td>\n",
       "      <td>329</td>\n",
       "    </tr>\n",
       "    <tr>\n",
       "      <th>A3OXHLG6DIBRW8</th>\n",
       "      <td>278</td>\n",
       "      <td>278</td>\n",
       "      <td>4.546763</td>\n",
       "      <td>278</td>\n",
       "    </tr>\n",
       "    <tr>\n",
       "      <th>A281NPSIMI1C2R</th>\n",
       "      <td>259</td>\n",
       "      <td>259</td>\n",
       "      <td>4.787645</td>\n",
       "      <td>259</td>\n",
       "    </tr>\n",
       "  </tbody>\n",
       "</table>\n",
       "</div>"
      ],
      "text/plain": [
       "                Summary  Text     Score  ProductId\n",
       "UserId                                            \n",
       "AY12DBB0U420B       329   329  4.659574        329\n",
       "A3OXHLG6DIBRW8      278   278  4.546763        278\n",
       "A281NPSIMI1C2R      259   259  4.787645        259"
      ]
     },
     "execution_count": 28,
     "metadata": {},
     "output_type": "execute_result"
    }
   ],
   "source": [
    "recommend_df = data.groupby(['UserId']).agg({'Summary':'count', 'Text':'count', 'Score':'mean', 'ProductId':'count'}).sort_values(by='ProductId', ascending=False)\n",
    "recommend_df.head(3)"
   ]
  },
  {
   "cell_type": "code",
   "execution_count": 29,
   "id": "3eac22d0-e365-43e4-96c7-9e175bc49193",
   "metadata": {},
   "outputs": [],
   "source": [
    "recommend_df.columns = ['Number_of_summary','num_text','avg_score','no_of_prds_purcharse']"
   ]
  },
  {
   "cell_type": "code",
   "execution_count": 30,
   "id": "71ac23b2-dfcc-447e-8d73-85ef5509be06",
   "metadata": {},
   "outputs": [
    {
     "data": {
      "application/vnd.microsoft.datawrangler.viewer.v0+json": {
       "columns": [
        {
         "name": "UserId",
         "rawType": "object",
         "type": "string"
        },
        {
         "name": "Number_of_summary",
         "rawType": "int64",
         "type": "integer"
        },
        {
         "name": "num_text",
         "rawType": "int64",
         "type": "integer"
        },
        {
         "name": "avg_score",
         "rawType": "float64",
         "type": "float"
        },
        {
         "name": "no_of_prds_purcharse",
         "rawType": "int64",
         "type": "integer"
        }
       ],
       "conversionMethod": "pd.DataFrame",
       "ref": "e7fa9856-5a71-4068-b812-1b35045ebe3e",
       "rows": [
        [
         "AY12DBB0U420B",
         "329",
         "329",
         "4.659574468085107",
         "329"
        ],
        [
         "A3OXHLG6DIBRW8",
         "278",
         "278",
         "4.546762589928058",
         "278"
        ],
        [
         "A281NPSIMI1C2R",
         "259",
         "259",
         "4.787644787644788",
         "259"
        ]
       ],
       "shape": {
        "columns": 4,
        "rows": 3
       }
      },
      "text/html": [
       "<div>\n",
       "<style scoped>\n",
       "    .dataframe tbody tr th:only-of-type {\n",
       "        vertical-align: middle;\n",
       "    }\n",
       "\n",
       "    .dataframe tbody tr th {\n",
       "        vertical-align: top;\n",
       "    }\n",
       "\n",
       "    .dataframe thead th {\n",
       "        text-align: right;\n",
       "    }\n",
       "</style>\n",
       "<table border=\"1\" class=\"dataframe\">\n",
       "  <thead>\n",
       "    <tr style=\"text-align: right;\">\n",
       "      <th></th>\n",
       "      <th>Number_of_summary</th>\n",
       "      <th>num_text</th>\n",
       "      <th>avg_score</th>\n",
       "      <th>no_of_prds_purcharse</th>\n",
       "    </tr>\n",
       "    <tr>\n",
       "      <th>UserId</th>\n",
       "      <th></th>\n",
       "      <th></th>\n",
       "      <th></th>\n",
       "      <th></th>\n",
       "    </tr>\n",
       "  </thead>\n",
       "  <tbody>\n",
       "    <tr>\n",
       "      <th>AY12DBB0U420B</th>\n",
       "      <td>329</td>\n",
       "      <td>329</td>\n",
       "      <td>4.659574</td>\n",
       "      <td>329</td>\n",
       "    </tr>\n",
       "    <tr>\n",
       "      <th>A3OXHLG6DIBRW8</th>\n",
       "      <td>278</td>\n",
       "      <td>278</td>\n",
       "      <td>4.546763</td>\n",
       "      <td>278</td>\n",
       "    </tr>\n",
       "    <tr>\n",
       "      <th>A281NPSIMI1C2R</th>\n",
       "      <td>259</td>\n",
       "      <td>259</td>\n",
       "      <td>4.787645</td>\n",
       "      <td>259</td>\n",
       "    </tr>\n",
       "  </tbody>\n",
       "</table>\n",
       "</div>"
      ],
      "text/plain": [
       "                Number_of_summary  num_text  avg_score  no_of_prds_purcharse\n",
       "UserId                                                                      \n",
       "AY12DBB0U420B                 329       329   4.659574                   329\n",
       "A3OXHLG6DIBRW8                278       278   4.546763                   278\n",
       "A281NPSIMI1C2R                259       259   4.787645                   259"
      ]
     },
     "execution_count": 30,
     "metadata": {},
     "output_type": "execute_result"
    }
   ],
   "source": [
    "recommend_df.head(3)"
   ]
  },
  {
   "cell_type": "code",
   "execution_count": 31,
   "id": "88ba9397-b50e-4d8e-b6af-a32d12ef2d9b",
   "metadata": {},
   "outputs": [
    {
     "data": {
      "text/plain": [
       "Index(['AY12DBB0U420B', 'A3OXHLG6DIBRW8', 'A281NPSIMI1C2R', 'A1YUL9PCJR3JTY',\n",
       "       'A1Z54EM24Y40LL', 'A2MUGFV2TDQ47K', 'A3D6OI36USYOU1', 'AZV26LP92E6WU',\n",
       "       'AKMEY1BSHSDG7', 'A2GEZJHBV92EVR'],\n",
       "      dtype='object', name='UserId')"
      ]
     },
     "execution_count": 31,
     "metadata": {},
     "output_type": "execute_result"
    }
   ],
   "source": [
    "recommend_df.index[0:10]"
   ]
  },
  {
   "cell_type": "code",
   "execution_count": 32,
   "id": "89639826-2045-49c5-99b7-e1c3542d7664",
   "metadata": {},
   "outputs": [
    {
     "data": {
      "text/plain": [
       "array([329, 278, 259, 214, 211, 161, 146, 129, 119, 118])"
      ]
     },
     "execution_count": 32,
     "metadata": {},
     "output_type": "execute_result"
    }
   ],
   "source": [
    "recommend_df['no_of_prds_purcharse'][0:10].values"
   ]
  },
  {
   "cell_type": "code",
   "execution_count": 33,
   "id": "7c843a09-4288-4cea-a328-95b3febcb37f",
   "metadata": {},
   "outputs": [
    {
     "data": {
      "text/plain": [
       "<BarContainer object of 10 artists>"
      ]
     },
     "execution_count": 33,
     "metadata": {},
     "output_type": "execute_result"
    },
    {
     "data": {
      "image/png": "[encoded data removed]",
      "text/plain": [
       "<Figure size 640x480 with 1 Axes>"
      ]
     },
     "metadata": {},
     "output_type": "display_data"
    }
   ],
   "source": [
    "plt.bar(recommend_df.index[0:10], recommend_df['no_of_prds_purcharse'][0:10].values)"
   ]
  },
  {
   "cell_type": "code",
   "execution_count": 34,
   "id": "eef73595-71af-4e56-a0ce-351cef3510ea",
   "metadata": {},
   "outputs": [
    {
     "data": {
      "text/plain": [
       "([0, 1, 2, 3, 4, 5, 6, 7, 8, 9],\n",
       " [Text(0, 0, 'AY12DBB0U420B'),\n",
       "  Text(1, 0, 'A3OXHLG6DIBRW8'),\n",
       "  Text(2, 0, 'A281NPSIMI1C2R'),\n",
       "  Text(3, 0, 'A1YUL9PCJR3JTY'),\n",
       "  Text(4, 0, 'A1Z54EM24Y40LL'),\n",
       "  Text(5, 0, 'A2MUGFV2TDQ47K'),\n",
       "  Text(6, 0, 'A3D6OI36USYOU1'),\n",
       "  Text(7, 0, 'AZV26LP92E6WU'),\n",
       "  Text(8, 0, 'AKMEY1BSHSDG7'),\n",
       "  Text(9, 0, 'A2GEZJHBV92EVR')])"
      ]
     },
     "execution_count": 34,
     "metadata": {},
     "output_type": "execute_result"
    },
    {
     "data": {
      "image/png": "[encoded data removed]",
      "text/plain": [
       "<Figure size 640x480 with 1 Axes>"
      ]
     },
     "metadata": {},
     "output_type": "display_data"
    }
   ],
   "source": [
    "plt.bar(recommend_df.index[0:10], recommend_df['no_of_prds_purcharse'][0:10].values)\n",
    "plt.xticks(rotation='vertical')"
   ]
  },
  {
   "cell_type": "markdown",
   "id": "b86cfa1c-d424-4beb-9a3c-7a81702d3df8",
   "metadata": {
    "jp-MarkdownHeadingCollapsed": true
   },
   "source": [
    "# 31 - Analysing which product has good number of Reviews"
   ]
  },
  {
   "cell_type": "code",
   "execution_count": 35,
   "id": "b81944f9-254b-47bc-83f3-57226d494564",
   "metadata": {},
   "outputs": [
    {
     "data": {
      "text/plain": [
       "Index(['Id', 'ProductId', 'UserId', 'ProfileName', 'HelpfulnessNumerator',\n",
       "       'HelpfulnessDenominator', 'Score', 'Time', 'Summary', 'Text'],\n",
       "      dtype='object')"
      ]
     },
     "execution_count": 35,
     "metadata": {},
     "output_type": "execute_result"
    }
   ],
   "source": [
    "data.columns"
   ]
  },
  {
   "cell_type": "code",
   "execution_count": 36,
   "id": "9b818105-8051-4c8a-bd61-b363d6c3fd3a",
   "metadata": {},
   "outputs": [
    {
     "data": {
      "text/plain": [
       "67624"
      ]
     },
     "execution_count": 36,
     "metadata": {},
     "output_type": "execute_result"
    }
   ],
   "source": [
    "len(data['ProductId'].unique())"
   ]
  },
  {
   "cell_type": "code",
   "execution_count": 37,
   "id": "8ea23b9d-061a-4018-a17d-cf8829f8d191",
   "metadata": {},
   "outputs": [
    {
     "data": {
      "text/plain": [
       "67624"
      ]
     },
     "execution_count": 37,
     "metadata": {},
     "output_type": "execute_result"
    }
   ],
   "source": [
    "data['ProductId'].nunique()"
   ]
  },
  {
   "cell_type": "code",
   "execution_count": 38,
   "id": "674591a5-aaed-4bcc-a623-21aec137c9d3",
   "metadata": {},
   "outputs": [
    {
     "data": {
      "text/plain": [
       "pandas.core.series.Series"
      ]
     },
     "execution_count": 38,
     "metadata": {},
     "output_type": "execute_result"
    }
   ],
   "source": [
    "type(data['ProductId'].value_counts())"
   ]
  },
  {
   "cell_type": "code",
   "execution_count": 39,
   "id": "03efc288-d203-4e59-a9c7-04ce35fd0b61",
   "metadata": {},
   "outputs": [
    {
     "data": {
      "text/plain": [
       "ProductId\n",
       "B007JFMH8M    912\n",
       "B002QWP89S    630\n",
       "B003B3OOPA    622\n",
       "B001EO5Q64    566\n",
       "B0013NUGDE    558\n",
       "             ... \n",
       "B009GTIHG0      1\n",
       "B003IFB148      1\n",
       "B002XO3Q52      1\n",
       "B001TGY7W6      1\n",
       "B0001WYNFA      1\n",
       "Name: count, Length: 67624, dtype: int64"
      ]
     },
     "execution_count": 39,
     "metadata": {},
     "output_type": "execute_result"
    }
   ],
   "source": [
    "data['ProductId'].value_counts()"
   ]
  },
  {
   "cell_type": "code",
   "execution_count": 40,
   "id": "6d7cc2ba-2795-41e5-8e74-724b62bc43dd",
   "metadata": {},
   "outputs": [],
   "source": [
    "prd_count = data['ProductId'].value_counts().to_frame()"
   ]
  },
  {
   "cell_type": "code",
   "execution_count": 41,
   "id": "dc6f51e5-6f14-4bd7-a1f7-cecb19dd309c",
   "metadata": {},
   "outputs": [
    {
     "data": {
      "text/plain": [
       "Index(['B007JFMH8M', 'B002QWP89S', 'B003B3OOPA', 'B001EO5Q64', 'B0013NUGDE',\n",
       "       'B000KV61FC', 'B000UBD88A', 'B000NMJWZO', 'B005K4Q37A', 'B0090X8IPM',\n",
       "       ...\n",
       "       'B0002ARMS6', 'B000JT45IA', 'B003Q9VWUO', 'B004CHDG44', 'B004CZUOSM',\n",
       "       'B009GTIHG0', 'B003IFB148', 'B002XO3Q52', 'B001TGY7W6', 'B0001WYNFA'],\n",
       "      dtype='object', name='ProductId', length=67624)"
      ]
     },
     "execution_count": 41,
     "metadata": {},
     "output_type": "execute_result"
    }
   ],
   "source": [
    "prd_count.index"
   ]
  },
  {
   "cell_type": "code",
   "execution_count": 42,
   "id": "9a64aa63-60e5-4b3e-b152-97e0b3f37187",
   "metadata": {},
   "outputs": [],
   "source": [
    "frequent_prd_ids = prd_count[prd_count['count']>500].index"
   ]
  },
  {
   "cell_type": "code",
   "execution_count": 43,
   "id": "85949c58-d82e-4ecf-8f96-8cdd0254c872",
   "metadata": {},
   "outputs": [
    {
     "data": {
      "text/plain": [
       "0         False\n",
       "1         False\n",
       "2         False\n",
       "3         False\n",
       "4         False\n",
       "          ...  \n",
       "568449    False\n",
       "568450    False\n",
       "568451    False\n",
       "568452    False\n",
       "568453    False\n",
       "Name: ProductId, Length: 393931, dtype: bool"
      ]
     },
     "execution_count": 43,
     "metadata": {},
     "output_type": "execute_result"
    }
   ],
   "source": [
    "data['ProductId'].isin(frequent_prd_ids)"
   ]
  },
  {
   "cell_type": "code",
   "execution_count": 44,
   "id": "43841924-f472-43db-91dc-9b4227d7cc2a",
   "metadata": {},
   "outputs": [
    {
     "data": {
      "application/vnd.microsoft.datawrangler.viewer.v0+json": {
       "columns": [
        {
         "name": "index",
         "rawType": "int64",
         "type": "integer"
        },
        {
         "name": "Id",
         "rawType": "int64",
         "type": "integer"
        },
        {
         "name": "ProductId",
         "rawType": "object",
         "type": "string"
        },
        {
         "name": "UserId",
         "rawType": "object",
         "type": "string"
        },
        {
         "name": "ProfileName",
         "rawType": "object",
         "type": "string"
        },
        {
         "name": "HelpfulnessNumerator",
         "rawType": "int64",
         "type": "integer"
        },
        {
         "name": "HelpfulnessDenominator",
         "rawType": "int64",
         "type": "integer"
        },
        {
         "name": "Score",
         "rawType": "int64",
         "type": "integer"
        },
        {
         "name": "Time",
         "rawType": "datetime64[ns]",
         "type": "datetime"
        },
        {
         "name": "Summary",
         "rawType": "object",
         "type": "string"
        },
        {
         "name": "Text",
         "rawType": "object",
         "type": "string"
        }
       ],
       "conversionMethod": "pd.DataFrame",
       "ref": "78238cd0-896a-4cba-8629-0e33898efbb4",
       "rows": [
        [
         "20982",
         "20983",
         "B002QWP89S",
         "A21U4DR8M6I9QN",
         "K. M Merrill \"justine\"",
         "1",
         "1",
         "5",
         "2011-10-18 00:00:00",
         "addictive! but works for night coughing in dogs",
         "my 12 year old sheltie has chronic brochotitis, been on meds for three years, these help with the coughing fits at night. so I like them!!!<br /> one bite and both my dogs are addicted!!! be warned!!! 7 pm both shelties are on my lap howling for the drug fix! I am a dog trainer and have never seen  anything like it....<br /><br />three weeks later,, the beloved sheltie got a bowel blockage from these, use with caution.<br />if the cat gets too many she has the runs....<br />sheltie did better when i upped her thryoid meds, and gave her doggie asthma meds.<br />so it worked better for the 18 year old cat, who also has asthma."
        ],
        [
         "20983",
         "20984",
         "B002QWP89S",
         "A17TDUBB4Z1PEC",
         "jaded_green",
         "1",
         "1",
         "5",
         "2011-10-14 00:00:00",
         "genuine Greenies best price",
         "These are genuine Greenies product, not a knockoff.  My dogs love them!  It is their favorite treat.  I have 2 small dogs, both under 10 lbs. and the Teenie size is perfect for them.  I paid $22.37 for this 96-pack and it is by far the best price I have found anywhere.  I wish these were part of the Subscribe & Save program."
        ],
        [
         "20984",
         "20985",
         "B002QWP89S",
         "ABQH3WAWMSMBH",
         "tenisbrat87",
         "1",
         "1",
         "5",
         "2011-09-28 00:00:00",
         "Perfect for our little doggies",
         "Our dogs love Greenies, but of course, which doggies don't?  I bought this for my dashchund and minpin, and it's perfect!  A great price for a great product.  Who could ask for more."
        ],
        [
         "20985",
         "20986",
         "B002QWP89S",
         "AVTY5M74VA1BJ",
         "tarotqueen",
         "1",
         "1",
         "5",
         "2011-09-24 00:00:00",
         "dogs love greenies",
         "What can I say, dogs love greenies. They begg for them all the time. They always sit by the cupboard and ask for more."
        ],
        [
         "20986",
         "20987",
         "B002QWP89S",
         "A13TNN54ZEAUB1",
         "dcz2221",
         "1",
         "1",
         "5",
         "2011-09-23 00:00:00",
         "Greenies review",
         "This review is for a box of Greenies Lite for my dog. The package came quickly and was packaged appropriately. I was very satisfied with this purchase and with the seller."
        ],
        [
         "20987",
         "20988",
         "B002QWP89S",
         "A1AO8A38JUDVAF",
         "chrisdd",
         "1",
         "1",
         "5",
         "2011-09-05 00:00:00",
         "Magic Breath Chews for your dog",
         "I highly recommend these chews for your dog. They do exactly what they say that they will do; freshen your dog's breath!<br /><br />I found them to be significantly cheaper to buy them at Amazon compared to the chain pet stores; at least $10 cheaper as of Sept. 2011.<br /><br />I have read that some dogs do not chew them well enough and have choked. I have not had that happen to my dog but it is probably something you need to take into consideration.<br /><br />My advice is to buy a smaller bag at a pet store first and see if they work for your animal. Then come back and buy them here!"
        ],
        [
         "20988",
         "20989",
         "B002QWP89S",
         "AH261OMJCV5U8",
         "Chelle \"Wichita, Kansas\"",
         "1",
         "1",
         "5",
         "2011-08-26 00:00:00",
         "Greenies for Seniors",
         "I have always used Greenies for my dogs. THese for seniors are wonderful. I have an elderly bulldog with really bad breath. She used to swallow the original Greenies whole so I quit buying them for her. She actually does chew these and eat them and they make a big difference in how her breath smells. Great product and the price is better than I have seen it in some local pet stores."
        ],
        [
         "20989",
         "20990",
         "B002QWP89S",
         "A3VVIU4JE56U4K",
         "P. Chevalier",
         "1",
         "1",
         "5",
         "2011-08-26 00:00:00",
         "Kinda Pricy but good!",
         "If you've got hard chewers (like one of our dogs), these things won't really work for the 'brushing' aspect -- they're bussted up and swallowed pretty quickly. We have three Chihuahua mixes, and they dispatched these petite ones too quickly, so we get them the next size up (small, I think). But the product is good, and they really do help a bit with breath -- although the biggest bad-breath-maker is teeth that need brushing, and there is no substitute for real brushing/cleaning.  These are good as part of the process though. We have, and will continue to purchase this product."
        ],
        [
         "20990",
         "20991",
         "B002QWP89S",
         "A3MWZ2E112KIY4",
         "J. Nakawatase",
         "1",
         "1",
         "5",
         "2011-08-21 00:00:00",
         "DOG LOVES THESE",
         "I tried Greenies on my dog about 8 years ago and he won't eat them.  So I tried dental rawhide chews which he chewed just fine.  My dog is now 13 years old and he started to swallow the dental rawhide whole and would choke on them.  I'm not sure because of his age that he tries to swallow them whole, but I'm sure it's not good for him.  I thought I would try the Greenies again because the reviews are good and they break into bits when chewed.  I order the large Greenies for him and he loves them.  I'm not sure if they changed the taste or what, but he chews them, and hopefully it will help maintain his teeth."
        ],
        [
         "20991",
         "20992",
         "B002QWP89S",
         "A2PRQXWZRHTKE3",
         "Maria Karlsson",
         "1",
         "1",
         "5",
         "2011-08-13 00:00:00",
         "Great treat and good for dental health",
         "This is a fabulous treat for my little cavalier king charles. He looks forward to it after his daily dental cleaning. I cut each greenie into smaller pieces, because JB (for James Bond) has long ears and he chews on the smaller pieces without letting anything fall on the floor and sticking to his ears."
        ],
        [
         "20992",
         "20993",
         "B002QWP89S",
         "A3TDMH1Z8CUBAF",
         "JuneauGal",
         "1",
         "1",
         "5",
         "2011-07-08 00:00:00",
         "My dogs love these chews!",
         "I am the lucky parent of three dogs. I alternate their teeth cleaning chews and they love the Greenies and the Checkups best. Thanks to Amazon, I don't have to pay for S&H, which living in Alaska, usually costs a fortune!! Thank you Amazon!! I prefer to purchase from our local pet store, but they aren't able to get the Greenies or the Checkups, so I'm very happy that I can order them through Amazon."
        ],
        [
         "20993",
         "20994",
         "B002QWP89S",
         "A37565LZHTG1VH",
         "C. Maltese",
         "1",
         "1",
         "5",
         "2011-05-14 00:00:00",
         "Awesome!",
         "This is a great product. My 2 year old Golden Retriever hates to have his teeth brushed and this product made his teeth white again. Great seller and great price too!"
        ],
        [
         "20994",
         "20995",
         "B002QWP89S",
         "A3C6UEDOZGF8D5",
         "gracefultiger",
         "1",
         "1",
         "4",
         "2010-12-18 00:00:00",
         "My cat loves the dog greenies",
         "I was looking for a way to help clean my cat's teeth so at first I tried the feline greenies,but he wouldn't have anything to do with those. I went to the local pet store looking for an alternative and the clerk suggested trying the dog greenies instead. I was skeptical at first so I only bought a couple of individually wrapped samples. Well, my cat absolutely loves the dog greenies! They do seem to help his breath, but I don't know how much they help the plaque and tartar build up. Oh well, it has become the only treat he likes so I will keep buying bulk boxes. I give him one every day, occasionally two, if I need to bribe him to stay inside when I open the door."
        ],
        [
         "20995",
         "20996",
         "B002QWP89S",
         "A3NNJ2VVOCMRLN",
         "Melisa Sobalvarro",
         "1",
         "1",
         "4",
         "2010-08-24 00:00:00",
         "whiten your dogs teeth",
         "Greenies are an excellant way to whiten your dogs teeth. The costs were much lower here, than what you can buy locally at the dog food stores. They have made a great improvment in my dog(s) breath, tarter and overall mouth smell!"
        ],
        [
         "20996",
         "20997",
         "B002QWP89S",
         "A28I1BP8N7I8A0",
         "My Pen Name",
         "1",
         "1",
         "4",
         "2010-08-12 00:00:00",
         "Dogs love them - Owners hate paying for them!",
         "My dogs are addicted to these things and it's my fault.  Whether or not they are good for my dog's teeth and digestive health is up in the air. All I know is that it keeps them quiet and they will do anything for them.<br /><br />I would lower the star ratings based on the fact that the manufacturer knows they have, some what, of a monopoly and charge an inordinate amount for these treats; yet, I am dumb enough to buy them so it's basically my fault.<br /><br />At least by buying on Amazon you are saving some dollar bills as compared to a traditional brick and mortar.<br /><br />My only gripe is that by the time you get to the end of the box, even if you seal the bag, they get significantly harder and I am somewhat concerned that they will splinter.<br /><br />Also, be sure to watch over your dog when he eats them, just to be safe."
        ],
        [
         "20997",
         "20998",
         "B002QWP89S",
         "AHSWZSAXI8BPS",
         "shoodow",
         "1",
         "1",
         "4",
         "2010-08-04 00:00:00",
         "likes it",
         "this product does help to cleen the teeth, but doesnt really help to get rid of the bad breath of my pom..But still a good buy, cause the size is perfect for small breed dogs"
        ],
        [
         "20998",
         "20999",
         "B002QWP89S",
         "A1OU45ZINNK7YV",
         "J. Heldman",
         "1",
         "1",
         "4",
         "2010-06-21 00:00:00",
         "My dogs' teeth are pearly white",
         "My dogs love their Greenies, and their teeth are pearly white from chewing on them.  The only problem is that Greenies are expensive, so I buy them in bulk on Amazon to keep the prices down a little bit,"
        ],
        [
         "20999",
         "21000",
         "B002QWP89S",
         "A3NYAP2AZPWQJ5",
         "Swiss Miss",
         "1",
         "1",
         "5",
         "2010-05-28 00:00:00",
         "My dog loves these",
         "My dog loves greenies - she waits for them everyday!  We give her one regular sized one per day and the teenies as treats for going outside etc.  I have heard that these do not digest easily if your dog is not a chewer.  My dog is a chewer so it works out great.  She is addicted!"
        ],
        [
         "21000",
         "21001",
         "B002QWP89S",
         "A31H9N00DB65HO",
         "S. Ruzek",
         "1",
         "1",
         "5",
         "2010-05-01 00:00:00",
         "Our dog loves her Greenies!",
         "Super fast shipping, even included a couple trial treats.  Our dog loves these and we'll be purchasing them again!"
        ],
        [
         "21001",
         "21002",
         "B002QWP89S",
         "A1LNPBV70N2T02",
         "Sonja Haywood Megens \"Sonja\"",
         "1",
         "1",
         "5",
         "2010-04-25 00:00:00",
         "Good Deal for my Good Dog",
         "My dog looks forward to a Greenie dessert everyday.  You will NOT find this deal at the local pet stores.  I love the fact that I get a good deal at Amazon.  I save time and gas.  My dog thanks us both."
        ],
        [
         "21002",
         "21003",
         "B002QWP89S",
         "A2L28WZD5RW60T",
         "Harry G. Kohler \"MathGuy\"",
         "1",
         "1",
         "5",
         "2010-01-30 00:00:00",
         "Greenies",
         "Perform as promised.  No problems with \"blobs\" since my dog chews 'em up real well."
        ],
        [
         "21003",
         "21004",
         "B002QWP89S",
         "ANOAFB0GOMU5C",
         "Vivian A. Robaldo \"Viv\"",
         "1",
         "1",
         "5",
         "2010-01-26 00:00:00",
         "My dogs love them!",
         "Great treat for all doggies, very healthy and they adore them.  Excellent and fast shipping,will buy again."
        ],
        [
         "21004",
         "21005",
         "B002QWP89S",
         "A2C64W88KUQKYO",
         "Patricia L. Terho \"BookWormette\"",
         "1",
         "1",
         "5",
         "2010-01-07 00:00:00",
         "Teenie Greenies",
         "My little dogs really like these \"teenie\" Greenies dental chewies. Not only are they good for the dogs' teeth, the dogs consider them a treat! I am not able to find these really small Greenies elsewhere; the smallest I can find in the stores are \"petites\" which are too large for these little dogs to chew.  So, thank you for making these available.  I was very pleased with the service; these arrived here quickly and in excellent condition!  I will order from this website again!"
        ],
        [
         "21005",
         "21006",
         "B002QWP89S",
         "A2ZNIKXT764IV4",
         "Sue \"suezieqt\"",
         "1",
         "1",
         "5",
         "2009-12-30 00:00:00",
         "Expensive treats but my dogs LOVE them!",
         "I have two Airedales.  They aren't fussy eaters - or snackers - but each gets a Greenie at bedtime.  We let them out in the yard for a bit before they go to bed and all I have to do is say \"Time for your Greenies!\" to make them race for the house and dance around until they get that bedtime snack.  It's their special treat and I love the fact that they actually have to chew them moderately slowly instead of just inhaling them!  The only drawback is that they're expensive."
        ],
        [
         "21006",
         "21007",
         "B002QWP89S",
         "A3GON8WVDICI9P",
         "Garrick Hinaga",
         "1",
         "1",
         "5",
         "2009-11-28 00:00:00",
         "Very happy with purchase",
         "I was very happy with the quick delivery and how I was given a tracking method to determine where my Greenies were. I'll telling my friends and relatives about the good experience."
        ],
        [
         "21007",
         "21008",
         "B002QWP89S",
         "AJYYLJ7QYT0H4",
         "My Opinion",
         "1",
         "1",
         "4",
         "2009-11-20 00:00:00",
         "My Dog Loves Them",
         "What can I say my dog goes crazy over these things - wish I really understood what are in them that makes it so desirable...now if we could only do this for vegetables so kids would be excited!!"
        ],
        [
         "21008",
         "21009",
         "B002QWP89S",
         "A30F5VJRO3095U",
         "Ailoa Sweet",
         "1",
         "1",
         "5",
         "2009-10-28 00:00:00",
         "My Silky Terrier loves these!",
         "He weighs 15 pounds, so he is just at the top of the range for the teenie size Greenies.  He likes them so much, he would probably prefer the Jumbo size!  I've given him these for his whole life, so I don't know if they get his teeth any cleaner than without them, but his teeth look pretty clean to me!"
        ],
        [
         "21009",
         "21010",
         "B002QWP89S",
         "A1F5004VYZ3AXH",
         "L. Ellis \"lellis\"",
         "1",
         "1",
         "5",
         "2009-09-12 00:00:00",
         "Great for dog breath and teeth",
         "Ive been buying this product for a few years and am very happy with it. My dog loves them."
        ],
        [
         "21010",
         "21011",
         "B002QWP89S",
         "A25OE2QSYV6J38",
         "H. Skelcher",
         "1",
         "1",
         "4",
         "2009-06-09 00:00:00",
         "My dog LOVES these",
         "Ok, can I just express how much my dog loves Greenies.  I know that there have been reports of problems with dogs inhaling them without chewing them well and thus having digestion problems, but my dog savors them.  She freaks out when she knows she's going to get one and will heard whomever is getting it right to the place we store them.  She knows if we talk about them so we have to call them G's to each other.  She will tolerate other treats if I'm waiting for an order from Amazon, but she doesn't like it.  The only downfall is the price.  I can usually find a pretty good deal somewhere on Amazon and so I'll stock up on them when I can.  If I can't, she has to wait and substitute with something else."
        ],
        [
         "21011",
         "21012",
         "B002QWP89S",
         "ATH3S1TOL6OOJ",
         "L. Palkendo Jr.",
         "1",
         "1",
         "5",
         "2009-05-07 00:00:00",
         "Greenies",
         "Stopped being able to find large quantities locally so glad that Amazon has vendors who are selling them at a great price."
        ],
        [
         "21012",
         "21013",
         "B002QWP89S",
         "A2BRHD5Z79UCD7",
         "Jack Hales Jr",
         "1",
         "1",
         "5",
         "2009-03-27 00:00:00",
         "Greenie Review",
         "<a href=\"http://www.amazon.com/gp/product/B000KBFKIQ\">Greenies Dental Chews - 27 ounce Box - Petite - 45 count</a> Very good product delivered promptly at a fair price. Will order more from this site."
        ],
        [
         "21013",
         "21014",
         "B002QWP89S",
         "AWR7YOZ6VLBW1",
         "D. J. Lee \"fivespd\"",
         "1",
         "1",
         "4",
         "2009-01-01 00:00:00",
         "Great for picky eaters",
         "My dog is the pickiest eater and does not enjoy many treats but he goes crazy over this one. It helps freshen his breath but I don't know how to evaluate the cleaning ability of this product. The only bad thing is that it will make your dog fat if he eats too much."
        ],
        [
         "21014",
         "21015",
         "B002QWP89S",
         "A2QMK145N3F9M",
         "anzi",
         "3",
         "4",
         "1",
         "2012-10-08 00:00:00",
         "Check Contents First",
         "Half way through the supply, I noticed that there were tiny white worms boring through a greenie so I checked the remaining greenies and they also had worms.  Please empty the contents of the box and check the greenies when you receive your order before giving them to your dog.  This may have been an isolated incident but it would only take a few minutes to check the contents for freshness."
        ],
        [
         "21015",
         "21016",
         "B002QWP89S",
         "A19123D9G66E0O",
         "Tim",
         "5",
         "7",
         "3",
         "2012-01-14 00:00:00",
         "Dogs love them, but I don't think they love dogs",
         "I will continue to give these to my dogs. They like them and supposedly they clean their teeth.<br />I started to give these to my dog daily, but her digestive system did not like it enough for that. Most of it seems to be digestible, but she threw up green foam on the morning after the second day in a row of eating one-a-day greenies. Note that she was also constipated as well. Greenie advises to have plenty of water available for drinking these, so I am guess they know these side effects can occur. My dog has plenty of water available, but she didn't drink any more than normal, which may have resulted in the effects. I don't plan on training my dog to drink lots of extra water after eating these. Giving here one every now and then shows no negative effects, and that what I plan on doing.<br />Not a complaint to me, but I think people who like giving there dog all natural health food should know that this product is far from \"green.\" It is pumped pull of artificial ingredients like a multivitamin. It is also made from concentrated grain protein, rather than the animal protein dogs should be getting. I personally don't feel that this is that big of a deal health wise for a creature than lives 12-18 years, but or people who invest the extra money on organic/natural dog food, you should be staying away from this product."
        ],
        [
         "21016",
         "21017",
         "B002QWP89S",
         "A21KPT2TLE20SI",
         "M. J. Glita",
         "4",
         "6",
         "3",
         "2011-01-14 00:00:00",
         "Wrong size",
         "I ordered the GREENIES 'PETITE' size for my dogs, as I have done many times  before thru Amazon.  This time however, the WRONG size greenies arrived.  The thing is, the box DID say it was the PETITE size on it!  After I opened the box, I found that it was the next size up and too big for my dogs to eat.  Now I have to try & cut these stinkers with a scissors each day!  I'm NOT happy...but I couldn't return them as I had opened the package.<br />I am afraid to order more, as the entire batch that Amazon has, may ALL be MIS-labled!"
        ],
        [
         "21017",
         "21018",
         "B002QWP89S",
         "A11VCDXC7TGFTG",
         "Do-It-Herself",
         "0",
         "0",
         "5",
         "2012-10-25 00:00:00",
         "A great deal on Greenies",
         "Paid only $22 with free shipping for 96 teenies compared to about $35 at the pet store. How can you go wrong with a deal like that?  The dog begs for his daily Greenie. Got to have them."
        ],
        [
         "21018",
         "21019",
         "B002QWP89S",
         "A16MHMVUD5X4I7",
         "Erayna (Legend)",
         "0",
         "0",
         "5",
         "2012-10-24 00:00:00",
         "Greenies for Dogs",
         "How well the dogs would eat them.  Glad to know the benefits the animals get from chewing them, both for teeth cleaning and breathe.  Safety us always an issue."
        ],
        [
         "21019",
         "21020",
         "B002QWP89S",
         "A2DBNDAIHM8XXL",
         "Dennis Park \"Dennis\"",
         "0",
         "0",
         "1",
         "2012-10-23 00:00:00",
         "very dangerous product for dogs",
         "i bought this for my dog - he loved it.  however, i noticed that he stopped pooping and came to realize (after googling) that it caused him to be constipated.  His stomach was very bloated and I could feel that his colon was obstructed by something -- a piece of undigested greenies treat.  I gave him all some olive oil and mineral oil and massaged his colon and eventually he started pooping again.  I did notice that the greenie came out undigested!  This product is really dangerous and I would love to join in on a class action lawsuit against this unethical company.  They have made greenies 'tasty' but that is all it is.  a tasty but dangerous product."
        ],
        [
         "21020",
         "21021",
         "B002QWP89S",
         "A1REM7I2ZEE195",
         "Denise Christensen \"D. Chris10sen\"",
         "0",
         "0",
         "5",
         "2012-10-21 00:00:00",
         "Best doggie treat",
         "I buy the teenie greenies and break them in half for our dogs.  They go nuts over them no matter what the size.  Having them in a \"lite\" version is even better because the vet did tell me they are high in calories.  Don't know what they put in these things to make them so appealing, but haven't known a dog yet who doesn't love them.  Hope they are also doing the job they are meant to do."
        ],
        [
         "21021",
         "21022",
         "B002QWP89S",
         "A1CLSM0DDBU4PN",
         "Karyn",
         "0",
         "0",
         "5",
         "2012-10-20 00:00:00",
         "Dog loves Greenies",
         "Greenies are always a good product.  Our dog loves them and reminds us if we forget to give him one.  Plus I love the price on Amazon and can't always get them locally."
        ],
        [
         "21022",
         "21023",
         "B002QWP89S",
         "A35JBDYRVSRHH0",
         "Dorreen Wanitschke \"banker\"",
         "0",
         "0",
         "5",
         "2012-10-20 00:00:00",
         "Great teeth",
         "My vet is always surprised how clean my 8 year old dog's teeth are and I attribute this the his daily Greenie."
        ],
        [
         "21023",
         "21024",
         "B002QWP89S",
         "A11QSEA6DZM4FZ",
         "Radtechmom",
         "0",
         "0",
         "5",
         "2012-10-20 00:00:00",
         "radtechmom",
         "Our beautiful Belle loves her daily toothbrush treat. Amazon provides an awesome price and delivers them to our doorstep. That makes it even handier. The Greenies are a proven winner for a more natural breath freshening dog treat. Too bad Greenies doesn't get more 'green' with their packaging and lose the outer box that they use. The sealed inside bag would be plenty good enough. It keeps the treats fresh and takes up less space. The first thing we do is toss the box out--- what a waste!"
        ],
        [
         "21024",
         "21025",
         "B002QWP89S",
         "A3P8H4629FM490",
         "Janice Foley",
         "0",
         "0",
         "5",
         "2012-10-20 00:00:00",
         "my dogs love these",
         "In September, I adopted 2 adult border terrier mixes from The Shelter Pet project and the oldest girl had a few \"breath\" issues.  Heard about Greenies and have not been disappointed.  The two of them love their treat before I go to work and it is comical to see them chew and chew and chew, since that is what removes the tartar. Amazon has much better pricing then the pet centers, so I love it.  Try them for your pet, they will love it."
        ],
        [
         "21025",
         "21026",
         "B002QWP89S",
         "A24DV855HVG8YD",
         "Luis M",
         "0",
         "0",
         "4",
         "2012-10-19 00:00:00",
         "My Yorkie Loves them!",
         "This is the first time I bought this product for my 9 yr old yorkie... and she loved it!  The small size is perfect for her.  This box of greenies will give her many days of enjoyment!"
        ],
        [
         "21026",
         "21027",
         "B002QWP89S",
         "A38OA79EH91ESR",
         "Library Girl",
         "0",
         "0",
         "5",
         "2012-10-19 00:00:00",
         "Puppies love them!",
         "These tinnie greenies make the perfect \"out the door\" bribe for my Cavlier King Charles Babies. I think they almost look forward to me going to work now.  Barkley is 21 lbs & Gypsy is 18 so while they are a bit larger than the recommended size for the product it really works out perfectly helping keep the pounds off.<br /><br />Having shopped around, you are saving about ten dollars by ordering from Amazon rather than going into a big box pet store."
        ],
        [
         "21027",
         "21028",
         "B002QWP89S",
         "AEIQ20BHN9JFI",
         "MartyF81",
         "0",
         "0",
         "5",
         "2012-10-16 00:00:00",
         "My Dog Says YUMMMMM",
         "My Chihuahua has horrible horrible breath.... and she loves to get in your face and give kisses to everyone. These help, and she loves to eat them. Good thing she can't reach the counter!"
        ],
        [
         "21028",
         "21029",
         "B002QWP89S",
         "A3IL1XU220XIC1",
         "William F. Collins III",
         "0",
         "0",
         "4",
         "2012-10-16 00:00:00",
         "Good",
         "My dog likes thse alot..He runs to his bedroom to eat them, which is reserved for just his special treats..Can't say his breath is any better but he just started eating them a month ago,or so.."
        ],
        [
         "21029",
         "21030",
         "B002QWP89S",
         "A2XFE06WLWRFY5",
         "MacMarv",
         "0",
         "0",
         "3",
         "2012-10-16 00:00:00",
         "Jumbo Greenies-Good but Very Expensive",
         "Bought the Jumbo Greenies for my Black Lab. He loved them, but at $2.66 each they are way too expensive for regular use.  Didn't notice any difference in breath which was the primary reason for buying."
        ],
        [
         "21030",
         "21031",
         "B002QWP89S",
         "A1Q8VCGRLYKXTW",
         "palomar",
         "0",
         "0",
         "4",
         "2012-10-16 00:00:00",
         "Dogs liked 'em!",
         "Our two thirteen year dogs like these.  They're prone to major tartar build up on their teeth and these helped some and made their breath better.  I never expected these to polish the teeth perfectly but they made a bad condition not so bad."
        ],
        [
         "21031",
         "21032",
         "B002QWP89S",
         "A1TY4AX8AVRAYQ",
         "Downing",
         "0",
         "0",
         "5",
         "2012-10-16 00:00:00",
         "Cleaner dog mouth",
         "This is a good product. My dog likes them, Makes it obvious he wants his greenie every night. Amazon sells them at good price and quality has always been good"
        ]
       ],
       "shape": {
        "columns": 10,
        "rows": 6504
       }
      },
      "text/html": [
       "<div>\n",
       "<style scoped>\n",
       "    .dataframe tbody tr th:only-of-type {\n",
       "        vertical-align: middle;\n",
       "    }\n",
       "\n",
       "    .dataframe tbody tr th {\n",
       "        vertical-align: top;\n",
       "    }\n",
       "\n",
       "    .dataframe thead th {\n",
       "        text-align: right;\n",
       "    }\n",
       "</style>\n",
       "<table border=\"1\" class=\"dataframe\">\n",
       "  <thead>\n",
       "    <tr style=\"text-align: right;\">\n",
       "      <th></th>\n",
       "      <th>Id</th>\n",
       "      <th>ProductId</th>\n",
       "      <th>UserId</th>\n",
       "      <th>ProfileName</th>\n",
       "      <th>HelpfulnessNumerator</th>\n",
       "      <th>HelpfulnessDenominator</th>\n",
       "      <th>Score</th>\n",
       "      <th>Time</th>\n",
       "      <th>Summary</th>\n",
       "      <th>Text</th>\n",
       "    </tr>\n",
       "  </thead>\n",
       "  <tbody>\n",
       "    <tr>\n",
       "      <th>20982</th>\n",
       "      <td>20983</td>\n",
       "      <td>B002QWP89S</td>\n",
       "      <td>A21U4DR8M6I9QN</td>\n",
       "      <td>K. M Merrill \"justine\"</td>\n",
       "      <td>1</td>\n",
       "      <td>1</td>\n",
       "      <td>5</td>\n",
       "      <td>2011-10-18</td>\n",
       "      <td>addictive! but works for night coughing in dogs</td>\n",
       "      <td>my 12 year old sheltie has chronic brochotitis...</td>\n",
       "    </tr>\n",
       "    <tr>\n",
       "      <th>20983</th>\n",
       "      <td>20984</td>\n",
       "      <td>B002QWP89S</td>\n",
       "      <td>A17TDUBB4Z1PEC</td>\n",
       "      <td>jaded_green</td>\n",
       "      <td>1</td>\n",
       "      <td>1</td>\n",
       "      <td>5</td>\n",
       "      <td>2011-10-14</td>\n",
       "      <td>genuine Greenies best price</td>\n",
       "      <td>These are genuine Greenies product, not a knoc...</td>\n",
       "    </tr>\n",
       "    <tr>\n",
       "      <th>20984</th>\n",
       "      <td>20985</td>\n",
       "      <td>B002QWP89S</td>\n",
       "      <td>ABQH3WAWMSMBH</td>\n",
       "      <td>tenisbrat87</td>\n",
       "      <td>1</td>\n",
       "      <td>1</td>\n",
       "      <td>5</td>\n",
       "      <td>2011-09-28</td>\n",
       "      <td>Perfect for our little doggies</td>\n",
       "      <td>Our dogs love Greenies, but of course, which d...</td>\n",
       "    </tr>\n",
       "    <tr>\n",
       "      <th>20985</th>\n",
       "      <td>20986</td>\n",
       "      <td>B002QWP89S</td>\n",
       "      <td>AVTY5M74VA1BJ</td>\n",
       "      <td>tarotqueen</td>\n",
       "      <td>1</td>\n",
       "      <td>1</td>\n",
       "      <td>5</td>\n",
       "      <td>2011-09-24</td>\n",
       "      <td>dogs love greenies</td>\n",
       "      <td>What can I say, dogs love greenies. They begg ...</td>\n",
       "    </tr>\n",
       "    <tr>\n",
       "      <th>20986</th>\n",
       "      <td>20987</td>\n",
       "      <td>B002QWP89S</td>\n",
       "      <td>A13TNN54ZEAUB1</td>\n",
       "      <td>dcz2221</td>\n",
       "      <td>1</td>\n",
       "      <td>1</td>\n",
       "      <td>5</td>\n",
       "      <td>2011-09-23</td>\n",
       "      <td>Greenies review</td>\n",
       "      <td>This review is for a box of Greenies Lite for ...</td>\n",
       "    </tr>\n",
       "    <tr>\n",
       "      <th>...</th>\n",
       "      <td>...</td>\n",
       "      <td>...</td>\n",
       "      <td>...</td>\n",
       "      <td>...</td>\n",
       "      <td>...</td>\n",
       "      <td>...</td>\n",
       "      <td>...</td>\n",
       "      <td>...</td>\n",
       "      <td>...</td>\n",
       "      <td>...</td>\n",
       "    </tr>\n",
       "    <tr>\n",
       "      <th>563878</th>\n",
       "      <td>563879</td>\n",
       "      <td>B007JFMH8M</td>\n",
       "      <td>A366PSH7KFLRPB</td>\n",
       "      <td>TheRosySnail</td>\n",
       "      <td>0</td>\n",
       "      <td>0</td>\n",
       "      <td>5</td>\n",
       "      <td>2012-07-29</td>\n",
       "      <td>Yummy!</td>\n",
       "      <td>I loved these cookies and so did my kids. You ...</td>\n",
       "    </tr>\n",
       "    <tr>\n",
       "      <th>563879</th>\n",
       "      <td>563880</td>\n",
       "      <td>B007JFMH8M</td>\n",
       "      <td>A2KV6EYQPKJRR5</td>\n",
       "      <td>Kelley</td>\n",
       "      <td>0</td>\n",
       "      <td>0</td>\n",
       "      <td>5</td>\n",
       "      <td>2012-07-28</td>\n",
       "      <td>Quaker Soft Baked Cookies</td>\n",
       "      <td>This is a great tasting cookie. It is very sof...</td>\n",
       "    </tr>\n",
       "    <tr>\n",
       "      <th>563880</th>\n",
       "      <td>563881</td>\n",
       "      <td>B007JFMH8M</td>\n",
       "      <td>A3O7REI0OSV89M</td>\n",
       "      <td>Esme</td>\n",
       "      <td>0</td>\n",
       "      <td>0</td>\n",
       "      <td>4</td>\n",
       "      <td>2012-07-28</td>\n",
       "      <td>Delicious!</td>\n",
       "      <td>These are great for a quick snack! They are sa...</td>\n",
       "    </tr>\n",
       "    <tr>\n",
       "      <th>563881</th>\n",
       "      <td>563882</td>\n",
       "      <td>B007JFMH8M</td>\n",
       "      <td>A9JS5GQQ6GIQT</td>\n",
       "      <td>Syne</td>\n",
       "      <td>0</td>\n",
       "      <td>0</td>\n",
       "      <td>5</td>\n",
       "      <td>2012-07-28</td>\n",
       "      <td>yummy</td>\n",
       "      <td>I love the Quaker soft baked cookies.  The rea...</td>\n",
       "    </tr>\n",
       "    <tr>\n",
       "      <th>563882</th>\n",
       "      <td>563883</td>\n",
       "      <td>B007JFMH8M</td>\n",
       "      <td>AMAVEZAGCH52H</td>\n",
       "      <td>Tangela</td>\n",
       "      <td>0</td>\n",
       "      <td>0</td>\n",
       "      <td>5</td>\n",
       "      <td>2012-07-28</td>\n",
       "      <td>Quaker Soft Baked Cookie</td>\n",
       "      <td>This cookie is really good and works really we...</td>\n",
       "    </tr>\n",
       "  </tbody>\n",
       "</table>\n",
       "<p>6504 rows × 10 columns</p>\n",
       "</div>"
      ],
      "text/plain": [
       "            Id   ProductId          UserId             ProfileName  \\\n",
       "20982    20983  B002QWP89S  A21U4DR8M6I9QN  K. M Merrill \"justine\"   \n",
       "20983    20984  B002QWP89S  A17TDUBB4Z1PEC             jaded_green   \n",
       "20984    20985  B002QWP89S   ABQH3WAWMSMBH             tenisbrat87   \n",
       "20985    20986  B002QWP89S   AVTY5M74VA1BJ              tarotqueen   \n",
       "20986    20987  B002QWP89S  A13TNN54ZEAUB1                 dcz2221   \n",
       "...        ...         ...             ...                     ...   \n",
       "563878  563879  B007JFMH8M  A366PSH7KFLRPB            TheRosySnail   \n",
       "563879  563880  B007JFMH8M  A2KV6EYQPKJRR5                  Kelley   \n",
       "563880  563881  B007JFMH8M  A3O7REI0OSV89M                    Esme   \n",
       "563881  563882  B007JFMH8M   A9JS5GQQ6GIQT                    Syne   \n",
       "563882  563883  B007JFMH8M   AMAVEZAGCH52H                 Tangela   \n",
       "\n",
       "        HelpfulnessNumerator  HelpfulnessDenominator  Score       Time  \\\n",
       "20982                      1                       1      5 2011-10-18   \n",
       "20983                      1                       1      5 2011-10-14   \n",
       "20984                      1                       1      5 2011-09-28   \n",
       "20985                      1                       1      5 2011-09-24   \n",
       "20986                      1                       1      5 2011-09-23   \n",
       "...                      ...                     ...    ...        ...   \n",
       "563878                     0                       0      5 2012-07-29   \n",
       "563879                     0                       0      5 2012-07-28   \n",
       "563880                     0                       0      4 2012-07-28   \n",
       "563881                     0                       0      5 2012-07-28   \n",
       "563882                     0                       0      5 2012-07-28   \n",
       "\n",
       "                                                Summary  \\\n",
       "20982   addictive! but works for night coughing in dogs   \n",
       "20983                       genuine Greenies best price   \n",
       "20984                    Perfect for our little doggies   \n",
       "20985                                dogs love greenies   \n",
       "20986                                   Greenies review   \n",
       "...                                                 ...   \n",
       "563878                                           Yummy!   \n",
       "563879                        Quaker Soft Baked Cookies   \n",
       "563880                                       Delicious!   \n",
       "563881                                            yummy   \n",
       "563882                         Quaker Soft Baked Cookie   \n",
       "\n",
       "                                                     Text  \n",
       "20982   my 12 year old sheltie has chronic brochotitis...  \n",
       "20983   These are genuine Greenies product, not a knoc...  \n",
       "20984   Our dogs love Greenies, but of course, which d...  \n",
       "20985   What can I say, dogs love greenies. They begg ...  \n",
       "20986   This review is for a box of Greenies Lite for ...  \n",
       "...                                                   ...  \n",
       "563878  I loved these cookies and so did my kids. You ...  \n",
       "563879  This is a great tasting cookie. It is very sof...  \n",
       "563880  These are great for a quick snack! They are sa...  \n",
       "563881  I love the Quaker soft baked cookies.  The rea...  \n",
       "563882  This cookie is really good and works really we...  \n",
       "\n",
       "[6504 rows x 10 columns]"
      ]
     },
     "execution_count": 44,
     "metadata": {},
     "output_type": "execute_result"
    }
   ],
   "source": [
    "fre_prd_df = data[data['ProductId'].isin(frequent_prd_ids)]\n",
    "fre_prd_df"
   ]
  },
  {
   "cell_type": "code",
   "execution_count": 45,
   "id": "3588c2d0-cc79-428b-bb57-820d6a1ed24c",
   "metadata": {},
   "outputs": [
    {
     "data": {
      "text/plain": [
       "Index(['Id', 'ProductId', 'UserId', 'ProfileName', 'HelpfulnessNumerator',\n",
       "       'HelpfulnessDenominator', 'Score', 'Time', 'Summary', 'Text'],\n",
       "      dtype='object')"
      ]
     },
     "execution_count": 45,
     "metadata": {},
     "output_type": "execute_result"
    }
   ],
   "source": [
    "fre_prd_df.columns"
   ]
  },
  {
   "cell_type": "code",
   "execution_count": 46,
   "id": "4436beb3-9e37-4e44-ae8f-d14bac937cf0",
   "metadata": {},
   "outputs": [
    {
     "data": {
      "text/plain": [
       "<Axes: xlabel='count', ylabel='ProductId'>"
      ]
     },
     "execution_count": 46,
     "metadata": {},
     "output_type": "execute_result"
    },
    {
     "data": {
      "image/png": "[encoded data removed]",
      "text/plain": [
       "<Figure size 640x480 with 1 Axes>"
      ]
     },
     "metadata": {},
     "output_type": "display_data"
    }
   ],
   "source": [
    "sns.countplot(y='ProductId', data = fre_prd_df, hue='Score')"
   ]
  },
  {
   "cell_type": "markdown",
   "id": "51e21d2a-d1eb-4a9a-bd53-6234a5cae254",
   "metadata": {
    "jp-MarkdownHeadingCollapsed": true
   },
   "source": [
    "# 32 - Understanding Behaviours of Amazon Users"
   ]
  },
  {
   "cell_type": "code",
   "execution_count": 47,
   "id": "ff0b6b0a-213d-454c-8736-64039fdbaa07",
   "metadata": {},
   "outputs": [
    {
     "data": {
      "text/plain": [
       "Index(['Id', 'ProductId', 'UserId', 'ProfileName', 'HelpfulnessNumerator',\n",
       "       'HelpfulnessDenominator', 'Score', 'Time', 'Summary', 'Text'],\n",
       "      dtype='object')"
      ]
     },
     "execution_count": 47,
     "metadata": {},
     "output_type": "execute_result"
    }
   ],
   "source": [
    "data.columns"
   ]
  },
  {
   "cell_type": "code",
   "execution_count": 48,
   "id": "c183c6ae-82cf-4703-b0b7-ca0a1da6951c",
   "metadata": {},
   "outputs": [
    {
     "data": {
      "text/plain": [
       "UserId\n",
       "AY12DBB0U420B     329\n",
       "A3OXHLG6DIBRW8    278\n",
       "A281NPSIMI1C2R    259\n",
       "A1YUL9PCJR3JTY    214\n",
       "A1Z54EM24Y40LL    211\n",
       "                 ... \n",
       "A24LQ099X444C1      1\n",
       "AOA5NLHK4LFN4       1\n",
       "A2U9I7BWEQ5VKD      1\n",
       "A3JDPYCTUC6Q6I      1\n",
       "A1M0RE3HQ9VS3M      1\n",
       "Name: count, Length: 256059, dtype: int64"
      ]
     },
     "execution_count": 48,
     "metadata": {},
     "output_type": "execute_result"
    }
   ],
   "source": [
    "x = data['UserId'].value_counts()\n",
    "x"
   ]
  },
  {
   "cell_type": "code",
   "execution_count": 49,
   "id": "e732b409-6148-4422-8a54-558abcb589fe",
   "metadata": {},
   "outputs": [
    {
     "data": {
      "text/plain": [
       "pandas.core.series.Series"
      ]
     },
     "execution_count": 49,
     "metadata": {},
     "output_type": "execute_result"
    }
   ],
   "source": [
    "type(x)"
   ]
  },
  {
   "cell_type": "code",
   "execution_count": 50,
   "id": "8e84af8d-2938-474f-a43e-776597e04de0",
   "metadata": {},
   "outputs": [],
   "source": [
    "data['viewer_type'] = data['UserId'].apply(lambda user: \"Frequent\" if x[user]>50 else \"Not frequent\")"
   ]
  },
  {
   "cell_type": "code",
   "execution_count": 51,
   "id": "cc466b31-6c8d-4d23-aedb-120e8a356b17",
   "metadata": {},
   "outputs": [
    {
     "data": {
      "application/vnd.microsoft.datawrangler.viewer.v0+json": {
       "columns": [
        {
         "name": "index",
         "rawType": "int64",
         "type": "integer"
        },
        {
         "name": "Id",
         "rawType": "int64",
         "type": "integer"
        },
        {
         "name": "ProductId",
         "rawType": "object",
         "type": "string"
        },
        {
         "name": "UserId",
         "rawType": "object",
         "type": "string"
        },
        {
         "name": "ProfileName",
         "rawType": "object",
         "type": "string"
        },
        {
         "name": "HelpfulnessNumerator",
         "rawType": "int64",
         "type": "integer"
        },
        {
         "name": "HelpfulnessDenominator",
         "rawType": "int64",
         "type": "integer"
        },
        {
         "name": "Score",
         "rawType": "int64",
         "type": "integer"
        },
        {
         "name": "Time",
         "rawType": "datetime64[ns]",
         "type": "datetime"
        },
        {
         "name": "Summary",
         "rawType": "object",
         "type": "string"
        },
        {
         "name": "Text",
         "rawType": "object",
         "type": "string"
        },
        {
         "name": "viewer_type",
         "rawType": "object",
         "type": "string"
        }
       ],
       "conversionMethod": "pd.DataFrame",
       "ref": "68d83e9a-247f-4aa4-95b8-f060c9a32b3e",
       "rows": [
        [
         "0",
         "1",
         "B001E4KFG0",
         "A3SGXH7AUHU8GW",
         "delmartian",
         "1",
         "1",
         "5",
         "2011-04-27 00:00:00",
         "Good Quality Dog Food",
         "I have bought several of the Vitality canned dog food products and have found them all to be of good quality. The product looks more like a stew than a processed meat and it smells better. My Labrador is finicky and she appreciates this product better than  most.",
         "Not frequent"
        ],
        [
         "1",
         "2",
         "B00813GRG4",
         "A1D87F6ZCVE5NK",
         "dll pa",
         "0",
         "0",
         "1",
         "2012-09-07 00:00:00",
         "Not as Advertised",
         "Product arrived labeled as Jumbo Salted Peanuts...the peanuts were actually small sized unsalted. Not sure if this was an error or if the vendor intended to represent the product as \"Jumbo\".",
         "Not frequent"
        ]
       ],
       "shape": {
        "columns": 11,
        "rows": 2
       }
      },
      "text/html": [
       "<div>\n",
       "<style scoped>\n",
       "    .dataframe tbody tr th:only-of-type {\n",
       "        vertical-align: middle;\n",
       "    }\n",
       "\n",
       "    .dataframe tbody tr th {\n",
       "        vertical-align: top;\n",
       "    }\n",
       "\n",
       "    .dataframe thead th {\n",
       "        text-align: right;\n",
       "    }\n",
       "</style>\n",
       "<table border=\"1\" class=\"dataframe\">\n",
       "  <thead>\n",
       "    <tr style=\"text-align: right;\">\n",
       "      <th></th>\n",
       "      <th>Id</th>\n",
       "      <th>ProductId</th>\n",
       "      <th>UserId</th>\n",
       "      <th>ProfileName</th>\n",
       "      <th>HelpfulnessNumerator</th>\n",
       "      <th>HelpfulnessDenominator</th>\n",
       "      <th>Score</th>\n",
       "      <th>Time</th>\n",
       "      <th>Summary</th>\n",
       "      <th>Text</th>\n",
       "      <th>viewer_type</th>\n",
       "    </tr>\n",
       "  </thead>\n",
       "  <tbody>\n",
       "    <tr>\n",
       "      <th>0</th>\n",
       "      <td>1</td>\n",
       "      <td>B001E4KFG0</td>\n",
       "      <td>A3SGXH7AUHU8GW</td>\n",
       "      <td>delmartian</td>\n",
       "      <td>1</td>\n",
       "      <td>1</td>\n",
       "      <td>5</td>\n",
       "      <td>2011-04-27</td>\n",
       "      <td>Good Quality Dog Food</td>\n",
       "      <td>I have bought several of the Vitality canned d...</td>\n",
       "      <td>Not frequent</td>\n",
       "    </tr>\n",
       "    <tr>\n",
       "      <th>1</th>\n",
       "      <td>2</td>\n",
       "      <td>B00813GRG4</td>\n",
       "      <td>A1D87F6ZCVE5NK</td>\n",
       "      <td>dll pa</td>\n",
       "      <td>0</td>\n",
       "      <td>0</td>\n",
       "      <td>1</td>\n",
       "      <td>2012-09-07</td>\n",
       "      <td>Not as Advertised</td>\n",
       "      <td>Product arrived labeled as Jumbo Salted Peanut...</td>\n",
       "      <td>Not frequent</td>\n",
       "    </tr>\n",
       "  </tbody>\n",
       "</table>\n",
       "</div>"
      ],
      "text/plain": [
       "   Id   ProductId          UserId ProfileName  HelpfulnessNumerator  \\\n",
       "0   1  B001E4KFG0  A3SGXH7AUHU8GW  delmartian                     1   \n",
       "1   2  B00813GRG4  A1D87F6ZCVE5NK      dll pa                     0   \n",
       "\n",
       "   HelpfulnessDenominator  Score       Time                Summary  \\\n",
       "0                       1      5 2011-04-27  Good Quality Dog Food   \n",
       "1                       0      1 2012-09-07      Not as Advertised   \n",
       "\n",
       "                                                Text   viewer_type  \n",
       "0  I have bought several of the Vitality canned d...  Not frequent  \n",
       "1  Product arrived labeled as Jumbo Salted Peanut...  Not frequent  "
      ]
     },
     "execution_count": 51,
     "metadata": {},
     "output_type": "execute_result"
    }
   ],
   "source": [
    "data.head(2)"
   ]
  },
  {
   "cell_type": "code",
   "execution_count": 52,
   "id": "b11fabbc-552f-4565-9cce-e3dc8e66dc63",
   "metadata": {},
   "outputs": [
    {
     "data": {
      "text/plain": [
       "array(['Not frequent', 'Frequent'], dtype=object)"
      ]
     },
     "execution_count": 52,
     "metadata": {},
     "output_type": "execute_result"
    }
   ],
   "source": [
    "data['viewer_type'].unique()"
   ]
  },
  {
   "cell_type": "code",
   "execution_count": 53,
   "id": "466d50f2-2fa6-4912-9e01-eccaa1a3fc64",
   "metadata": {},
   "outputs": [],
   "source": [
    "not_frequent_df = data[data['viewer_type']=='Not frequent']\n",
    "frequent_df = data[data['viewer_type']=='Frequent']"
   ]
  },
  {
   "cell_type": "code",
   "execution_count": 54,
   "id": "6f3e1c53-d68a-40f5-b1f2-cc3361893869",
   "metadata": {},
   "outputs": [
    {
     "data": {
      "text/plain": [
       "<Axes: xlabel='Score'>"
      ]
     },
     "execution_count": 54,
     "metadata": {},
     "output_type": "execute_result"
    },
    {
     "data": {
      "image/png": "[encoded data removed]",
      "text/plain": [
       "<Figure size 640x480 with 1 Axes>"
      ]
     },
     "metadata": {},
     "output_type": "display_data"
    }
   ],
   "source": [
    "frequent_df['Score'].value_counts().plot(kind='bar')"
   ]
  },
  {
   "cell_type": "code",
   "execution_count": 55,
   "id": "48cfd556-94e7-4a7e-bc0c-b12933da8420",
   "metadata": {},
   "outputs": [
    {
     "data": {
      "text/plain": [
       "Score\n",
       "5    61.605044\n",
       "4    21.147681\n",
       "3     9.585381\n",
       "2     3.932464\n",
       "1     3.729429\n",
       "Name: count, dtype: float64"
      ]
     },
     "execution_count": 55,
     "metadata": {},
     "output_type": "execute_result"
    }
   ],
   "source": [
    "frequent_df['Score'].value_counts()/len(frequent_df)*100"
   ]
  },
  {
   "cell_type": "code",
   "execution_count": 56,
   "id": "2a6d982a-4a3c-4b16-b160-b74d19887057",
   "metadata": {},
   "outputs": [
    {
     "data": {
      "text/plain": [
       "Score\n",
       "5    63.757986\n",
       "4    14.071191\n",
       "1     9.349850\n",
       "3     7.507547\n",
       "2     5.313426\n",
       "Name: count, dtype: float64"
      ]
     },
     "execution_count": 56,
     "metadata": {},
     "output_type": "execute_result"
    }
   ],
   "source": [
    "not_frequent_df['Score'].value_counts()/len(not_frequent_df)*100"
   ]
  },
  {
   "cell_type": "markdown",
   "id": "a32b8149-602f-4388-a1c7-0f2adaf1cce8",
   "metadata": {},
   "source": [
    "# 33 - Analysing your frequent Users"
   ]
  },
  {
   "cell_type": "code",
   "execution_count": 57,
   "id": "a4af6e79-e86b-4936-8498-26b77519fb29",
   "metadata": {},
   "outputs": [
    {
     "data": {
      "text/plain": [
       "Index(['Id', 'ProductId', 'UserId', 'ProfileName', 'HelpfulnessNumerator',\n",
       "       'HelpfulnessDenominator', 'Score', 'Time', 'Summary', 'Text',\n",
       "       'viewer_type'],\n",
       "      dtype='object')"
      ]
     },
     "execution_count": 57,
     "metadata": {},
     "output_type": "execute_result"
    }
   ],
   "source": [
    "data.columns"
   ]
  },
  {
   "cell_type": "code",
   "execution_count": 58,
   "id": "51456ef3-e45d-42cc-a798-1f0d7f01642f",
   "metadata": {},
   "outputs": [],
   "source": [
    "def calculate_length(text):\n",
    "    return len(text.split(' '))"
   ]
  },
  {
   "cell_type": "code",
   "execution_count": 65,
   "id": "815958f2",
   "metadata": {},
   "outputs": [],
   "source": [
    "not_frequent_df = data[data['viewer_type']=='Not frequent']\n",
    "frequent_df = data[data['viewer_type']=='Frequent']"
   ]
  },
  {
   "cell_type": "code",
   "execution_count": 67,
   "id": "27bad9cd-3dc3-4759-82ce-ad44a4fb79b2",
   "metadata": {},
   "outputs": [],
   "source": [
    "frequent_df['Text_length'] = data['Text'].apply(calculate_length)\n",
    "not_frequent_df['Text_length'] = data['Text'].apply(calculate_length)"
   ]
  },
  {
   "cell_type": "code",
   "execution_count": 68,
   "id": "e2d71736-6715-4dab-b46f-70a39a853ef7",
   "metadata": {},
   "outputs": [
    {
     "data": {
      "text/plain": [
       "{'whiskers': [<matplotlib.lines.Line2D at 0x7f63d8d9bed0>,\n",
       "  <matplotlib.lines.Line2D at 0x7f63da0a4050>],\n",
       " 'caps': [<matplotlib.lines.Line2D at 0x7f63da0a4190>,\n",
       "  <matplotlib.lines.Line2D at 0x7f63da0a42d0>],\n",
       " 'boxes': [<matplotlib.lines.Line2D at 0x7f63d8d9bd90>],\n",
       " 'medians': [<matplotlib.lines.Line2D at 0x7f63da0a4410>],\n",
       " 'fliers': [<matplotlib.lines.Line2D at 0x7f63da0a4550>],\n",
       " 'means': []}"
      ]
     },
     "execution_count": 68,
     "metadata": {},
     "output_type": "execute_result"
    },
    {
     "data": {
      "image/png": "[encoded data removed]",
      "text/plain": [
       "<Figure size 640x480 with 2 Axes>"
      ]
     },
     "metadata": {},
     "output_type": "display_data"
    }
   ],
   "source": [
    "fig = plt.figure()\n",
    "ax1 = fig.add_subplot(121)\n",
    "ax1.boxplot(frequent_df['Text_length'])\n",
    "ax1.set_xlabel('Freq of freq ')\n",
    "\n",
    "ax2 = fig.add_subplot(122)\n",
    "ax2.boxplot(not_frequent_df['Text_length'])"
   ]
  },
  {
   "cell_type": "markdown",
   "id": "094579b6-b6f0-49de-b974-709d290b3c24",
   "metadata": {},
   "source": [
    "# 34 - Perform Sentiment Analysis on Data"
   ]
  },
  {
   "cell_type": "code",
   "execution_count": 72,
   "id": "e074d79d-0672-47bc-b44f-de0dca244284",
   "metadata": {},
   "outputs": [
    {
     "data": {
      "text/plain": [
       "0.7"
      ]
     },
     "execution_count": 72,
     "metadata": {},
     "output_type": "execute_result"
    }
   ],
   "source": [
    "TextBlob('Good quality').sentiment.polarity"
   ]
  },
  {
   "cell_type": "code",
   "execution_count": 73,
   "id": "2b937d8b-6585-4c01-9d87-cde8c23591fe",
   "metadata": {},
   "outputs": [],
   "source": [
    "sample = data[0:50000]"
   ]
  },
  {
   "cell_type": "code",
   "execution_count": 74,
   "id": "bdece9d1-52cd-41e0-9741-b5aca9438f41",
   "metadata": {},
   "outputs": [],
   "source": [
    "polarity = []\n",
    "for text in sample['Summary']:\n",
    "    try:\n",
    "        polarity.append(TextBlob(text).sentiment.polarity)\n",
    "    except:\n",
    "        polarity.append(0)"
   ]
  },
  {
   "cell_type": "code",
   "execution_count": 75,
   "id": "9ddf2543-3a39-4dda-a372-887e5e6f59ac",
   "metadata": {},
   "outputs": [],
   "source": [
    "sample['polarity'] = polarity"
   ]
  },
  {
   "cell_type": "code",
   "execution_count": 76,
   "id": "aa39a6ea-e08a-4df5-928c-9ea76d0b0902",
   "metadata": {},
   "outputs": [
    {
     "data": {
      "application/vnd.microsoft.datawrangler.viewer.v0+json": {
       "columns": [
        {
         "name": "index",
         "rawType": "int64",
         "type": "integer"
        },
        {
         "name": "Id",
         "rawType": "int64",
         "type": "integer"
        },
        {
         "name": "ProductId",
         "rawType": "object",
         "type": "string"
        },
        {
         "name": "UserId",
         "rawType": "object",
         "type": "string"
        },
        {
         "name": "ProfileName",
         "rawType": "object",
         "type": "string"
        },
        {
         "name": "HelpfulnessNumerator",
         "rawType": "int64",
         "type": "integer"
        },
        {
         "name": "HelpfulnessDenominator",
         "rawType": "int64",
         "type": "integer"
        },
        {
         "name": "Score",
         "rawType": "int64",
         "type": "integer"
        },
        {
         "name": "Time",
         "rawType": "datetime64[ns]",
         "type": "datetime"
        },
        {
         "name": "Summary",
         "rawType": "object",
         "type": "string"
        },
        {
         "name": "Text",
         "rawType": "object",
         "type": "string"
        },
        {
         "name": "viewer_type",
         "rawType": "object",
         "type": "string"
        },
        {
         "name": "polarity",
         "rawType": "float64",
         "type": "float"
        }
       ],
       "conversionMethod": "pd.DataFrame",
       "ref": "70b7e3a9-d378-4d74-aa28-8c0f7d2dde8c",
       "rows": [
        [
         "0",
         "1",
         "B001E4KFG0",
         "A3SGXH7AUHU8GW",
         "delmartian",
         "1",
         "1",
         "5",
         "2011-04-27 00:00:00",
         "Good Quality Dog Food",
         "I have bought several of the Vitality canned dog food products and have found them all to be of good quality. The product looks more like a stew than a processed meat and it smells better. My Labrador is finicky and she appreciates this product better than  most.",
         "Not frequent",
         "0.7"
        ],
        [
         "1",
         "2",
         "B00813GRG4",
         "A1D87F6ZCVE5NK",
         "dll pa",
         "0",
         "0",
         "1",
         "2012-09-07 00:00:00",
         "Not as Advertised",
         "Product arrived labeled as Jumbo Salted Peanuts...the peanuts were actually small sized unsalted. Not sure if this was an error or if the vendor intended to represent the product as \"Jumbo\".",
         "Not frequent",
         "0.0"
        ],
        [
         "2",
         "3",
         "B000LQOCH0",
         "ABXLMWJIXXAIN",
         "Natalia Corres \"Natalia Corres\"",
         "1",
         "1",
         "4",
         "2008-08-18 00:00:00",
         "\"Delight\" says it all",
         "This is a confection that has been around a few centuries.  It is a light, pillowy citrus gelatin with nuts - in this case Filberts. And it is cut into tiny squares and then liberally coated with powdered sugar.  And it is a tiny mouthful of heaven.  Not too chewy, and very flavorful.  I highly recommend this yummy treat.  If you are familiar with the story of C.S. Lewis' \"The Lion, The Witch, and The Wardrobe\" - this is the treat that seduces Edmund into selling out his Brother and Sisters to the Witch.",
         "Not frequent",
         "0.0"
        ]
       ],
       "shape": {
        "columns": 12,
        "rows": 3
       }
      },
      "text/html": [
       "<div>\n",
       "<style scoped>\n",
       "    .dataframe tbody tr th:only-of-type {\n",
       "        vertical-align: middle;\n",
       "    }\n",
       "\n",
       "    .dataframe tbody tr th {\n",
       "        vertical-align: top;\n",
       "    }\n",
       "\n",
       "    .dataframe thead th {\n",
       "        text-align: right;\n",
       "    }\n",
       "</style>\n",
       "<table border=\"1\" class=\"dataframe\">\n",
       "  <thead>\n",
       "    <tr style=\"text-align: right;\">\n",
       "      <th></th>\n",
       "      <th>Id</th>\n",
       "      <th>ProductId</th>\n",
       "      <th>UserId</th>\n",
       "      <th>ProfileName</th>\n",
       "      <th>HelpfulnessNumerator</th>\n",
       "      <th>HelpfulnessDenominator</th>\n",
       "      <th>Score</th>\n",
       "      <th>Time</th>\n",
       "      <th>Summary</th>\n",
       "      <th>Text</th>\n",
       "      <th>viewer_type</th>\n",
       "      <th>polarity</th>\n",
       "    </tr>\n",
       "  </thead>\n",
       "  <tbody>\n",
       "    <tr>\n",
       "      <th>0</th>\n",
       "      <td>1</td>\n",
       "      <td>B001E4KFG0</td>\n",
       "      <td>A3SGXH7AUHU8GW</td>\n",
       "      <td>delmartian</td>\n",
       "      <td>1</td>\n",
       "      <td>1</td>\n",
       "      <td>5</td>\n",
       "      <td>2011-04-27</td>\n",
       "      <td>Good Quality Dog Food</td>\n",
       "      <td>I have bought several of the Vitality canned d...</td>\n",
       "      <td>Not frequent</td>\n",
       "      <td>0.7</td>\n",
       "    </tr>\n",
       "    <tr>\n",
       "      <th>1</th>\n",
       "      <td>2</td>\n",
       "      <td>B00813GRG4</td>\n",
       "      <td>A1D87F6ZCVE5NK</td>\n",
       "      <td>dll pa</td>\n",
       "      <td>0</td>\n",
       "      <td>0</td>\n",
       "      <td>1</td>\n",
       "      <td>2012-09-07</td>\n",
       "      <td>Not as Advertised</td>\n",
       "      <td>Product arrived labeled as Jumbo Salted Peanut...</td>\n",
       "      <td>Not frequent</td>\n",
       "      <td>0.0</td>\n",
       "    </tr>\n",
       "    <tr>\n",
       "      <th>2</th>\n",
       "      <td>3</td>\n",
       "      <td>B000LQOCH0</td>\n",
       "      <td>ABXLMWJIXXAIN</td>\n",
       "      <td>Natalia Corres \"Natalia Corres\"</td>\n",
       "      <td>1</td>\n",
       "      <td>1</td>\n",
       "      <td>4</td>\n",
       "      <td>2008-08-18</td>\n",
       "      <td>\"Delight\" says it all</td>\n",
       "      <td>This is a confection that has been around a fe...</td>\n",
       "      <td>Not frequent</td>\n",
       "      <td>0.0</td>\n",
       "    </tr>\n",
       "  </tbody>\n",
       "</table>\n",
       "</div>"
      ],
      "text/plain": [
       "   Id   ProductId          UserId                      ProfileName  \\\n",
       "0   1  B001E4KFG0  A3SGXH7AUHU8GW                       delmartian   \n",
       "1   2  B00813GRG4  A1D87F6ZCVE5NK                           dll pa   \n",
       "2   3  B000LQOCH0   ABXLMWJIXXAIN  Natalia Corres \"Natalia Corres\"   \n",
       "\n",
       "   HelpfulnessNumerator  HelpfulnessDenominator  Score       Time  \\\n",
       "0                     1                       1      5 2011-04-27   \n",
       "1                     0                       0      1 2012-09-07   \n",
       "2                     1                       1      4 2008-08-18   \n",
       "\n",
       "                 Summary                                               Text  \\\n",
       "0  Good Quality Dog Food  I have bought several of the Vitality canned d...   \n",
       "1      Not as Advertised  Product arrived labeled as Jumbo Salted Peanut...   \n",
       "2  \"Delight\" says it all  This is a confection that has been around a fe...   \n",
       "\n",
       "    viewer_type  polarity  \n",
       "0  Not frequent       0.7  \n",
       "1  Not frequent       0.0  \n",
       "2  Not frequent       0.0  "
      ]
     },
     "execution_count": 76,
     "metadata": {},
     "output_type": "execute_result"
    }
   ],
   "source": [
    "sample.head(3)"
   ]
  },
  {
   "cell_type": "code",
   "execution_count": 77,
   "id": "8b68994e-3e53-44f7-a042-73ac004e0681",
   "metadata": {},
   "outputs": [],
   "source": [
    "sample_negative = sample[sample['polarity']<0]\n",
    "sample_positive= sample[sample['polarity']>0]"
   ]
  },
  {
   "cell_type": "code",
   "execution_count": 78,
   "id": "4c6f4e8f-18a0-4d87-8735-92aece6d9bb6",
   "metadata": {},
   "outputs": [],
   "source": [
    "from collections import Counter"
   ]
  },
  {
   "cell_type": "code",
   "execution_count": 79,
   "id": "33369e86-f423-4688-a2e6-5a454936a2ee",
   "metadata": {},
   "outputs": [
    {
     "data": {
      "text/plain": [
       "[('Disappointed', 44),\n",
       " ('Disappointing', 32),\n",
       " ('Bland', 18),\n",
       " ('Awful', 17),\n",
       " ('Not what I expected', 17),\n",
       " ('Terrible', 15),\n",
       " ('Horrible', 15),\n",
       " ('disappointed', 15),\n",
       " ('Disgusting', 12),\n",
       " ('not good', 11)]"
      ]
     },
     "execution_count": 79,
     "metadata": {},
     "output_type": "execute_result"
    }
   ],
   "source": [
    "Counter(sample_negative['Summary']).most_common(10)"
   ]
  },
  {
   "cell_type": "code",
   "execution_count": 80,
   "id": "93b7082c-e1ee-487c-9c9c-eb9a90b44766",
   "metadata": {},
   "outputs": [
    {
     "data": {
      "text/plain": [
       "[('Delicious!', 208),\n",
       " ('Delicious', 204),\n",
       " ('Great product', 100),\n",
       " ('Excellent', 85),\n",
       " ('Love it!', 81),\n",
       " ('Great', 81),\n",
       " ('Great Product', 77),\n",
       " ('Great!', 70),\n",
       " ('Good stuff', 51),\n",
       " ('Awesome', 50)]"
      ]
     },
     "execution_count": 80,
     "metadata": {},
     "output_type": "execute_result"
    }
   ],
   "source": [
    "Counter(sample_positive['Summary']).most_common(10)"
   ]
  }
 ],
 "metadata": {
  "kernelspec": {
   "display_name": "pda-zNoVq-ve",
   "language": "python",
   "name": "python3"
  },
  "language_info": {
   "codemirror_mode": {
    "name": "ipython",
    "version": 3
   },
   "file_extension": ".py",
   "mimetype": "text/x-python",
   "name": "python",
   "nbconvert_exporter": "python",
   "pygments_lexer": "ipython3",
   "version": "3.13.3"
  }
 },
 "nbformat": 4,
 "nbformat_minor": 5
}
